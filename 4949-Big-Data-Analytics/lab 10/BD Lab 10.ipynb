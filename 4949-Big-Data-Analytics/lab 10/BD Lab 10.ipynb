{
 "cells": [
  {
   "cell_type": "code",
   "source": [
    "%python\n",
    "from pyspark.sql.functions import spark_partition_id, asc, desc\n",
    "\n",
    "# Show first two rows, as well as id’s and row counts for all partitions in df. \n",
    "def showIdAndRowCount(df, title):\n",
    "  print(\"\\n*** \" + title)\n",
    "  display(df.head(2))\n",
    "  df.rdd.toDF()\\\n",
    "      .withColumn(\"partitionId\", spark_partition_id())\\\n",
    "      .groupBy(\"partitionId\")\\\n",
    "      .count()\\\n",
    "      .orderBy(asc(\"count\"))\\\n",
    "      .show()\n",
    "\n",
    "# Load csv file into a Spark DataFrame. \n",
    "admissionsDf1 = spark.read.csv(\"/FileStore/tables/admissions.csv\", \\\n",
    "inferSchema=True, header=True, multiLine=True, escape='\"')\n",
    "showIdAndRowCount(admissionsDf1, \"admissionsDf1\")\n",
    "\n",
    "# Load JSON file into a Spark DataFrame. \n",
    "admissionsDf2 = spark.read.json(\"/FileStore/tables/admissions.json\")\n",
    "showIdAndRowCount(admissionsDf2, \"admissionsDf2\")\n",
    "\n",
    "# Join both DataFrames into a single Spark DataFrame. Preserve column order.\n",
    "unionDf = admissionsDf1.union(admissionsDf2.select(admissionsDf1.columns))\n",
    "showIdAndRowCount(unionDf, \"unionDf\")\n"
   ],
   "metadata": {
    "application/vnd.databricks.v1+cell": {
     "showTitle": false,
     "cellMetadata": {},
     "nuid": "4f697e19-47c1-428d-8425-fd41553fcd2f",
     "inputWidgets": {},
     "title": ""
    }
   },
   "outputs": [
    {
     "output_type": "stream",
     "name": "stdout",
     "text": [
      "\n*** admissionsDf1\n"
     ]
    },
    {
     "output_type": "display_data",
     "metadata": {
      "application/vnd.databricks.v1+output": {
       "overflow": false,
       "datasetInfos": [],
       "data": [
        [
         780,
         4.0,
         3,
         1
        ],
        [
         750,
         3.9,
         4,
         1
        ]
       ],
       "plotOptions": {
        "displayType": "table",
        "customPlotOptions": {},
        "pivotColumns": null,
        "pivotAggregation": null,
        "xColumns": null,
        "yColumns": null
       },
       "columnCustomDisplayInfos": {},
       "aggType": "",
       "isJsonSchema": true,
       "removedWidgets": [],
       "aggSchema": [],
       "schema": [
        {
         "name": "gmat",
         "type": "\"long\"",
         "metadata": "{}"
        },
        {
         "name": "gpa",
         "type": "\"double\"",
         "metadata": "{}"
        },
        {
         "name": "work_experience",
         "type": "\"long\"",
         "metadata": "{}"
        },
        {
         "name": "admitted",
         "type": "\"long\"",
         "metadata": "{}"
        }
       ],
       "aggError": "",
       "aggData": [],
       "addedWidgets": {},
       "metadata": {},
       "dbfsResultPath": null,
       "type": "table",
       "aggOverflow": false,
       "aggSeriesLimitReached": false,
       "arguments": {}
      }
     },
     "data": {
      "text/html": [
       "<style scoped>\n  .table-result-container {\n    max-height: 300px;\n    overflow: auto;\n  }\n  table, th, td {\n    border: 1px solid black;\n    border-collapse: collapse;\n  }\n  th, td {\n    padding: 5px;\n  }\n  th {\n    text-align: left;\n  }\n</style><div class='table-result-container'><table class='table-result'><thead style='background-color: white'><tr><th>gmat</th><th>gpa</th><th>work_experience</th><th>admitted</th></tr></thead><tbody><tr><td>780</td><td>4.0</td><td>3</td><td>1</td></tr><tr><td>750</td><td>3.9</td><td>4</td><td>1</td></tr></tbody></table></div>"
      ]
     }
    },
    {
     "output_type": "stream",
     "name": "stdout",
     "text": [
      "+-----------+-----+\n|partitionId|count|\n+-----------+-----+\n|          0|   20|\n+-----------+-----+\n\n\n*** admissionsDf2\n"
     ]
    },
    {
     "output_type": "display_data",
     "metadata": {
      "application/vnd.databricks.v1+output": {
       "overflow": false,
       "datasetInfos": [],
       "data": [
        [
         0.0,
         620.0,
         3.3,
         2.0
        ],
        [
         0.0,
         600.0,
         2.0,
         1.0
        ]
       ],
       "plotOptions": {
        "displayType": "table",
        "customPlotOptions": {},
        "pivotColumns": null,
        "pivotAggregation": null,
        "xColumns": null,
        "yColumns": null
       },
       "columnCustomDisplayInfos": {},
       "aggType": "",
       "isJsonSchema": true,
       "removedWidgets": [],
       "aggSchema": [],
       "schema": [
        {
         "name": "admitted",
         "type": "\"double\"",
         "metadata": "{}"
        },
        {
         "name": "gmat",
         "type": "\"double\"",
         "metadata": "{}"
        },
        {
         "name": "gpa",
         "type": "\"double\"",
         "metadata": "{}"
        },
        {
         "name": "work_experience",
         "type": "\"double\"",
         "metadata": "{}"
        }
       ],
       "aggError": "",
       "aggData": [],
       "addedWidgets": {},
       "metadata": {},
       "dbfsResultPath": null,
       "type": "table",
       "aggOverflow": false,
       "aggSeriesLimitReached": false,
       "arguments": {}
      }
     },
     "data": {
      "text/html": [
       "<style scoped>\n  .table-result-container {\n    max-height: 300px;\n    overflow: auto;\n  }\n  table, th, td {\n    border: 1px solid black;\n    border-collapse: collapse;\n  }\n  th, td {\n    padding: 5px;\n  }\n  th {\n    text-align: left;\n  }\n</style><div class='table-result-container'><table class='table-result'><thead style='background-color: white'><tr><th>admitted</th><th>gmat</th><th>gpa</th><th>work_experience</th></tr></thead><tbody><tr><td>0.0</td><td>620.0</td><td>3.3</td><td>2.0</td></tr><tr><td>0.0</td><td>600.0</td><td>2.0</td><td>1.0</td></tr></tbody></table></div>"
      ]
     }
    },
    {
     "output_type": "stream",
     "name": "stdout",
     "text": [
      "+-----------+-----+\n|partitionId|count|\n+-----------+-----+\n|          0|   20|\n+-----------+-----+\n\n\n*** unionDf\n"
     ]
    },
    {
     "output_type": "display_data",
     "metadata": {
      "application/vnd.databricks.v1+output": {
       "overflow": false,
       "datasetInfos": [],
       "data": [
        [
         780.0,
         4.0,
         3.0,
         1.0
        ],
        [
         750.0,
         3.9,
         4.0,
         1.0
        ]
       ],
       "plotOptions": {
        "displayType": "table",
        "customPlotOptions": {},
        "pivotColumns": null,
        "pivotAggregation": null,
        "xColumns": null,
        "yColumns": null
       },
       "columnCustomDisplayInfos": {},
       "aggType": "",
       "isJsonSchema": true,
       "removedWidgets": [],
       "aggSchema": [],
       "schema": [
        {
         "name": "gmat",
         "type": "\"double\"",
         "metadata": "{}"
        },
        {
         "name": "gpa",
         "type": "\"double\"",
         "metadata": "{}"
        },
        {
         "name": "work_experience",
         "type": "\"double\"",
         "metadata": "{}"
        },
        {
         "name": "admitted",
         "type": "\"double\"",
         "metadata": "{}"
        }
       ],
       "aggError": "",
       "aggData": [],
       "addedWidgets": {},
       "metadata": {},
       "dbfsResultPath": null,
       "type": "table",
       "aggOverflow": false,
       "aggSeriesLimitReached": false,
       "arguments": {}
      }
     },
     "data": {
      "text/html": [
       "<style scoped>\n  .table-result-container {\n    max-height: 300px;\n    overflow: auto;\n  }\n  table, th, td {\n    border: 1px solid black;\n    border-collapse: collapse;\n  }\n  th, td {\n    padding: 5px;\n  }\n  th {\n    text-align: left;\n  }\n</style><div class='table-result-container'><table class='table-result'><thead style='background-color: white'><tr><th>gmat</th><th>gpa</th><th>work_experience</th><th>admitted</th></tr></thead><tbody><tr><td>780.0</td><td>4.0</td><td>3.0</td><td>1.0</td></tr><tr><td>750.0</td><td>3.9</td><td>4.0</td><td>1.0</td></tr></tbody></table></div>"
      ]
     }
    },
    {
     "output_type": "stream",
     "name": "stdout",
     "text": [
      "+-----------+-----+\n|partitionId|count|\n+-----------+-----+\n|          0|   20|\n|          1|   20|\n+-----------+-----+\n\n"
     ]
    }
   ],
   "execution_count": 0
  },
  {
   "cell_type": "code",
   "source": [
    "%python\n",
    "from pyspark.ml.classification import LogisticRegression, LogisticRegressionSummary\n",
    "from pyspark.ml.feature import VectorAssembler\n",
    "from pyspark.ml import Pipeline\n",
    "\n",
    "# Use assembler to define feature columns.\n",
    "assembler = VectorAssembler(inputCols=['gmat', 'gpa', 'work_experience'], outputCol=\"features\")\n",
    "\n",
    "# Define logistic regression model with target column.\n",
    "from pyspark.ml.classification import LogisticRegression\n",
    "lr = LogisticRegression(featuresCol='features', labelCol='admitted', maxIter=10)\n",
    "\n",
    "# Build pipeline with feature vector and logistic regression model.\n",
    "pipeline    = Pipeline(stages=[assembler, lr])\n",
    "\n",
    "# Split the Spark DataFrame.\n",
    "train, test = unionDf.randomSplit([0.75, 0.25])\n",
    "\n",
    "# Fit the model with train and predict with test.\n",
    "model       = pipeline.fit(train)\n",
    "predictions = model.transform(test)\n",
    "print(\"\\nShowing prediction DataFrame\")\n",
    "display(predictions)\n"
   ],
   "metadata": {
    "application/vnd.databricks.v1+cell": {
     "showTitle": false,
     "cellMetadata": {},
     "nuid": "d5c68865-e574-4d76-9891-8793505a68e4",
     "inputWidgets": {},
     "title": ""
    }
   },
   "outputs": [
    {
     "output_type": "stream",
     "name": "stdout",
     "text": [
      "\nShowing prediction DataFrame\n"
     ]
    },
    {
     "output_type": "display_data",
     "metadata": {
      "application/vnd.databricks.v1+output": {
       "overflow": false,
       "datasetInfos": [],
       "data": [
        [
         610.0,
         3.0,
         1.0,
         0.0,
         {
          "vectorType": "dense",
          "length": 3,
          "values": [
           610.0,
           3.0,
           1.0
          ]
         },
         {
          "vectorType": "dense",
          "length": 2,
          "values": [
           7.418689510298023,
           -7.418689510298023
          ]
         },
         {
          "vectorType": "dense",
          "length": 2,
          "values": [
           0.9994004248670022,
           5.995751329977983E-4
          ]
         },
         0.0
        ],
        [
         680.0,
         3.3,
         4.0,
         1.0,
         {
          "vectorType": "dense",
          "length": 3,
          "values": [
           680.0,
           3.3,
           4.0
          ]
         },
         {
          "vectorType": "dense",
          "length": 2,
          "values": [
           -5.511582048398353,
           5.511582048398353
          ]
         },
         {
          "vectorType": "dense",
          "length": 2,
          "values": [
           0.004023457698746624,
           0.9959765423012534
          ]
         },
         1.0
        ],
        [
         680.0,
         3.9,
         4.0,
         1.0,
         {
          "vectorType": "dense",
          "length": 3,
          "values": [
           680.0,
           3.9,
           4.0
          ]
         },
         {
          "vectorType": "dense",
          "length": 2,
          "values": [
           -11.208905764956484,
           11.208905764956484
          ]
         },
         {
          "vectorType": "dense",
          "length": 2,
          "values": [
           1.355277387154791E-5,
           0.9999864472261285
          ]
         },
         1.0
        ],
        [
         690.0,
         2.3,
         1.0,
         0.0,
         {
          "vectorType": "dense",
          "length": 3,
          "values": [
           690.0,
           2.3,
           1.0
          ]
         },
         {
          "vectorType": "dense",
          "length": 2,
          "values": [
           8.902319174433273,
           -8.902319174433273
          ]
         },
         {
          "vectorType": "dense",
          "length": 2,
          "values": [
           0.9998639455300616,
           1.3605446993836257E-4
          ]
         },
         0.0
        ],
        [
         710.0,
         3.7,
         5.0,
         1.0,
         {
          "vectorType": "dense",
          "length": 3,
          "values": [
           710.0,
           3.7,
           5.0
          ]
         },
         {
          "vectorType": "dense",
          "length": 2,
          "values": [
           -13.100605093341429,
           13.100605093341429
          ]
         },
         {
          "vectorType": "dense",
          "length": 2,
          "values": [
           2.0439892655330147E-6,
           0.9999979560107345
          ]
         },
         1.0
        ],
        [
         770.0,
         3.3,
         3.0,
         1.0,
         {
          "vectorType": "dense",
          "length": 3,
          "values": [
           770.0,
           3.3,
           3.0
          ]
         },
         {
          "vectorType": "dense",
          "length": 2,
          "values": [
           -9.465646822267885,
           9.465646822267885
          ]
         },
         {
          "vectorType": "dense",
          "length": 2,
          "values": [
           7.746190528413678E-5,
           0.9999225380947159
          ]
         },
         1.0
        ],
        [
         580.0,
         3.3,
         1.0,
         0.0,
         {
          "vectorType": "dense",
          "length": 3,
          "values": [
           580.0,
           3.3,
           1.0
          ]
         },
         {
          "vectorType": "dense",
          "length": 2,
          "values": [
           6.506245653962424,
           -6.506245653962424
          ]
         },
         {
          "vectorType": "dense",
          "length": 2,
          "values": [
           0.9985081504460395,
           0.0014918495539605336
          ]
         },
         0.0
        ],
        [
         590.0,
         1.7,
         4.0,
         0.0,
         {
          "vectorType": "dense",
          "length": 3,
          "values": [
           590.0,
           1.7,
           4.0
          ]
         },
         {
          "vectorType": "dense",
          "length": 2,
          "values": [
           15.489935201587059,
           -15.489935201587059
          ]
         },
         {
          "vectorType": "dense",
          "length": 2,
          "values": [
           0.9999998125840557,
           1.8741594431936903E-7
          ]
         },
         0.0
        ],
        [
         620.0,
         2.7,
         2.0,
         0.0,
         {
          "vectorType": "dense",
          "length": 3,
          "values": [
           620.0,
           2.7,
           2.0
          ]
         },
         {
          "vectorType": "dense",
          "length": 2,
          "values": [
           7.767356135968413,
           -7.767356135968413
          ]
         },
         {
          "vectorType": "dense",
          "length": 2,
          "values": [
           0.9995768481150992,
           4.231518849008298E-4
          ]
         },
         0.0
        ],
        [
         620.0,
         3.3,
         2.0,
         0.0,
         {
          "vectorType": "dense",
          "length": 3,
          "values": [
           620.0,
           3.3,
           2.0
          ]
         },
         {
          "vectorType": "dense",
          "length": 2,
          "values": [
           2.070032419410296,
           -2.070032419410296
          ]
         },
         {
          "vectorType": "dense",
          "length": 2,
          "values": [
           0.8879561868906117,
           0.11204381310938827
          ]
         },
         0.0
        ],
        [
         640.0,
         3.0,
         1.0,
         0.0,
         {
          "vectorType": "dense",
          "length": 3,
          "values": [
           640.0,
           3.0,
           1.0
          ]
         },
         {
          "vectorType": "dense",
          "length": 2,
          "values": [
           5.482471508354564,
           -5.482471508354564
          ]
         },
         {
          "vectorType": "dense",
          "length": 2,
          "values": [
           0.9958581880646559,
           0.004141811935344131
          ]
         },
         0.0
        ],
        [
         650.0,
         2.3,
         1.0,
         0.0,
         {
          "vectorType": "dense",
          "length": 3,
          "values": [
           650.0,
           2.3,
           1.0
          ]
         },
         {
          "vectorType": "dense",
          "length": 2,
          "values": [
           11.483943177024557,
           -11.483943177024557
          ]
         },
         {
          "vectorType": "dense",
          "length": 2,
          "values": [
           0.9999897060423525,
           1.0293957647511398E-5
          ]
         },
         0.0
        ],
        [
         650.0,
         3.7,
         6.0,
         1.0,
         {
          "vectorType": "dense",
          "length": 3,
          "values": [
           650.0,
           3.7,
           6.0
          ]
         },
         {
          "vectorType": "dense",
          "length": 2,
          "values": [
           -11.08275832141534,
           11.08275832141534
          ]
         },
         {
          "vectorType": "dense",
          "length": 2,
          "values": [
           1.537490848565355E-5,
           0.9999846250915143
          ]
         },
         1.0
        ],
        [
         660.0,
         3.3,
         5.0,
         1.0,
         {
          "vectorType": "dense",
          "length": 3,
          "values": [
           660.0,
           3.3,
           5.0
          ]
         },
         {
          "vectorType": "dense",
          "length": 2,
          "values": [
           -6.075359279063562,
           6.075359279063562
          ]
         },
         {
          "vectorType": "dense",
          "length": 2,
          "values": [
           0.0022935476662787535,
           0.9977064523337212
          ]
         },
         1.0
        ],
        [
         660.0,
         3.3,
         6.0,
         1.0,
         {
          "vectorType": "dense",
          "length": 3,
          "values": [
           660.0,
           3.3,
           6.0
          ]
         },
         {
          "vectorType": "dense",
          "length": 2,
          "values": [
           -7.9299485110244206,
           7.9299485110244206
          ]
         },
         {
          "vectorType": "dense",
          "length": 2,
          "values": [
           3.596755254109585E-4,
           0.9996403244745891
          ]
         },
         1.0
        ]
       ],
       "plotOptions": {
        "displayType": "table",
        "customPlotOptions": {},
        "pivotColumns": null,
        "pivotAggregation": null,
        "xColumns": null,
        "yColumns": null
       },
       "columnCustomDisplayInfos": {},
       "aggType": "",
       "isJsonSchema": true,
       "removedWidgets": [],
       "aggSchema": [],
       "schema": [
        {
         "name": "gmat",
         "type": "\"double\"",
         "metadata": "{}"
        },
        {
         "name": "gpa",
         "type": "\"double\"",
         "metadata": "{}"
        },
        {
         "name": "work_experience",
         "type": "\"double\"",
         "metadata": "{}"
        },
        {
         "name": "admitted",
         "type": "\"double\"",
         "metadata": "{}"
        },
        {
         "name": "features",
         "type": "{\"type\":\"udt\",\"class\":\"org.apache.spark.ml.linalg.VectorUDT\",\"pyClass\":\"pyspark.ml.linalg.VectorUDT\",\"sqlType\":{\"type\":\"struct\",\"fields\":[{\"name\":\"type\",\"type\":\"byte\",\"nullable\":false,\"metadata\":{}},{\"name\":\"size\",\"type\":\"integer\",\"nullable\":true,\"metadata\":{}},{\"name\":\"indices\",\"type\":{\"type\":\"array\",\"elementType\":\"integer\",\"containsNull\":false},\"nullable\":true,\"metadata\":{}},{\"name\":\"values\",\"type\":{\"type\":\"array\",\"elementType\":\"double\",\"containsNull\":false},\"nullable\":true,\"metadata\":{}}]}}",
         "metadata": "{\"ml_attr\":{\"attrs\":{\"numeric\":[{\"idx\":0,\"name\":\"gmat\"},{\"idx\":1,\"name\":\"gpa\"},{\"idx\":2,\"name\":\"work_experience\"}]},\"num_attrs\":3}}"
        },
        {
         "name": "rawPrediction",
         "type": "{\"type\":\"udt\",\"class\":\"org.apache.spark.ml.linalg.VectorUDT\",\"pyClass\":\"pyspark.ml.linalg.VectorUDT\",\"sqlType\":{\"type\":\"struct\",\"fields\":[{\"name\":\"type\",\"type\":\"byte\",\"nullable\":false,\"metadata\":{}},{\"name\":\"size\",\"type\":\"integer\",\"nullable\":true,\"metadata\":{}},{\"name\":\"indices\",\"type\":{\"type\":\"array\",\"elementType\":\"integer\",\"containsNull\":false},\"nullable\":true,\"metadata\":{}},{\"name\":\"values\",\"type\":{\"type\":\"array\",\"elementType\":\"double\",\"containsNull\":false},\"nullable\":true,\"metadata\":{}}]}}",
         "metadata": "{\"ml_attr\":{\"num_attrs\":2}}"
        },
        {
         "name": "probability",
         "type": "{\"type\":\"udt\",\"class\":\"org.apache.spark.ml.linalg.VectorUDT\",\"pyClass\":\"pyspark.ml.linalg.VectorUDT\",\"sqlType\":{\"type\":\"struct\",\"fields\":[{\"name\":\"type\",\"type\":\"byte\",\"nullable\":false,\"metadata\":{}},{\"name\":\"size\",\"type\":\"integer\",\"nullable\":true,\"metadata\":{}},{\"name\":\"indices\",\"type\":{\"type\":\"array\",\"elementType\":\"integer\",\"containsNull\":false},\"nullable\":true,\"metadata\":{}},{\"name\":\"values\",\"type\":{\"type\":\"array\",\"elementType\":\"double\",\"containsNull\":false},\"nullable\":true,\"metadata\":{}}]}}",
         "metadata": "{\"ml_attr\":{\"num_attrs\":2}}"
        },
        {
         "name": "prediction",
         "type": "\"double\"",
         "metadata": "{\"ml_attr\":{\"type\":\"nominal\",\"num_vals\":2}}"
        }
       ],
       "aggError": "",
       "aggData": [],
       "addedWidgets": {},
       "metadata": {},
       "dbfsResultPath": null,
       "type": "table",
       "aggOverflow": false,
       "aggSeriesLimitReached": false,
       "arguments": {}
      }
     },
     "data": {
      "text/html": [
       "<style scoped>\n  .table-result-container {\n    max-height: 300px;\n    overflow: auto;\n  }\n  table, th, td {\n    border: 1px solid black;\n    border-collapse: collapse;\n  }\n  th, td {\n    padding: 5px;\n  }\n  th {\n    text-align: left;\n  }\n</style><div class='table-result-container'><table class='table-result'><thead style='background-color: white'><tr><th>gmat</th><th>gpa</th><th>work_experience</th><th>admitted</th><th>features</th><th>rawPrediction</th><th>probability</th><th>prediction</th></tr></thead><tbody><tr><td>610.0</td><td>3.0</td><td>1.0</td><td>0.0</td><td>Map(vectorType -> dense, length -> 3, values -> List(610.0, 3.0, 1.0))</td><td>Map(vectorType -> dense, length -> 2, values -> List(7.418689510298023, -7.418689510298023))</td><td>Map(vectorType -> dense, length -> 2, values -> List(0.9994004248670022, 5.995751329977983E-4))</td><td>0.0</td></tr><tr><td>680.0</td><td>3.3</td><td>4.0</td><td>1.0</td><td>Map(vectorType -> dense, length -> 3, values -> List(680.0, 3.3, 4.0))</td><td>Map(vectorType -> dense, length -> 2, values -> List(-5.511582048398353, 5.511582048398353))</td><td>Map(vectorType -> dense, length -> 2, values -> List(0.004023457698746624, 0.9959765423012534))</td><td>1.0</td></tr><tr><td>680.0</td><td>3.9</td><td>4.0</td><td>1.0</td><td>Map(vectorType -> dense, length -> 3, values -> List(680.0, 3.9, 4.0))</td><td>Map(vectorType -> dense, length -> 2, values -> List(-11.208905764956484, 11.208905764956484))</td><td>Map(vectorType -> dense, length -> 2, values -> List(1.355277387154791E-5, 0.9999864472261285))</td><td>1.0</td></tr><tr><td>690.0</td><td>2.3</td><td>1.0</td><td>0.0</td><td>Map(vectorType -> dense, length -> 3, values -> List(690.0, 2.3, 1.0))</td><td>Map(vectorType -> dense, length -> 2, values -> List(8.902319174433273, -8.902319174433273))</td><td>Map(vectorType -> dense, length -> 2, values -> List(0.9998639455300616, 1.3605446993836257E-4))</td><td>0.0</td></tr><tr><td>710.0</td><td>3.7</td><td>5.0</td><td>1.0</td><td>Map(vectorType -> dense, length -> 3, values -> List(710.0, 3.7, 5.0))</td><td>Map(vectorType -> dense, length -> 2, values -> List(-13.100605093341429, 13.100605093341429))</td><td>Map(vectorType -> dense, length -> 2, values -> List(2.0439892655330147E-6, 0.9999979560107345))</td><td>1.0</td></tr><tr><td>770.0</td><td>3.3</td><td>3.0</td><td>1.0</td><td>Map(vectorType -> dense, length -> 3, values -> List(770.0, 3.3, 3.0))</td><td>Map(vectorType -> dense, length -> 2, values -> List(-9.465646822267885, 9.465646822267885))</td><td>Map(vectorType -> dense, length -> 2, values -> List(7.746190528413678E-5, 0.9999225380947159))</td><td>1.0</td></tr><tr><td>580.0</td><td>3.3</td><td>1.0</td><td>0.0</td><td>Map(vectorType -> dense, length -> 3, values -> List(580.0, 3.3, 1.0))</td><td>Map(vectorType -> dense, length -> 2, values -> List(6.506245653962424, -6.506245653962424))</td><td>Map(vectorType -> dense, length -> 2, values -> List(0.9985081504460395, 0.0014918495539605336))</td><td>0.0</td></tr><tr><td>590.0</td><td>1.7</td><td>4.0</td><td>0.0</td><td>Map(vectorType -> dense, length -> 3, values -> List(590.0, 1.7, 4.0))</td><td>Map(vectorType -> dense, length -> 2, values -> List(15.489935201587059, -15.489935201587059))</td><td>Map(vectorType -> dense, length -> 2, values -> List(0.9999998125840557, 1.8741594431936903E-7))</td><td>0.0</td></tr><tr><td>620.0</td><td>2.7</td><td>2.0</td><td>0.0</td><td>Map(vectorType -> dense, length -> 3, values -> List(620.0, 2.7, 2.0))</td><td>Map(vectorType -> dense, length -> 2, values -> List(7.767356135968413, -7.767356135968413))</td><td>Map(vectorType -> dense, length -> 2, values -> List(0.9995768481150992, 4.231518849008298E-4))</td><td>0.0</td></tr><tr><td>620.0</td><td>3.3</td><td>2.0</td><td>0.0</td><td>Map(vectorType -> dense, length -> 3, values -> List(620.0, 3.3, 2.0))</td><td>Map(vectorType -> dense, length -> 2, values -> List(2.070032419410296, -2.070032419410296))</td><td>Map(vectorType -> dense, length -> 2, values -> List(0.8879561868906117, 0.11204381310938827))</td><td>0.0</td></tr><tr><td>640.0</td><td>3.0</td><td>1.0</td><td>0.0</td><td>Map(vectorType -> dense, length -> 3, values -> List(640.0, 3.0, 1.0))</td><td>Map(vectorType -> dense, length -> 2, values -> List(5.482471508354564, -5.482471508354564))</td><td>Map(vectorType -> dense, length -> 2, values -> List(0.9958581880646559, 0.004141811935344131))</td><td>0.0</td></tr><tr><td>650.0</td><td>2.3</td><td>1.0</td><td>0.0</td><td>Map(vectorType -> dense, length -> 3, values -> List(650.0, 2.3, 1.0))</td><td>Map(vectorType -> dense, length -> 2, values -> List(11.483943177024557, -11.483943177024557))</td><td>Map(vectorType -> dense, length -> 2, values -> List(0.9999897060423525, 1.0293957647511398E-5))</td><td>0.0</td></tr><tr><td>650.0</td><td>3.7</td><td>6.0</td><td>1.0</td><td>Map(vectorType -> dense, length -> 3, values -> List(650.0, 3.7, 6.0))</td><td>Map(vectorType -> dense, length -> 2, values -> List(-11.08275832141534, 11.08275832141534))</td><td>Map(vectorType -> dense, length -> 2, values -> List(1.537490848565355E-5, 0.9999846250915143))</td><td>1.0</td></tr><tr><td>660.0</td><td>3.3</td><td>5.0</td><td>1.0</td><td>Map(vectorType -> dense, length -> 3, values -> List(660.0, 3.3, 5.0))</td><td>Map(vectorType -> dense, length -> 2, values -> List(-6.075359279063562, 6.075359279063562))</td><td>Map(vectorType -> dense, length -> 2, values -> List(0.0022935476662787535, 0.9977064523337212))</td><td>1.0</td></tr><tr><td>660.0</td><td>3.3</td><td>6.0</td><td>1.0</td><td>Map(vectorType -> dense, length -> 3, values -> List(660.0, 3.3, 6.0))</td><td>Map(vectorType -> dense, length -> 2, values -> List(-7.9299485110244206, 7.9299485110244206))</td><td>Map(vectorType -> dense, length -> 2, values -> List(3.596755254109585E-4, 0.9996403244745891))</td><td>1.0</td></tr></tbody></table></div>"
      ]
     }
    }
   ],
   "execution_count": 0
  },
  {
   "cell_type": "code",
   "source": [
    "from pyspark.ml.evaluation import BinaryClassificationEvaluator\n",
    "from pyspark.mllib.evaluation import BinaryClassificationMetrics, MulticlassMetrics\n",
    "\n",
    "predictions = (predictions.withColumn(\"admitted\", predictions[\"admitted\"].cast(\"double\")))\n",
    "\n",
    "#evaluate the model\n",
    "predictionsAndLabels = predictions.select(\"prediction\", \"admitted\").rdd\n",
    "\n",
    "metrics = MulticlassMetrics(predictionsAndLabels)\n",
    "\n",
    "confusionMatrix = metrics.confusionMatrix()\n",
    "accuracy        = metrics.accuracy\n",
    "precision       = metrics.precision(1.0)\n",
    "recall          = metrics.recall(1.0)\n",
    "print(\"Confusion matrix: \")\n",
    "print(confusionMatrix)\n",
    "\n",
    "print(\"Accuracy: \" + str(accuracy))\n",
    "print(\"Precision: \" + str(accuracy))\n",
    "print(\"Recall:    \" + str(recall))\n"
   ],
   "metadata": {
    "application/vnd.databricks.v1+cell": {
     "showTitle": false,
     "cellMetadata": {},
     "nuid": "bd4a8de3-ce3b-49d8-8eb9-9b4ebc4f3493",
     "inputWidgets": {},
     "title": ""
    }
   },
   "outputs": [
    {
     "output_type": "stream",
     "name": "stdout",
     "text": [
      "/databricks/spark/python/pyspark/sql/context.py:165: FutureWarning: Deprecated in 3.0.0. Use SparkSession.builder.getOrCreate() instead.\n  warnings.warn(\nConfusion matrix: \nDenseMatrix([[8., 0.],\n             [0., 7.]])\nAccuracy: 1.0\nPrecision: 1.0\nRecall:    1.0\n"
     ]
    }
   ],
   "execution_count": 0
  },
  {
   "cell_type": "code",
   "source": [
    "%python\n",
    "\n",
    "#Example\n",
    "\n",
    "# Load social network data from FileStore.\n",
    "socialNetworkDf = spark.read.csv(\"/FileStore/tables/Social_Network_Ads.csv\", \n",
    "                                 header=\"true\", inferSchema=\"true\")\n",
    "\n",
    "# Split the data into test and training sets. \n",
    "splits = socialNetworkDf.randomSplit([0.8, 0.2], seed=1234)\n",
    "train  = splits[0]\n",
    "test   = splits[1]\n",
    "\n",
    "from pyspark.ml import Pipeline\n",
    "from pyspark.ml.feature import StringIndexer, OneHotEncoder, VectorAssembler, StandardScaler\n",
    "from pyspark.ml.classification import LogisticRegression\n",
    "\n",
    "# 1. Create gender index column. Converts Male and Female to 0 and 1.\n",
    "genderIndexer       =  StringIndexer().setInputCol(\"Gender\").setOutputCol(\"GenderIndex\")\n",
    "\n",
    "# Define feature and target variable names. \n",
    "features        = [\"GenderIndex\", \"Age\", \"EstimatedSalary\"]\n",
    "targetVariable  = \"Purchased\"\n",
    "\n",
    "# 2. Set up feature vector.\n",
    "vectorAssembler = VectorAssembler().setInputCols(features).setOutputCol(\"features\")\n",
    "\n",
    "# 3. Set up feature scaler.\n",
    "scaler          = StandardScaler().setInputCol(\"features\").setOutputCol(\"scaledFeatures\")\n",
    "\n",
    "# 4. Set classifier with features and labels. \n",
    "logisticRegression = LogisticRegression().setFeaturesCol(\"scaledFeatures\")\\\n",
    "  .setLabelCol(targetVariable)\n",
    "\n",
    "# Define pipeline stages.\n",
    "# 1) Index gender. 2) Build feature set. 3) Scale features. 4) Prep model.\n",
    "stages   = [genderIndexer, vectorAssembler, scaler, logisticRegression]\n",
    "pipeline = Pipeline().setStages(stages)\n",
    "\n",
    "# Get model object.\n",
    "model    = pipeline.fit(train)\n",
    "\n",
    "# Generate predictions\n",
    "results  = model.transform(test)\n",
    "display(results)\n",
    "\n",
    "\n",
    "from pyspark.mllib.evaluation import BinaryClassificationMetrics, MulticlassMetrics\n",
    "\n",
    "# Convert 'Purchased' column to double.\n",
    "predictions = (results.withColumn(\"Purchased\", results[\"Purchased\"].cast(\"double\")))\n",
    "\n",
    "# Compare predicted and actual value with MulticlassMetrics class.\n",
    "predictionsAndLabels = predictions.select(\"prediction\", \"Purchased\").rdd\n",
    "metrics = MulticlassMetrics(predictionsAndLabels)\n",
    "\n",
    "# Obtain statistical measures.\n",
    "confusionMatrix = metrics.confusionMatrix()\n",
    "accuracy        = metrics.accuracy\n",
    "precision       = metrics.precision(1.0)\n",
    "recall          = metrics.recall(1.0)\n",
    "print(\"Confusion matrix: \")\n",
    "print(confusionMatrix)\n",
    "\n",
    "print(\"Accuracy:  \" + str(accuracy))\n",
    "print(\"Precision: \" + str(accuracy))\n",
    "print(\"Recall:    \" + str(recall))\n"
   ],
   "metadata": {
    "application/vnd.databricks.v1+cell": {
     "showTitle": false,
     "cellMetadata": {},
     "nuid": "9c4776ae-5e91-4a72-9419-5ef87a9e5413",
     "inputWidgets": {},
     "title": ""
    }
   },
   "outputs": [
    {
     "output_type": "display_data",
     "metadata": {
      "application/vnd.databricks.v1+output": {
       "overflow": false,
       "datasetInfos": [],
       "data": [
        [
         15569641,
         "Female",
         58,
         95000,
         1,
         0.0,
         {
          "vectorType": "dense",
          "length": 3,
          "values": [
           0.0,
           58.0,
           95000.0
          ]
         },
         {
          "vectorType": "dense",
          "length": 3,
          "values": [
           0.0,
           5.374366311477167,
           2.7908277974402735
          ]
         },
         {
          "vectorType": "dense",
          "length": 2,
          "values": [
           -4.362677848156325,
           4.362677848156325
          ]
         },
         {
          "vectorType": "dense",
          "length": 2,
          "values": [
           0.012583843636093576,
           0.9874161563639064
          ]
         },
         1.0
        ],
        [
         15571059,
         "Female",
         33,
         41000,
         0,
         0.0,
         {
          "vectorType": "dense",
          "length": 3,
          "values": [
           0.0,
           33.0,
           41000.0
          ]
         },
         {
          "vectorType": "dense",
          "length": 3,
          "values": [
           0.0,
           3.05782910825425,
           1.2044625231058022
          ]
         },
         {
          "vectorType": "dense",
          "length": 2,
          "values": [
           3.573146607331344,
           -3.573146607331344
          ]
         },
         {
          "vectorType": "dense",
          "length": 2,
          "values": [
           0.9726988740483518,
           0.027301125951648242
          ]
         },
         0.0
        ],
        [
         15581282,
         "Male",
         37,
         74000,
         0,
         1.0,
         {
          "vectorType": "dense",
          "length": 3,
          "values": [
           1.0,
           37.0,
           74000.0
          ]
         },
         {
          "vectorType": "dense",
          "length": 3,
          "values": [
           1.997177391336967,
           3.428475060769917,
           2.1739079685324234
          ]
         },
         {
          "vectorType": "dense",
          "length": 2,
          "values": [
           1.0807948748509144,
           -1.0807948748509144
          ]
         },
         {
          "vectorType": "dense",
          "length": 2,
          "values": [
           0.7466443765489799,
           0.25335562345102014
          ]
         },
         0.0
        ],
        [
         15582492,
         "Male",
         28,
         123000,
         1,
         1.0,
         {
          "vectorType": "dense",
          "length": 3,
          "values": [
           1.0,
           28.0,
           123000.0
          ]
         },
         {
          "vectorType": "dense",
          "length": 3,
          "values": [
           1.997177391336967,
           2.5945216676096665,
           3.6133875693174065
          ]
         },
         {
          "vectorType": "dense",
          "length": 2,
          "values": [
           1.5060954031458547,
           -1.5060954031458547
          ]
         },
         {
          "vectorType": "dense",
          "length": 2,
          "values": [
           0.8184818247425623,
           0.18151817525743774
          ]
         },
         0.0
        ],
        [
         15583137,
         "Male",
         40,
         61000,
         0,
         1.0,
         {
          "vectorType": "dense",
          "length": 3,
          "values": [
           1.0,
           40.0,
           61000.0
          ]
         },
         {
          "vectorType": "dense",
          "length": 3,
          "values": [
           1.997177391336967,
           3.7064595251566668,
           1.7920052173037546
          ]
         },
         {
          "vectorType": "dense",
          "length": 2,
          "values": [
           0.8205984453101429,
           -0.8205984453101429
          ]
         },
         {
          "vectorType": "dense",
          "length": 2,
          "values": [
           0.6943633586686281,
           0.3056366413313719
          ]
         },
         0.0
        ],
        [
         15583681,
         "Male",
         32,
         120000,
         1,
         1.0,
         {
          "vectorType": "dense",
          "length": 3,
          "values": [
           1.0,
           32.0,
           120000.0
          ]
         },
         {
          "vectorType": "dense",
          "length": 3,
          "values": [
           1.997177391336967,
           2.9651676201253334,
           3.525256165187714
          ]
         },
         {
          "vectorType": "dense",
          "length": 2,
          "values": [
           0.6499196072889024,
           -0.6499196072889024
          ]
         },
         {
          "vectorType": "dense",
          "length": 2,
          "values": [
           0.6569923461311152,
           0.34300765386888477
          ]
         },
         0.0
        ],
        [
         15584114,
         "Male",
         24,
         23000,
         0,
         1.0,
         {
          "vectorType": "dense",
          "length": 3,
          "values": [
           1.0,
           24.0,
           23000.0
          ]
         },
         {
          "vectorType": "dense",
          "length": 3,
          "values": [
           1.997177391336967,
           2.223875715094,
           0.6756740983276451
          ]
         },
         {
          "vectorType": "dense",
          "length": 2,
          "values": [
           6.02174543037487,
           -6.02174543037487
          ]
         },
         {
          "vectorType": "dense",
          "length": 2,
          "values": [
           0.9975804360142784,
           0.002419563985721629
          ]
         },
         0.0
        ],
        [
         15589449,
         "Male",
         39,
         106000,
         1,
         1.0,
         {
          "vectorType": "dense",
          "length": 3,
          "values": [
           1.0,
           39.0,
           106000.0
          ]
         },
         {
          "vectorType": "dense",
          "length": 3,
          "values": [
           1.997177391336967,
           3.6137980370277503,
           3.113976279249147
          ]
         },
         {
          "vectorType": "dense",
          "length": 2,
          "values": [
           -0.5375103701742994,
           0.5375103701742994
          ]
         },
         {
          "vectorType": "dense",
          "length": 2,
          "values": [
           0.36876692343312967,
           0.6312330765668703
          ]
         },
         1.0
        ],
        [
         15594041,
         "Female",
         49,
         36000,
         1,
         0.0,
         {
          "vectorType": "dense",
          "length": 3,
          "values": [
           0.0,
           49.0,
           36000.0
          ]
         },
         {
          "vectorType": "dense",
          "length": 3,
          "values": [
           0.0,
           4.540412918316917,
           1.057576849556314
          ]
         },
         {
          "vectorType": "dense",
          "length": 2,
          "values": [
           -0.10025870832562767,
           0.10025870832562767
          ]
         },
         {
          "vectorType": "dense",
          "length": 2,
          "values": [
           0.4749562972805283,
           0.5250437027194716
          ]
         },
         1.0
        ],
        [
         15594762,
         "Female",
         39,
         75000,
         1,
         0.0,
         {
          "vectorType": "dense",
          "length": 3,
          "values": [
           0.0,
           39.0,
           75000.0
          ]
         },
         {
          "vectorType": "dense",
          "length": 3,
          "values": [
           0.0,
           3.6137980370277503,
           2.203285103242321
          ]
         },
         {
          "vectorType": "dense",
          "length": 2,
          "values": [
           0.9210211862854845,
           -0.9210211862854845
          ]
         },
         {
          "vectorType": "dense",
          "length": 2,
          "values": [
           0.7152501337448346,
           0.2847498662551654
          ]
         },
         0.0
        ],
        [
         15596522,
         "Male",
         49,
         89000,
         1,
         1.0,
         {
          "vectorType": "dense",
          "length": 3,
          "values": [
           1.0,
           49.0,
           89000.0
          ]
         },
         {
          "vectorType": "dense",
          "length": 3,
          "values": [
           1.997177391336967,
           4.540412918316917,
           2.6145649891808875
          ]
         },
         {
          "vectorType": "dense",
          "length": 2,
          "values": [
           -2.3404255375056593,
           2.3404255375056593
          ]
         },
         {
          "vectorType": "dense",
          "length": 2,
          "values": [
           0.08782981659706793,
           0.9121701834029321
          ]
         },
         1.0
        ],
        [
         15598070,
         "Female",
         40,
         60000,
         0,
         0.0,
         {
          "vectorType": "dense",
          "length": 3,
          "values": [
           0.0,
           40.0,
           60000.0
          ]
         },
         {
          "vectorType": "dense",
          "length": 3,
          "values": [
           0.0,
           3.7064595251566668,
           1.762628082593857
          ]
         },
         {
          "vectorType": "dense",
          "length": 2,
          "values": [
           1.2132637207877703,
           -1.2132637207877703
          ]
         },
         {
          "vectorType": "dense",
          "length": 2,
          "values": [
           0.7708759173336727,
           0.22912408266632733
          ]
         },
         0.0
        ],
        [
         15598840,
         "Female",
         32,
         135000,
         1,
         0.0,
         {
          "vectorType": "dense",
          "length": 3,
          "values": [
           0.0,
           32.0,
           135000.0
          ]
         },
         {
          "vectorType": "dense",
          "length": 3,
          "values": [
           0.0,
           2.9651676201253334,
           3.965913185836178
          ]
         },
         {
          "vectorType": "dense",
          "length": 2,
          "values": [
           0.4741228662427144,
           -0.4741228662427144
          ]
         },
         {
          "vectorType": "dense",
          "length": 2,
          "values": [
           0.6163591181653871,
           0.38364088183461287
          ]
         },
         0.0
        ],
        [
         15599081,
         "Female",
         45,
         22000,
         1,
         0.0,
         {
          "vectorType": "dense",
          "length": 3,
          "values": [
           0.0,
           45.0,
           22000.0
          ]
         },
         {
          "vectorType": "dense",
          "length": 3,
          "values": [
           0.0,
           4.16976696580125,
           0.6462969636177476
          ]
         },
         {
          "vectorType": "dense",
          "length": 2,
          "values": [
           1.3599079800878755,
           -1.3599079800878755
          ]
         },
         {
          "vectorType": "dense",
          "length": 2,
          "values": [
           0.795744741662125,
           0.20425525833787495
          ]
         },
         0.0
        ],
        [
         15602373,
         "Male",
         29,
         75000,
         0,
         1.0,
         {
          "vectorType": "dense",
          "length": 3,
          "values": [
           1.0,
           29.0,
           75000.0
          ]
         },
         {
          "vectorType": "dense",
          "length": 3,
          "values": [
           1.997177391336967,
           2.6871831557385835,
           2.203285103242321
          ]
         },
         {
          "vectorType": "dense",
          "length": 2,
          "values": [
           2.9707908467285105,
           -2.9707908467285105
          ]
         },
         {
          "vectorType": "dense",
          "length": 2,
          "values": [
           0.9512369736734376,
           0.048763026326562375
          ]
         },
         0.0
        ],
        [
         15603942,
         "Female",
         51,
         134000,
         0,
         0.0,
         {
          "vectorType": "dense",
          "length": 3,
          "values": [
           0.0,
           51.0,
           134000.0
          ]
         },
         {
          "vectorType": "dense",
          "length": 3,
          "values": [
           0.0,
           4.7257358945747505,
           3.9365360511262804
          ]
         },
         {
          "vectorType": "dense",
          "length": 2,
          "values": [
           -4.063469771511587,
           4.063469771511587
          ]
         },
         {
          "vectorType": "dense",
          "length": 2,
          "values": [
           0.016898794683739504,
           0.9831012053162604
          ]
         },
         1.0
        ],
        [
         15609637,
         "Female",
         41,
         72000,
         0,
         0.0,
         {
          "vectorType": "dense",
          "length": 3,
          "values": [
           0.0,
           41.0,
           72000.0
          ]
         },
         {
          "vectorType": "dense",
          "length": 3,
          "values": [
           0.0,
           3.7991210132855833,
           2.115153699112628
          ]
         },
         {
          "vectorType": "dense",
          "length": 2,
          "values": [
           0.5462266024061169,
           -0.5462266024061169
          ]
         },
         {
          "vectorType": "dense",
          "length": 2,
          "values": [
           0.6332596916336202,
           0.36674030836637983
          ]
         },
         0.0
        ],
        [
         15609653,
         "Female",
         35,
         47000,
         0,
         0.0,
         {
          "vectorType": "dense",
          "length": 3,
          "values": [
           0.0,
           35.0,
           47000.0
          ]
         },
         {
          "vectorType": "dense",
          "length": 3,
          "values": [
           0.0,
           3.2431520845120834,
           1.380725331365188
          ]
         },
         {
          "vectorType": "dense",
          "length": 2,
          "values": [
           2.8785921391573304,
           -2.8785921391573304
          ]
         },
         {
          "vectorType": "dense",
          "length": 2,
          "values": [
           0.9467779668766076,
           0.053222033123392354
          ]
         },
         0.0
        ],
        [
         15610801,
         "Male",
         42,
         65000,
         0,
         1.0,
         {
          "vectorType": "dense",
          "length": 3,
          "values": [
           1.0,
           42.0,
           65000.0
          ]
         },
         {
          "vectorType": "dense",
          "length": 3,
          "values": [
           1.997177391336967,
           3.8917825014145,
           1.909513756143345
          ]
         },
         {
          "vectorType": "dense",
          "length": 2,
          "values": [
           0.19710172920160396,
           -0.19710172920160396
          ]
         },
         {
          "vectorType": "dense",
          "length": 2,
          "values": [
           0.5491165241335108,
           0.45088347586648925
          ]
         },
         0.0
        ],
        [
         15617134,
         "Male",
         35,
         59000,
         0,
         1.0,
         {
          "vectorType": "dense",
          "length": 3,
          "values": [
           1.0,
           35.0,
           59000.0
          ]
         },
         {
          "vectorType": "dense",
          "length": 3,
          "values": [
           1.997177391336967,
           3.2431520845120834,
           1.7332509478839593
          ]
         },
         {
          "vectorType": "dense",
          "length": 2,
          "values": [
           2.0951092273195773,
           -2.0951092273195773
          ]
         },
         {
          "vectorType": "dense",
          "length": 2,
          "values": [
           0.8904269120111029,
           0.10957308798889709
          ]
         },
         0.0
        ],
        [
         15617877,
         "Female",
         46,
         82000,
         0,
         0.0,
         {
          "vectorType": "dense",
          "length": 3,
          "values": [
           0.0,
           46.0,
           82000.0
          ]
         },
         {
          "vectorType": "dense",
          "length": 3,
          "values": [
           0.0,
           4.262428453930167,
           2.4089250462116043
          ]
         },
         {
          "vectorType": "dense",
          "length": 2,
          "values": [
           -1.012515187865226,
           1.012515187865226
          ]
         },
         {
          "vectorType": "dense",
          "length": 2,
          "values": [
           0.2664879130252008,
           0.7335120869747992
          ]
         },
         1.0
        ],
        [
         15619465,
         "Female",
         48,
         30000,
         1,
         0.0,
         {
          "vectorType": "dense",
          "length": 3,
          "values": [
           0.0,
           48.0,
           30000.0
          ]
         },
         {
          "vectorType": "dense",
          "length": 3,
          "values": [
           0.0,
           4.447751430188,
           0.8813140412969285
          ]
         },
         {
          "vectorType": "dense",
          "length": 2,
          "values": [
           0.35360515385959346,
           -0.35360515385959346
          ]
         },
         {
          "vectorType": "dense",
          "length": 2,
          "values": [
           0.5874915454770742,
           0.41250845452292584
          ]
         },
         0.0
        ],
        [
         15619653,
         "Male",
         38,
         61000,
         0,
         1.0,
         {
          "vectorType": "dense",
          "length": 3,
          "values": [
           1.0,
           38.0,
           61000.0
          ]
         },
         {
          "vectorType": "dense",
          "length": 3,
          "values": [
           1.997177391336967,
           3.5211365488988333,
           1.7920052173037546
          ]
         },
         {
          "vectorType": "dense",
          "length": 2,
          "values": [
           1.3019796572877258,
           -1.3019796572877258
          ]
         },
         {
          "vectorType": "dense",
          "length": 2,
          "values": [
           0.7861679675925096,
           0.21383203240749038
          ]
         },
         0.0
        ],
        [
         15621083,
         "Female",
         48,
         29000,
         1,
         0.0,
         {
          "vectorType": "dense",
          "length": 3,
          "values": [
           0.0,
           48.0,
           29000.0
          ]
         },
         {
          "vectorType": "dense",
          "length": 3,
          "values": [
           0.0,
           4.447751430188,
           0.8519369065870308
          ]
         },
         {
          "vectorType": "dense",
          "length": 2,
          "values": [
           0.3891340298923307,
           -0.3891340298923307
          ]
         },
         {
          "vectorType": "dense",
          "length": 2,
          "values": [
           0.5960742172531704,
           0.40392578274682955
          ]
         },
         0.0
        ],
        [
         15622585,
         "Male",
         39,
         96000,
         1,
         1.0,
         {
          "vectorType": "dense",
          "length": 3,
          "values": [
           1.0,
           39.0,
           96000.0
          ]
         },
         {
          "vectorType": "dense",
          "length": 3,
          "values": [
           1.997177391336967,
           3.6137980370277503,
           2.820204932150171
          ]
         },
         {
          "vectorType": "dense",
          "length": 2,
          "values": [
           -0.1822216098469145,
           0.1822216098469145
          ]
         },
         {
          "vectorType": "dense",
          "length": 2,
          "values": [
           0.45457023489281545,
           0.5454297651071845
          ]
         },
         1.0
        ],
        [
         15627220,
         "Male",
         39,
         71000,
         0,
         1.0,
         {
          "vectorType": "dense",
          "length": 3,
          "values": [
           1.0,
           39.0,
           71000.0
          ]
         },
         {
          "vectorType": "dense",
          "length": 3,
          "values": [
           1.997177391336967,
           3.6137980370277503,
           2.085776564402731
          ]
         },
         {
          "vectorType": "dense",
          "length": 2,
          "values": [
           0.7060002909715468,
           -0.7060002909715468
          ]
         },
         {
          "vectorType": "dense",
          "length": 2,
          "values": [
           0.6695167687418125,
           0.33048323125818746
          ]
         },
         0.0
        ],
        [
         15628972,
         "Male",
         18,
         82000,
         0,
         1.0,
         {
          "vectorType": "dense",
          "length": 3,
          "values": [
           1.0,
           18.0,
           82000.0
          ]
         },
         {
          "vectorType": "dense",
          "length": 3,
          "values": [
           1.997177391336967,
           1.6679067863205002,
           2.4089250462116043
          ]
         },
         {
          "vectorType": "dense",
          "length": 2,
          "values": [
           5.3696853803760485,
           -5.3696853803760485
          ]
         },
         {
          "vectorType": "dense",
          "length": 2,
          "values": [
           0.9953659783103203,
           0.004634021689679746
          ]
         },
         0.0
        ],
        [
         15629885,
         "Female",
         39,
         73000,
         0,
         0.0,
         {
          "vectorType": "dense",
          "length": 3,
          "values": [
           0.0,
           39.0,
           73000.0
          ]
         },
         {
          "vectorType": "dense",
          "length": 3,
          "values": [
           0.0,
           3.6137980370277503,
           2.1445308338225257
          ]
         },
         {
          "vectorType": "dense",
          "length": 2,
          "values": [
           0.9920789383509607,
           -0.9920789383509607
          ]
         },
         {
          "vectorType": "dense",
          "length": 2,
          "values": [
           0.7294983559785094,
           0.2705016440214906
          ]
         },
         0.0
        ],
        [
         15631070,
         "Female",
         37,
         62000,
         0,
         0.0,
         {
          "vectorType": "dense",
          "length": 3,
          "values": [
           0.0,
           37.0,
           62000.0
          ]
         },
         {
          "vectorType": "dense",
          "length": 3,
          "values": [
           0.0,
           3.428475060769917,
           1.821382352013652
          ]
         },
         {
          "vectorType": "dense",
          "length": 2,
          "values": [
           1.8642777866886675,
           -1.8642777866886675
          ]
         },
         {
          "vectorType": "dense",
          "length": 2,
          "values": [
           0.865794780203863,
           0.13420521979613698
          ]
         },
         0.0
        ],
        [
         15635893,
         "Male",
         60,
         42000,
         1,
         1.0,
         {
          "vectorType": "dense",
          "length": 3,
          "values": [
           1.0,
           60.0,
           42000.0
          ]
         },
         {
          "vectorType": "dense",
          "length": 3,
          "values": [
           1.997177391336967,
           5.559689287735,
           1.2338396578156998
          ]
         },
         {
          "vectorType": "dense",
          "length": 2,
          "values": [
           -3.318165029843657,
           3.318165029843657
          ]
         },
         {
          "vectorType": "dense",
          "length": 2,
          "values": [
           0.034953252077036014,
           0.965046747922964
          ]
         },
         1.0
        ],
        [
         15638003,
         "Female",
         35,
         50000,
         0,
         0.0,
         {
          "vectorType": "dense",
          "length": 3,
          "values": [
           0.0,
           35.0,
           50000.0
          ]
         },
         {
          "vectorType": "dense",
          "length": 3,
          "values": [
           0.0,
           3.2431520845120834,
           1.4688567354948807
          ]
         },
         {
          "vectorType": "dense",
          "length": 2,
          "values": [
           2.772005511059115,
           -2.772005511059115
          ]
         },
         {
          "vectorType": "dense",
          "length": 2,
          "values": [
           0.9411441737709382,
           0.058855826229061825
          ]
         },
         0.0
        ],
        [
         15646091,
         "Female",
         46,
         32000,
         1,
         0.0,
         {
          "vectorType": "dense",
          "length": 3,
          "values": [
           0.0,
           46.0,
           32000.0
          ]
         },
         {
          "vectorType": "dense",
          "length": 3,
          "values": [
           0.0,
           4.262428453930167,
           0.9400683107167237
          ]
         },
         {
          "vectorType": "dense",
          "length": 2,
          "values": [
           0.7639286137716983,
           -0.7639286137716983
          ]
         },
         {
          "vectorType": "dense",
          "length": 2,
          "values": [
           0.6822060700000104,
           0.31779392999998957
          ]
         },
         0.0
        ],
        [
         15646227,
         "Male",
         46,
         79000,
         1,
         1.0,
         {
          "vectorType": "dense",
          "length": 3,
          "values": [
           1.0,
           46.0,
           79000.0
          ]
         },
         {
          "vectorType": "dense",
          "length": 3,
          "values": [
           1.997177391336967,
           4.262428453930167,
           2.3207936420819117
          ]
         },
         {
          "vectorType": "dense",
          "length": 2,
          "values": [
           -1.263064959211901,
           1.263064959211901
          ]
         },
         {
          "vectorType": "dense",
          "length": 2,
          "values": [
           0.22044672780568023,
           0.7795532721943198
          ]
         },
         1.0
        ],
        [
         15649668,
         "Male",
         41,
         79000,
         0,
         1.0,
         {
          "vectorType": "dense",
          "length": 3,
          "values": [
           1.0,
           41.0,
           79000.0
          ]
         },
         {
          "vectorType": "dense",
          "length": 3,
          "values": [
           1.997177391336967,
           3.7991210132855833,
           2.3207936420819117
          ]
         },
         {
          "vectorType": "dense",
          "length": 2,
          "values": [
           -0.0596119292679429,
           0.0596119292679429
          ]
         },
         {
          "vectorType": "dense",
          "length": 2,
          "values": [
           0.48510142936290784,
           0.5148985706370921
          ]
         },
         1.0
        ],
        [
         15651983,
         "Male",
         34,
         112000,
         1,
         1.0,
         {
          "vectorType": "dense",
          "length": 3,
          "values": [
           1.0,
           34.0,
           112000.0
          ]
         },
         {
          "vectorType": "dense",
          "length": 3,
          "values": [
           1.997177391336967,
           3.150490596383167,
           3.290239087508533
          ]
         },
         {
          "vectorType": "dense",
          "length": 2,
          "values": [
           0.45276940357322637,
           -0.45276940357322637
          ]
         },
         {
          "vectorType": "dense",
          "length": 2,
          "values": [
           0.6112974823512608,
           0.3887025176487392
          ]
         },
         0.0
        ],
        [
         15654230,
         "Female",
         55,
         130000,
         1,
         0.0,
         {
          "vectorType": "dense",
          "length": 3,
          "values": [
           0.0,
           55.0,
           130000.0
          ]
         },
         {
          "vectorType": "dense",
          "length": 3,
          "values": [
           0.0,
           5.0963818470904165,
           3.81902751228669
          ]
         },
         {
          "vectorType": "dense",
          "length": 2,
          "values": [
           -4.8841166913358,
           4.8841166913358
          ]
         },
         {
          "vectorType": "dense",
          "length": 2,
          "values": [
           0.007508992190085478,
           0.9924910078099145
          ]
         },
         1.0
        ],
        [
         15654574,
         "Female",
         23,
         82000,
         0,
         0.0,
         {
          "vectorType": "dense",
          "length": 3,
          "values": [
           0.0,
           23.0,
           82000.0
          ]
         },
         {
          "vectorType": "dense",
          "length": 3,
          "values": [
           0.0,
           2.1312142269650836,
           2.4089250462116043
          ]
         },
         {
          "vectorType": "dense",
          "length": 2,
          "values": [
           4.5233687498769815,
           -4.5233687498769815
          ]
         },
         {
          "vectorType": "dense",
          "length": 2,
          "values": [
           0.9892641072456194,
           0.010735892754380583
          ]
         },
         0.0
        ],
        [
         15668385,
         "Male",
         39,
         42000,
         0,
         1.0,
         {
          "vectorType": "dense",
          "length": 3,
          "values": [
           1.0,
           39.0,
           42000.0
          ]
         },
         {
          "vectorType": "dense",
          "length": 3,
          "values": [
           1.997177391336967,
           3.6137980370277503,
           1.2338396578156998
          ]
         },
         {
          "vectorType": "dense",
          "length": 2,
          "values": [
           1.7363376959209642,
           -1.7363376959209642
          ]
         },
         {
          "vectorType": "dense",
          "length": 2,
          "values": [
           0.8502212871086673,
           0.1497787128913327
          ]
         },
         0.0
        ],
        [
         15668575,
         "Female",
         26,
         43000,
         0,
         0.0,
         {
          "vectorType": "dense",
          "length": 3,
          "values": [
           0.0,
           26.0,
           43000.0
          ]
         },
         {
          "vectorType": "dense",
          "length": 3,
          "values": [
           0.0,
           2.4091986913518335,
           1.2632167925255975
          ]
         },
         {
          "vectorType": "dense",
          "length": 2,
          "values": [
           5.186923097187407,
           -5.186923097187407
          ]
         },
         {
          "vectorType": "dense",
          "length": 2,
          "values": [
           0.9944418875370128,
           0.005558112462987208
          ]
         },
         0.0
        ],
        [
         15669656,
         "Male",
         31,
         18000,
         0,
         1.0,
         {
          "vectorType": "dense",
          "length": 3,
          "values": [
           1.0,
           31.0,
           18000.0
          ]
         },
         {
          "vectorType": "dense",
          "length": 3,
          "values": [
           1.997177391336967,
           2.872506131996417,
           0.528788424778157
          ]
         },
         {
          "vectorType": "dense",
          "length": 2,
          "values": [
           4.514555568617022,
           -4.514555568617022
          ]
         },
         {
          "vectorType": "dense",
          "length": 2,
          "values": [
           0.989170100934484,
           0.010829899065516013
          ]
         },
         0.0
        ],
        [
         15670619,
         "Male",
         25,
         90000,
         0,
         1.0,
         {
          "vectorType": "dense",
          "length": 3,
          "values": [
           1.0,
           25.0,
           90000.0
          ]
         },
         {
          "vectorType": "dense",
          "length": 3,
          "values": [
           1.997177391336967,
           2.3165372032229166,
           2.643942123890785
          ]
         },
         {
          "vectorType": "dense",
          "length": 2,
          "values": [
           3.4006201301926,
           -3.4006201301926
          ]
         },
         {
          "vectorType": "dense",
          "length": 2,
          "values": [
           0.9677239102802425,
           0.032276089719757484
          ]
         },
         0.0
        ],
        [
         15671387,
         "Female",
         41,
         72000,
         0,
         0.0,
         {
          "vectorType": "dense",
          "length": 3,
          "values": [
           0.0,
           41.0,
           72000.0
          ]
         },
         {
          "vectorType": "dense",
          "length": 3,
          "values": [
           0.0,
           3.7991210132855833,
           2.115153699112628
          ]
         },
         {
          "vectorType": "dense",
          "length": 2,
          "values": [
           0.5462266024061169,
           -0.5462266024061169
          ]
         },
         {
          "vectorType": "dense",
          "length": 2,
          "values": [
           0.6332596916336202,
           0.36674030836637983
          ]
         },
         0.0
        ],
        [
         15671655,
         "Female",
         35,
         23000,
         0,
         0.0,
         {
          "vectorType": "dense",
          "length": 3,
          "values": [
           0.0,
           35.0,
           23000.0
          ]
         },
         {
          "vectorType": "dense",
          "length": 3,
          "values": [
           0.0,
           3.2431520845120834,
           0.6756740983276451
          ]
         },
         {
          "vectorType": "dense",
          "length": 2,
          "values": [
           3.7312851639430544,
           -3.7312851639430544
          ]
         },
         {
          "vectorType": "dense",
          "length": 2,
          "values": [
           0.9765987210217492,
           0.02340127897825084
          ]
         },
         0.0
        ],
        [
         15673619,
         "Male",
         25,
         87000,
         0,
         1.0,
         {
          "vectorType": "dense",
          "length": 3,
          "values": [
           1.0,
           25.0,
           87000.0
          ]
         },
         {
          "vectorType": "dense",
          "length": 3,
          "values": [
           1.997177391336967,
           2.3165372032229166,
           2.5558107197610926
          ]
         },
         {
          "vectorType": "dense",
          "length": 2,
          "values": [
           3.507206758290815,
           -3.507206758290815
          ]
         },
         {
          "vectorType": "dense",
          "length": 2,
          "values": [
           0.9708921292137173,
           0.02910787078628274
          ]
         },
         0.0
        ],
        [
         15674206,
         "Male",
         35,
         72000,
         0,
         1.0,
         {
          "vectorType": "dense",
          "length": 3,
          "values": [
           1.0,
           35.0,
           72000.0
          ]
         },
         {
          "vectorType": "dense",
          "length": 3,
          "values": [
           1.997177391336967,
           3.2431520845120834,
           2.115153699112628
          ]
         },
         {
          "vectorType": "dense",
          "length": 2,
          "values": [
           1.633233838893977,
           -1.633233838893977
          ]
         },
         {
          "vectorType": "dense",
          "length": 2,
          "values": [
           0.8366121608230036,
           0.1633878391769964
          ]
         },
         0.0
        ],
        [
         15679760,
         "Male",
         24,
         19000,
         0,
         1.0,
         {
          "vectorType": "dense",
          "length": 3,
          "values": [
           1.0,
           24.0,
           19000.0
          ]
         },
         {
          "vectorType": "dense",
          "length": 3,
          "values": [
           1.997177391336967,
           2.223875715094,
           0.5581655594880547
          ]
         },
         {
          "vectorType": "dense",
          "length": 2,
          "values": [
           6.163860934505824,
           -6.163860934505824
          ]
         },
         {
          "vectorType": "dense",
          "length": 2,
          "values": [
           0.9979003042751562,
           0.0020996957248438086
          ]
         },
         0.0
        ],
        [
         15680243,
         "Female",
         20,
         36000,
         0,
         0.0,
         {
          "vectorType": "dense",
          "length": 3,
          "values": [
           0.0,
           20.0,
           36000.0
          ]
         },
         {
          "vectorType": "dense",
          "length": 3,
          "values": [
           0.0,
           1.8532297625783334,
           1.057576849556314
          ]
         },
         {
          "vectorType": "dense",
          "length": 2,
          "values": [
           6.879768865349327,
           -6.879768865349327
          ]
         },
         {
          "vectorType": "dense",
          "length": 2,
          "values": [
           0.9989726747701242,
           0.0010273252298758084
          ]
         },
         0.0
        ],
        [
         15680587,
         "Male",
         36,
         144000,
         1,
         1.0,
         {
          "vectorType": "dense",
          "length": 3,
          "values": [
           1.0,
           36.0,
           144000.0
          ]
         },
         {
          "vectorType": "dense",
          "length": 3,
          "values": [
           1.997177391336967,
           3.3358135726410003,
           4.230307398225256
          ]
         },
         {
          "vectorType": "dense",
          "length": 2,
          "values": [
           -1.1655358414519874,
           1.1655358414519874
          ]
         },
         {
          "vectorType": "dense",
          "length": 2,
          "values": [
           0.2376628495901277,
           0.7623371504098723
          ]
         },
         1.0
        ],
        [
         15687491,
         "Male",
         30,
         107000,
         1,
         1.0,
         {
          "vectorType": "dense",
          "length": 3,
          "values": [
           1.0,
           30.0,
           107000.0
          ]
         },
         {
          "vectorType": "dense",
          "length": 3,
          "values": [
           1.997177391336967,
           2.7798446438675,
           3.1433534139590447
          ]
         },
         {
          "vectorType": "dense",
          "length": 2,
          "values": [
           1.5931762076920872,
           -1.5931762076920872
          ]
         },
         {
          "vectorType": "dense",
          "length": 2,
          "values": [
           0.8310625040872315,
           0.16893749591276852
          ]
         },
         0.0
        ],
        [
         15690188,
         "Female",
         33,
         28000,
         0,
         0.0,
         {
          "vectorType": "dense",
          "length": 3,
          "values": [
           0.0,
           33.0,
           28000.0
          ]
         },
         {
          "vectorType": "dense",
          "length": 3,
          "values": [
           0.0,
           3.05782910825425,
           0.8225597718771333
          ]
         },
         {
          "vectorType": "dense",
          "length": 2,
          "values": [
           4.035021995756944,
           -4.035021995756944
          ]
         },
         {
          "vectorType": "dense",
          "length": 2,
          "values": [
           0.9826220431187624,
           0.017377956881237555
          ]
         },
         0.0
        ],
        [
         15691863,
         "Female",
         46,
         41000,
         1,
         0.0,
         {
          "vectorType": "dense",
          "length": 3,
          "values": [
           0.0,
           46.0,
           41000.0
          ]
         },
         {
          "vectorType": "dense",
          "length": 3,
          "values": [
           0.0,
           4.262428453930167,
           1.2044625231058022
          ]
         },
         {
          "vectorType": "dense",
          "length": 2,
          "values": [
           0.44416872947705244,
           -0.44416872947705244
          ]
         },
         {
          "vectorType": "dense",
          "length": 2,
          "values": [
           0.609251906007288,
           0.39074809399271204
          ]
         },
         0.0
        ],
        [
         15692819,
         "Female",
         57,
         26000,
         1,
         0.0,
         {
          "vectorType": "dense",
          "length": 3,
          "values": [
           0.0,
           57.0,
           26000.0
          ]
         },
         {
          "vectorType": "dense",
          "length": 3,
          "values": [
           0.0,
           5.28170482334825,
           0.763805502457338
          ]
         },
         {
          "vectorType": "dense",
          "length": 2,
          "values": [
           -1.6704947959085796,
           1.6704947959085796
          ]
         },
         {
          "vectorType": "dense",
          "length": 2,
          "values": [
           0.15835822085515747,
           0.8416417791448425
          ]
         },
         1.0
        ],
        [
         15693264,
         "Male",
         38,
         51000,
         0,
         1.0,
         {
          "vectorType": "dense",
          "length": 3,
          "values": [
           1.0,
           38.0,
           51000.0
          ]
         },
         {
          "vectorType": "dense",
          "length": 3,
          "values": [
           1.997177391336967,
           3.5211365488988333,
           1.4982338702047784
          ]
         },
         {
          "vectorType": "dense",
          "length": 2,
          "values": [
           1.6572684176151107,
           -1.6572684176151107
          ]
         },
         {
          "vectorType": "dense",
          "length": 2,
          "values": [
           0.8398709797446056,
           0.16012902025539444
          ]
         },
         0.0
        ],
        [
         15694395,
         "Female",
         24,
         32000,
         0,
         0.0,
         {
          "vectorType": "dense",
          "length": 3,
          "values": [
           0.0,
           24.0,
           32000.0
          ]
         },
         {
          "vectorType": "dense",
          "length": 3,
          "values": [
           0.0,
           2.223875715094,
           0.9400683107167237
          ]
         },
         {
          "vectorType": "dense",
          "length": 2,
          "values": [
           6.0591219455251135,
           -6.0591219455251135
          ]
         },
         {
          "vectorType": "dense",
          "length": 2,
          "values": [
           0.9976689947619032,
           0.002331005238096817
          ]
         },
         0.0
        ],
        [
         15697020,
         "Female",
         39,
         61000,
         0,
         0.0,
         {
          "vectorType": "dense",
          "length": 3,
          "values": [
           0.0,
           39.0,
           61000.0
          ]
         },
         {
          "vectorType": "dense",
          "length": 3,
          "values": [
           0.0,
           3.6137980370277503,
           1.7920052173037546
          ]
         },
         {
          "vectorType": "dense",
          "length": 2,
          "values": [
           1.4184254507438236,
           -1.4184254507438236
          ]
         },
         {
          "vectorType": "dense",
          "length": 2,
          "values": [
           0.8050914580805492,
           0.19490854191945084
          ]
         },
         0.0
        ],
        [
         15697574,
         "Female",
         33,
         69000,
         0,
         0.0,
         {
          "vectorType": "dense",
          "length": 3,
          "values": [
           0.0,
           33.0,
           69000.0
          ]
         },
         {
          "vectorType": "dense",
          "length": 3,
          "values": [
           0.0,
           3.05782910825425,
           2.0270222949829355
          ]
         },
         {
          "vectorType": "dense",
          "length": 2,
          "values": [
           2.5783380784146654,
           -2.5783380784146654
          ]
         },
         {
          "vectorType": "dense",
          "length": 2,
          "values": [
           0.9294543764167348,
           0.07054562358326522
          ]
         },
         0.0
        ],
        [
         15699247,
         "Male",
         31,
         76000,
         0,
         1.0,
         {
          "vectorType": "dense",
          "length": 3,
          "values": [
           1.0,
           31.0,
           76000.0
          ]
         },
         {
          "vectorType": "dense",
          "length": 3,
          "values": [
           1.997177391336967,
           2.872506131996417,
           2.2326622379522187
          ]
         },
         {
          "vectorType": "dense",
          "length": 2,
          "values": [
           2.453880758718187,
           -2.453880758718187
          ]
         },
         {
          "vectorType": "dense",
          "length": 2,
          "values": [
           0.9208447804189083,
           0.07915521958109173
          ]
         },
         0.0
        ],
        [
         15699284,
         "Female",
         29,
         28000,
         0,
         0.0,
         {
          "vectorType": "dense",
          "length": 3,
          "values": [
           0.0,
           29.0,
           28000.0
          ]
         },
         {
          "vectorType": "dense",
          "length": 3,
          "values": [
           0.0,
           2.6871831557385835,
           0.8225597718771333
          ]
         },
         {
          "vectorType": "dense",
          "length": 2,
          "values": [
           4.99778441971211,
           -4.99778441971211
          ]
         },
         {
          "vectorType": "dense",
          "length": 2,
          "values": [
           0.9932924036622638,
           0.00670759633773621
          ]
         },
         0.0
        ],
        [
         15708228,
         "Male",
         35,
         22000,
         0,
         1.0,
         {
          "vectorType": "dense",
          "length": 3,
          "values": [
           1.0,
           35.0,
           22000.0
          ]
         },
         {
          "vectorType": "dense",
          "length": 3,
          "values": [
           1.997177391336967,
           3.2431520845120834,
           0.6462969636177476
          ]
         },
         {
          "vectorType": "dense",
          "length": 2,
          "values": [
           3.4096776405309015,
           -3.4096776405309015
          ]
         },
         {
          "vectorType": "dense",
          "length": 2,
          "values": [
           0.9680056203054305,
           0.03199437969456953
          ]
         },
         0.0
        ],
        [
         15717893,
         "Female",
         42,
         70000,
         0,
         0.0,
         {
          "vectorType": "dense",
          "length": 3,
          "values": [
           0.0,
           42.0,
           70000.0
          ]
         },
         {
          "vectorType": "dense",
          "length": 3,
          "values": [
           0.0,
           3.8917825014145,
           2.056399429692833
          ]
         },
         {
          "vectorType": "dense",
          "length": 2,
          "values": [
           0.3765937484828008,
           -0.3765937484828008
          ]
         },
         {
          "vectorType": "dense",
          "length": 2,
          "values": [
           0.5930512945032608,
           0.4069487054967392
          ]
         },
         0.0
        ],
        [
         15720745,
         "Female",
         37,
         137000,
         1,
         0.0,
         {
          "vectorType": "dense",
          "length": 3,
          "values": [
           0.0,
           37.0,
           137000.0
          ]
         },
         {
          "vectorType": "dense",
          "length": 3,
          "values": [
           0.0,
           3.428475060769917,
           4.024667455255973
          ]
         },
         {
          "vectorType": "dense",
          "length": 2,
          "values": [
           -0.8003879157667217,
           0.8003879157667217
          ]
         },
         {
          "vectorType": "dense",
          "length": 2,
          "values": [
           0.30994254604410076,
           0.6900574539558992
          ]
         },
         1.0
        ],
        [
         15723373,
         "Male",
         37,
         52000,
         0,
         1.0,
         {
          "vectorType": "dense",
          "length": 3,
          "values": [
           1.0,
           37.0,
           52000.0
          ]
         },
         {
          "vectorType": "dense",
          "length": 3,
          "values": [
           1.997177391336967,
           3.428475060769917,
           1.527611004914676
          ]
         },
         {
          "vectorType": "dense",
          "length": 2,
          "values": [
           1.8624301475711622,
           -1.8624301475711622
          ]
         },
         {
          "vectorType": "dense",
          "length": 2,
          "values": [
           0.8655799501607122,
           0.1344200498392878
          ]
         },
         0.0
        ],
        [
         15725794,
         "Female",
         36,
         63000,
         0,
         0.0,
         {
          "vectorType": "dense",
          "length": 3,
          "values": [
           0.0,
           36.0,
           63000.0
          ]
         },
         {
          "vectorType": "dense",
          "length": 3,
          "values": [
           0.0,
           3.3358135726410003,
           1.8507594867235497
          ]
         },
         {
          "vectorType": "dense",
          "length": 2,
          "values": [
           2.069439516644721,
           -2.069439516644721
          ]
         },
         {
          "vectorType": "dense",
          "length": 2,
          "values": [
           0.8878971854264058,
           0.11210281457359417
          ]
         },
         0.0
        ],
        [
         15726358,
         "Female",
         24,
         27000,
         0,
         0.0,
         {
          "vectorType": "dense",
          "length": 3,
          "values": [
           0.0,
           24.0,
           27000.0
          ]
         },
         {
          "vectorType": "dense",
          "length": 3,
          "values": [
           0.0,
           2.223875715094,
           0.7931826371672356
          ]
         },
         {
          "vectorType": "dense",
          "length": 2,
          "values": [
           6.236766325688807,
           -6.236766325688807
          ]
         },
         {
          "vectorType": "dense",
          "length": 2,
          "values": [
           0.9980476482077781,
           0.0019523517922218625
          ]
         },
         0.0
        ],
        [
         15727696,
         "Male",
         30,
         135000,
         1,
         1.0,
         {
          "vectorType": "dense",
          "length": 3,
          "values": [
           1.0,
           30.0,
           135000.0
          ]
         },
         {
          "vectorType": "dense",
          "length": 3,
          "values": [
           1.997177391336967,
           2.7798446438675,
           3.965913185836178
          ]
         },
         {
          "vectorType": "dense",
          "length": 2,
          "values": [
           0.5983676787754089,
           -0.5983676787754089
          ]
         },
         {
          "vectorType": "dense",
          "length": 2,
          "values": [
           0.6452827681255594,
           0.3547172318744406
          ]
         },
         0.0
        ],
        [
         15734312,
         "Male",
         38,
         71000,
         0,
         1.0,
         {
          "vectorType": "dense",
          "length": 3,
          "values": [
           1.0,
           38.0,
           71000.0
          ]
         },
         {
          "vectorType": "dense",
          "length": 3,
          "values": [
           1.997177391336967,
           3.5211365488988333,
           2.085776564402731
          ]
         },
         {
          "vectorType": "dense",
          "length": 2,
          "values": [
           0.9466908969603391,
           -0.9466908969603391
          ]
         },
         {
          "vectorType": "dense",
          "length": 2,
          "values": [
           0.7204492039897279,
           0.2795507960102721
          ]
         },
         0.0
        ],
        [
         15735878,
         "Male",
         52,
         150000,
         1,
         1.0,
         {
          "vectorType": "dense",
          "length": 3,
          "values": [
           1.0,
           52.0,
           150000.0
          ]
         },
         {
          "vectorType": "dense",
          "length": 3,
          "values": [
           1.997177391336967,
           4.818397382703667,
           4.406570206484642
          ]
         },
         {
          "vectorType": "dense",
          "length": 2,
          "values": [
           -5.229758793469086,
           5.229758793469086
          ]
         },
         {
          "vectorType": "dense",
          "length": 2,
          "values": [
           0.005326295427630315,
           0.9946737045723697
          ]
         },
         1.0
        ],
        [
         15736397,
         "Female",
         58,
         38000,
         1,
         0.0,
         {
          "vectorType": "dense",
          "length": 3,
          "values": [
           0.0,
           58.0,
           38000.0
          ]
         },
         {
          "vectorType": "dense",
          "length": 3,
          "values": [
           0.0,
           5.374366311477167,
           1.1163311189761094
          ]
         },
         {
          "vectorType": "dense",
          "length": 2,
          "values": [
           -2.3375319142902313,
           2.3375319142902313
          ]
         },
         {
          "vectorType": "dense",
          "length": 2,
          "values": [
           0.08806191801934515,
           0.9119380819806548
          ]
         },
         1.0
        ],
        [
         15739160,
         "Male",
         42,
         80000,
         0,
         1.0,
         {
          "vectorType": "dense",
          "length": 3,
          "values": [
           1.0,
           42.0,
           80000.0
          ]
         },
         {
          "vectorType": "dense",
          "length": 3,
          "values": [
           1.997177391336967,
           3.8917825014145,
           2.3501707767918094
          ]
         },
         {
          "vectorType": "dense",
          "length": 2,
          "values": [
           -0.33583141128947425,
           0.33583141128947425
          ]
         },
         {
          "vectorType": "dense",
          "length": 2,
          "values": [
           0.4168224311365076,
           0.5831775688634924
          ]
         },
         1.0
        ],
        [
         15748589,
         "Female",
         45,
         45000,
         1,
         0.0,
         {
          "vectorType": "dense",
          "length": 3,
          "values": [
           0.0,
           45.0,
           45000.0
          ]
         },
         {
          "vectorType": "dense",
          "length": 3,
          "values": [
           0.0,
           4.16976696580125,
           1.3219710619453926
          ]
         },
         {
          "vectorType": "dense",
          "length": 2,
          "values": [
           0.5427438313348905,
           -0.5427438313348905
          ]
         },
         {
          "vectorType": "dense",
          "length": 2,
          "values": [
           0.6324504716694025,
           0.3675495283305975
          ]
         },
         0.0
        ],
        [
         15750447,
         "Male",
         37,
         70000,
         1,
         1.0,
         {
          "vectorType": "dense",
          "length": 3,
          "values": [
           1.0,
           37.0,
           70000.0
          ]
         },
         {
          "vectorType": "dense",
          "length": 3,
          "values": [
           1.997177391336967,
           3.428475060769917,
           2.056399429692833
          ]
         },
         {
          "vectorType": "dense",
          "length": 2,
          "values": [
           1.2229103789818687,
           -1.2229103789818687
          ]
         },
         {
          "vectorType": "dense",
          "length": 2,
          "values": [
           0.772575316485012,
           0.227424683514988
          ]
         },
         0.0
        ],
        [
         15753874,
         "Female",
         37,
         80000,
         0,
         0.0,
         {
          "vectorType": "dense",
          "length": 3,
          "values": [
           0.0,
           37.0,
           80000.0
          ]
         },
         {
          "vectorType": "dense",
          "length": 3,
          "values": [
           0.0,
           3.428475060769917,
           2.3501707767918094
          ]
         },
         {
          "vectorType": "dense",
          "length": 2,
          "values": [
           1.224758018099374,
           -1.224758018099374
          ]
         },
         {
          "vectorType": "dense",
          "length": 2,
          "values": [
           0.7728997881577554,
           0.2271002118422446
          ]
         },
         0.0
        ],
        [
         15766289,
         "Male",
         27,
         88000,
         0,
         1.0,
         {
          "vectorType": "dense",
          "length": 3,
          "values": [
           1.0,
           27.0,
           88000.0
          ]
         },
         {
          "vectorType": "dense",
          "length": 3,
          "values": [
           1.997177391336967,
           2.50186017948075,
           2.5851878544709903
          ]
         },
         {
          "vectorType": "dense",
          "length": 2,
          "values": [
           2.990296670280493,
           -2.990296670280493
          ]
         },
         {
          "vectorType": "dense",
          "length": 2,
          "values": [
           0.952133832711064,
           0.047866167288936
          ]
         },
         0.0
        ],
        [
         15768072,
         "Female",
         47,
         50000,
         1,
         0.0,
         {
          "vectorType": "dense",
          "length": 3,
          "values": [
           0.0,
           47.0,
           50000.0
          ]
         },
         {
          "vectorType": "dense",
          "length": 3,
          "values": [
           0.0,
           4.355089942059084,
           1.4688567354948807
          ]
         },
         {
          "vectorType": "dense",
          "length": 2,
          "values": [
           -0.11628176080638575,
           0.11628176080638575
          ]
         },
         {
          "vectorType": "dense",
          "length": 2,
          "values": [
           0.4709622717713339,
           0.5290377282286661
          ]
         },
         1.0
        ],
        [
         15774727,
         "Female",
         31,
         71000,
         0,
         0.0,
         {
          "vectorType": "dense",
          "length": 3,
          "values": [
           0.0,
           31.0,
           71000.0
          ]
         },
         {
          "vectorType": "dense",
          "length": 3,
          "values": [
           0.0,
           2.872506131996417,
           2.085776564402731
          ]
         },
         {
          "vectorType": "dense",
          "length": 2,
          "values": [
           2.9886615383267703,
           -2.9886615383267703
          ]
         },
         {
          "vectorType": "dense",
          "length": 2,
          "values": [
           0.952059256459165,
           0.047940743540834996
          ]
         },
         0.0
        ],
        [
         15779581,
         "Male",
         29,
         43000,
         0,
         1.0,
         {
          "vectorType": "dense",
          "length": 3,
          "values": [
           1.0,
           29.0,
           43000.0
          ]
         },
         {
          "vectorType": "dense",
          "length": 3,
          "values": [
           1.997177391336967,
           2.6871831557385835,
           1.2632167925255975
          ]
         },
         {
          "vectorType": "dense",
          "length": 2,
          "values": [
           4.107714879776141,
           -4.107714879776141
          ]
         },
         {
          "vectorType": "dense",
          "length": 2,
          "values": [
           0.9838207614762641,
           0.016179238523735928
          ]
         },
         0.0
        ],
        [
         15787550,
         "Male",
         42,
         54000,
         0,
         1.0,
         {
          "vectorType": "dense",
          "length": 3,
          "values": [
           1.0,
           42.0,
           54000.0
          ]
         },
         {
          "vectorType": "dense",
          "length": 3,
          "values": [
           1.997177391336967,
           3.8917825014145,
           1.5863652743344712
          ]
         },
         {
          "vectorType": "dense",
          "length": 2,
          "values": [
           0.5879193655617279,
           -0.5879193655617279
          ]
         },
         {
          "vectorType": "dense",
          "length": 2,
          "values": [
           0.6428876092677146,
           0.3571123907322854
          ]
         },
         0.0
        ],
        [
         15794253,
         "Female",
         35,
         147000,
         1,
         0.0,
         {
          "vectorType": "dense",
          "length": 3,
          "values": [
           0.0,
           35.0,
           147000.0
          ]
         },
         {
          "vectorType": "dense",
          "length": 3,
          "values": [
           0.0,
           3.2431520845120834,
           4.318438802354949
          ]
         },
         {
          "vectorType": "dense",
          "length": 2,
          "values": [
           -0.6742954641165202,
           0.6742954641165202
          ]
         },
         {
          "vectorType": "dense",
          "length": 2,
          "values": [
           0.33753568278309726,
           0.6624643172169027
          ]
         },
         1.0
        ],
        [
         15798850,
         "Male",
         25,
         79000,
         0,
         1.0,
         {
          "vectorType": "dense",
          "length": 3,
          "values": [
           1.0,
           25.0,
           79000.0
          ]
         },
         {
          "vectorType": "dense",
          "length": 3,
          "values": [
           1.997177391336967,
           2.3165372032229166,
           2.3207936420819117
          ]
         },
         {
          "vectorType": "dense",
          "length": 2,
          "values": [
           3.791437766552722,
           -3.791437766552722
          ]
         },
         {
          "vectorType": "dense",
          "length": 2,
          "values": [
           0.9779347238761957,
           0.022065276123804267
          ]
         },
         0.0
        ],
        [
         15800215,
         "Female",
         42,
         53000,
         0,
         0.0,
         {
          "vectorType": "dense",
          "length": 3,
          "values": [
           0.0,
           42.0,
           53000.0
          ]
         },
         {
          "vectorType": "dense",
          "length": 3,
          "values": [
           0.0,
           3.8917825014145,
           1.5569881396245735
          ]
         },
         {
          "vectorType": "dense",
          "length": 2,
          "values": [
           0.9805846410393553,
           -0.9805846410393553
          ]
         },
         {
          "vectorType": "dense",
          "length": 2,
          "values": [
           0.7272242064983587,
           0.2727757935016413
          ]
         },
         0.0
        ],
        [
         15807525,
         "Female",
         59,
         29000,
         1,
         0.0,
         {
          "vectorType": "dense",
          "length": 3,
          "values": [
           0.0,
           59.0,
           29000.0
          ]
         },
         {
          "vectorType": "dense",
          "length": 3,
          "values": [
           0.0,
           5.467027799606083,
           0.8519369065870308
          ]
         },
         {
          "vectorType": "dense",
          "length": 2,
          "values": [
           -2.2584626359843742,
           2.2584626359843742
          ]
         },
         {
          "vectorType": "dense",
          "length": 2,
          "values": [
           0.09462199082572657,
           0.9053780091742735
          ]
         },
         1.0
        ],
        [
         15807837,
         "Male",
         48,
         33000,
         1,
         1.0,
         {
          "vectorType": "dense",
          "length": 3,
          "values": [
           1.0,
           48.0,
           33000.0
          ]
         },
         {
          "vectorType": "dense",
          "length": 3,
          "values": [
           1.997177391336967,
           4.447751430188,
           0.9694454454266213
          ]
         },
         {
          "vectorType": "dense",
          "length": 2,
          "values": [
           -0.110117873683512,
           0.110117873683512
          ]
         },
         {
          "vectorType": "dense",
          "length": 2,
          "values": [
           0.47249831629221156,
           0.5275016837077884
          ]
         },
         1.0
        ],
        [
         15809823,
         "Male",
         26,
         15000,
         0,
         1.0,
         {
          "vectorType": "dense",
          "length": 3,
          "values": [
           1.0,
           26.0,
           15000.0
          ]
         },
         {
          "vectorType": "dense",
          "length": 3,
          "values": [
           1.997177391336967,
           2.4091986913518335,
           0.44065702064846424
          ]
         },
         {
          "vectorType": "dense",
          "length": 2,
          "values": [
           5.824595226659195,
           -5.824595226659195
          ]
         },
         {
          "vectorType": "dense",
          "length": 2,
          "values": [
           0.9970547008019808,
           0.0029452991980192245
          ]
         },
         0.0
        ],
        [
         15810075,
         "Female",
         44,
         39000,
         0,
         0.0,
         {
          "vectorType": "dense",
          "length": 3,
          "values": [
           0.0,
           44.0,
           39000.0
          ]
         },
         {
          "vectorType": "dense",
          "length": 3,
          "values": [
           0.0,
           4.077105477672333,
           1.145708253686007
          ]
         },
         {
          "vectorType": "dense",
          "length": 2,
          "values": [
           0.9966076935201134,
           -0.9966076935201134
          ]
         },
         {
          "vectorType": "dense",
          "length": 2,
          "values": [
           0.7303910881415508,
           0.26960891185844915
          ]
         },
         0.0
        ],
        [
         15810944,
         "Male",
         35,
         20000,
         0,
         1.0,
         {
          "vectorType": "dense",
          "length": 3,
          "values": [
           1.0,
           35.0,
           20000.0
          ]
         },
         {
          "vectorType": "dense",
          "length": 3,
          "values": [
           1.997177391336967,
           3.2431520845120834,
           0.5875426941979524
          ]
         },
         {
          "vectorType": "dense",
          "length": 2,
          "values": [
           3.4807353925963795,
           -3.4807353925963795
          ]
         },
         {
          "vectorType": "dense",
          "length": 2,
          "values": [
           0.9701346344070677,
           0.02986536559293229
          ]
         },
         0.0
        ],
        [
         15811177,
         "Female",
         35,
         77000,
         0,
         0.0,
         {
          "vectorType": "dense",
          "length": 3,
          "values": [
           0.0,
           35.0,
           77000.0
          ]
         },
         {
          "vectorType": "dense",
          "length": 3,
          "values": [
           0.0,
           3.2431520845120834,
           2.2620393726621164
          ]
         },
         {
          "vectorType": "dense",
          "length": 2,
          "values": [
           1.812725858175174,
           -1.812725858175174
          ]
         },
         {
          "vectorType": "dense",
          "length": 2,
          "values": [
           0.8596909962754816,
           0.14030900372451838
          ]
         },
         0.0
        ]
       ],
       "plotOptions": {
        "displayType": "table",
        "customPlotOptions": {},
        "pivotColumns": null,
        "pivotAggregation": null,
        "xColumns": null,
        "yColumns": null
       },
       "columnCustomDisplayInfos": {},
       "aggType": "",
       "isJsonSchema": true,
       "removedWidgets": [],
       "aggSchema": [],
       "schema": [
        {
         "name": "User ID",
         "type": "\"integer\"",
         "metadata": "{}"
        },
        {
         "name": "Gender",
         "type": "\"string\"",
         "metadata": "{}"
        },
        {
         "name": "Age",
         "type": "\"integer\"",
         "metadata": "{}"
        },
        {
         "name": "EstimatedSalary",
         "type": "\"integer\"",
         "metadata": "{}"
        },
        {
         "name": "Purchased",
         "type": "\"integer\"",
         "metadata": "{}"
        },
        {
         "name": "GenderIndex",
         "type": "\"double\"",
         "metadata": "{\"ml_attr\":{\"vals\":[\"Female\",\"Male\"],\"type\":\"nominal\",\"name\":\"GenderIndex\"}}"
        },
        {
         "name": "features",
         "type": "{\"type\":\"udt\",\"class\":\"org.apache.spark.ml.linalg.VectorUDT\",\"pyClass\":\"pyspark.ml.linalg.VectorUDT\",\"sqlType\":{\"type\":\"struct\",\"fields\":[{\"name\":\"type\",\"type\":\"byte\",\"nullable\":false,\"metadata\":{}},{\"name\":\"size\",\"type\":\"integer\",\"nullable\":true,\"metadata\":{}},{\"name\":\"indices\",\"type\":{\"type\":\"array\",\"elementType\":\"integer\",\"containsNull\":false},\"nullable\":true,\"metadata\":{}},{\"name\":\"values\",\"type\":{\"type\":\"array\",\"elementType\":\"double\",\"containsNull\":false},\"nullable\":true,\"metadata\":{}}]}}",
         "metadata": "{\"ml_attr\":{\"attrs\":{\"numeric\":[{\"idx\":1,\"name\":\"Age\"},{\"idx\":2,\"name\":\"EstimatedSalary\"}],\"nominal\":[{\"vals\":[\"Female\",\"Male\"],\"idx\":0,\"name\":\"GenderIndex\"}]},\"num_attrs\":3}}"
        },
        {
         "name": "scaledFeatures",
         "type": "{\"type\":\"udt\",\"class\":\"org.apache.spark.ml.linalg.VectorUDT\",\"pyClass\":\"pyspark.ml.linalg.VectorUDT\",\"sqlType\":{\"type\":\"struct\",\"fields\":[{\"name\":\"type\",\"type\":\"byte\",\"nullable\":false,\"metadata\":{}},{\"name\":\"size\",\"type\":\"integer\",\"nullable\":true,\"metadata\":{}},{\"name\":\"indices\",\"type\":{\"type\":\"array\",\"elementType\":\"integer\",\"containsNull\":false},\"nullable\":true,\"metadata\":{}},{\"name\":\"values\",\"type\":{\"type\":\"array\",\"elementType\":\"double\",\"containsNull\":false},\"nullable\":true,\"metadata\":{}}]}}",
         "metadata": "{\"ml_attr\":{\"num_attrs\":3}}"
        },
        {
         "name": "rawPrediction",
         "type": "{\"type\":\"udt\",\"class\":\"org.apache.spark.ml.linalg.VectorUDT\",\"pyClass\":\"pyspark.ml.linalg.VectorUDT\",\"sqlType\":{\"type\":\"struct\",\"fields\":[{\"name\":\"type\",\"type\":\"byte\",\"nullable\":false,\"metadata\":{}},{\"name\":\"size\",\"type\":\"integer\",\"nullable\":true,\"metadata\":{}},{\"name\":\"indices\",\"type\":{\"type\":\"array\",\"elementType\":\"integer\",\"containsNull\":false},\"nullable\":true,\"metadata\":{}},{\"name\":\"values\",\"type\":{\"type\":\"array\",\"elementType\":\"double\",\"containsNull\":false},\"nullable\":true,\"metadata\":{}}]}}",
         "metadata": "{\"ml_attr\":{\"num_attrs\":2}}"
        },
        {
         "name": "probability",
         "type": "{\"type\":\"udt\",\"class\":\"org.apache.spark.ml.linalg.VectorUDT\",\"pyClass\":\"pyspark.ml.linalg.VectorUDT\",\"sqlType\":{\"type\":\"struct\",\"fields\":[{\"name\":\"type\",\"type\":\"byte\",\"nullable\":false,\"metadata\":{}},{\"name\":\"size\",\"type\":\"integer\",\"nullable\":true,\"metadata\":{}},{\"name\":\"indices\",\"type\":{\"type\":\"array\",\"elementType\":\"integer\",\"containsNull\":false},\"nullable\":true,\"metadata\":{}},{\"name\":\"values\",\"type\":{\"type\":\"array\",\"elementType\":\"double\",\"containsNull\":false},\"nullable\":true,\"metadata\":{}}]}}",
         "metadata": "{\"ml_attr\":{\"num_attrs\":2}}"
        },
        {
         "name": "prediction",
         "type": "\"double\"",
         "metadata": "{\"ml_attr\":{\"type\":\"nominal\",\"num_vals\":2}}"
        }
       ],
       "aggError": "",
       "aggData": [],
       "addedWidgets": {},
       "metadata": {},
       "dbfsResultPath": null,
       "type": "table",
       "aggOverflow": false,
       "aggSeriesLimitReached": false,
       "arguments": {}
      }
     },
     "data": {
      "text/html": [
       "<style scoped>\n  .table-result-container {\n    max-height: 300px;\n    overflow: auto;\n  }\n  table, th, td {\n    border: 1px solid black;\n    border-collapse: collapse;\n  }\n  th, td {\n    padding: 5px;\n  }\n  th {\n    text-align: left;\n  }\n</style><div class='table-result-container'><table class='table-result'><thead style='background-color: white'><tr><th>User ID</th><th>Gender</th><th>Age</th><th>EstimatedSalary</th><th>Purchased</th><th>GenderIndex</th><th>features</th><th>scaledFeatures</th><th>rawPrediction</th><th>probability</th><th>prediction</th></tr></thead><tbody><tr><td>15569641</td><td>Female</td><td>58</td><td>95000</td><td>1</td><td>0.0</td><td>Map(vectorType -> dense, length -> 3, values -> List(0.0, 58.0, 95000.0))</td><td>Map(vectorType -> dense, length -> 3, values -> List(0.0, 5.374366311477167, 2.7908277974402735))</td><td>Map(vectorType -> dense, length -> 2, values -> List(-4.362677848156325, 4.362677848156325))</td><td>Map(vectorType -> dense, length -> 2, values -> List(0.012583843636093576, 0.9874161563639064))</td><td>1.0</td></tr><tr><td>15571059</td><td>Female</td><td>33</td><td>41000</td><td>0</td><td>0.0</td><td>Map(vectorType -> dense, length -> 3, values -> List(0.0, 33.0, 41000.0))</td><td>Map(vectorType -> dense, length -> 3, values -> List(0.0, 3.05782910825425, 1.2044625231058022))</td><td>Map(vectorType -> dense, length -> 2, values -> List(3.573146607331344, -3.573146607331344))</td><td>Map(vectorType -> dense, length -> 2, values -> List(0.9726988740483518, 0.027301125951648242))</td><td>0.0</td></tr><tr><td>15581282</td><td>Male</td><td>37</td><td>74000</td><td>0</td><td>1.0</td><td>Map(vectorType -> dense, length -> 3, values -> List(1.0, 37.0, 74000.0))</td><td>Map(vectorType -> dense, length -> 3, values -> List(1.997177391336967, 3.428475060769917, 2.1739079685324234))</td><td>Map(vectorType -> dense, length -> 2, values -> List(1.0807948748509144, -1.0807948748509144))</td><td>Map(vectorType -> dense, length -> 2, values -> List(0.7466443765489799, 0.25335562345102014))</td><td>0.0</td></tr><tr><td>15582492</td><td>Male</td><td>28</td><td>123000</td><td>1</td><td>1.0</td><td>Map(vectorType -> dense, length -> 3, values -> List(1.0, 28.0, 123000.0))</td><td>Map(vectorType -> dense, length -> 3, values -> List(1.997177391336967, 2.5945216676096665, 3.6133875693174065))</td><td>Map(vectorType -> dense, length -> 2, values -> List(1.5060954031458547, -1.5060954031458547))</td><td>Map(vectorType -> dense, length -> 2, values -> List(0.8184818247425623, 0.18151817525743774))</td><td>0.0</td></tr><tr><td>15583137</td><td>Male</td><td>40</td><td>61000</td><td>0</td><td>1.0</td><td>Map(vectorType -> dense, length -> 3, values -> List(1.0, 40.0, 61000.0))</td><td>Map(vectorType -> dense, length -> 3, values -> List(1.997177391336967, 3.7064595251566668, 1.7920052173037546))</td><td>Map(vectorType -> dense, length -> 2, values -> List(0.8205984453101429, -0.8205984453101429))</td><td>Map(vectorType -> dense, length -> 2, values -> List(0.6943633586686281, 0.3056366413313719))</td><td>0.0</td></tr><tr><td>15583681</td><td>Male</td><td>32</td><td>120000</td><td>1</td><td>1.0</td><td>Map(vectorType -> dense, length -> 3, values -> List(1.0, 32.0, 120000.0))</td><td>Map(vectorType -> dense, length -> 3, values -> List(1.997177391336967, 2.9651676201253334, 3.525256165187714))</td><td>Map(vectorType -> dense, length -> 2, values -> List(0.6499196072889024, -0.6499196072889024))</td><td>Map(vectorType -> dense, length -> 2, values -> List(0.6569923461311152, 0.34300765386888477))</td><td>0.0</td></tr><tr><td>15584114</td><td>Male</td><td>24</td><td>23000</td><td>0</td><td>1.0</td><td>Map(vectorType -> dense, length -> 3, values -> List(1.0, 24.0, 23000.0))</td><td>Map(vectorType -> dense, length -> 3, values -> List(1.997177391336967, 2.223875715094, 0.6756740983276451))</td><td>Map(vectorType -> dense, length -> 2, values -> List(6.02174543037487, -6.02174543037487))</td><td>Map(vectorType -> dense, length -> 2, values -> List(0.9975804360142784, 0.002419563985721629))</td><td>0.0</td></tr><tr><td>15589449</td><td>Male</td><td>39</td><td>106000</td><td>1</td><td>1.0</td><td>Map(vectorType -> dense, length -> 3, values -> List(1.0, 39.0, 106000.0))</td><td>Map(vectorType -> dense, length -> 3, values -> List(1.997177391336967, 3.6137980370277503, 3.113976279249147))</td><td>Map(vectorType -> dense, length -> 2, values -> List(-0.5375103701742994, 0.5375103701742994))</td><td>Map(vectorType -> dense, length -> 2, values -> List(0.36876692343312967, 0.6312330765668703))</td><td>1.0</td></tr><tr><td>15594041</td><td>Female</td><td>49</td><td>36000</td><td>1</td><td>0.0</td><td>Map(vectorType -> dense, length -> 3, values -> List(0.0, 49.0, 36000.0))</td><td>Map(vectorType -> dense, length -> 3, values -> List(0.0, 4.540412918316917, 1.057576849556314))</td><td>Map(vectorType -> dense, length -> 2, values -> List(-0.10025870832562767, 0.10025870832562767))</td><td>Map(vectorType -> dense, length -> 2, values -> List(0.4749562972805283, 0.5250437027194716))</td><td>1.0</td></tr><tr><td>15594762</td><td>Female</td><td>39</td><td>75000</td><td>1</td><td>0.0</td><td>Map(vectorType -> dense, length -> 3, values -> List(0.0, 39.0, 75000.0))</td><td>Map(vectorType -> dense, length -> 3, values -> List(0.0, 3.6137980370277503, 2.203285103242321))</td><td>Map(vectorType -> dense, length -> 2, values -> List(0.9210211862854845, -0.9210211862854845))</td><td>Map(vectorType -> dense, length -> 2, values -> List(0.7152501337448346, 0.2847498662551654))</td><td>0.0</td></tr><tr><td>15596522</td><td>Male</td><td>49</td><td>89000</td><td>1</td><td>1.0</td><td>Map(vectorType -> dense, length -> 3, values -> List(1.0, 49.0, 89000.0))</td><td>Map(vectorType -> dense, length -> 3, values -> List(1.997177391336967, 4.540412918316917, 2.6145649891808875))</td><td>Map(vectorType -> dense, length -> 2, values -> List(-2.3404255375056593, 2.3404255375056593))</td><td>Map(vectorType -> dense, length -> 2, values -> List(0.08782981659706793, 0.9121701834029321))</td><td>1.0</td></tr><tr><td>15598070</td><td>Female</td><td>40</td><td>60000</td><td>0</td><td>0.0</td><td>Map(vectorType -> dense, length -> 3, values -> List(0.0, 40.0, 60000.0))</td><td>Map(vectorType -> dense, length -> 3, values -> List(0.0, 3.7064595251566668, 1.762628082593857))</td><td>Map(vectorType -> dense, length -> 2, values -> List(1.2132637207877703, -1.2132637207877703))</td><td>Map(vectorType -> dense, length -> 2, values -> List(0.7708759173336727, 0.22912408266632733))</td><td>0.0</td></tr><tr><td>15598840</td><td>Female</td><td>32</td><td>135000</td><td>1</td><td>0.0</td><td>Map(vectorType -> dense, length -> 3, values -> List(0.0, 32.0, 135000.0))</td><td>Map(vectorType -> dense, length -> 3, values -> List(0.0, 2.9651676201253334, 3.965913185836178))</td><td>Map(vectorType -> dense, length -> 2, values -> List(0.4741228662427144, -0.4741228662427144))</td><td>Map(vectorType -> dense, length -> 2, values -> List(0.6163591181653871, 0.38364088183461287))</td><td>0.0</td></tr><tr><td>15599081</td><td>Female</td><td>45</td><td>22000</td><td>1</td><td>0.0</td><td>Map(vectorType -> dense, length -> 3, values -> List(0.0, 45.0, 22000.0))</td><td>Map(vectorType -> dense, length -> 3, values -> List(0.0, 4.16976696580125, 0.6462969636177476))</td><td>Map(vectorType -> dense, length -> 2, values -> List(1.3599079800878755, -1.3599079800878755))</td><td>Map(vectorType -> dense, length -> 2, values -> List(0.795744741662125, 0.20425525833787495))</td><td>0.0</td></tr><tr><td>15602373</td><td>Male</td><td>29</td><td>75000</td><td>0</td><td>1.0</td><td>Map(vectorType -> dense, length -> 3, values -> List(1.0, 29.0, 75000.0))</td><td>Map(vectorType -> dense, length -> 3, values -> List(1.997177391336967, 2.6871831557385835, 2.203285103242321))</td><td>Map(vectorType -> dense, length -> 2, values -> List(2.9707908467285105, -2.9707908467285105))</td><td>Map(vectorType -> dense, length -> 2, values -> List(0.9512369736734376, 0.048763026326562375))</td><td>0.0</td></tr><tr><td>15603942</td><td>Female</td><td>51</td><td>134000</td><td>0</td><td>0.0</td><td>Map(vectorType -> dense, length -> 3, values -> List(0.0, 51.0, 134000.0))</td><td>Map(vectorType -> dense, length -> 3, values -> List(0.0, 4.7257358945747505, 3.9365360511262804))</td><td>Map(vectorType -> dense, length -> 2, values -> List(-4.063469771511587, 4.063469771511587))</td><td>Map(vectorType -> dense, length -> 2, values -> List(0.016898794683739504, 0.9831012053162604))</td><td>1.0</td></tr><tr><td>15609637</td><td>Female</td><td>41</td><td>72000</td><td>0</td><td>0.0</td><td>Map(vectorType -> dense, length -> 3, values -> List(0.0, 41.0, 72000.0))</td><td>Map(vectorType -> dense, length -> 3, values -> List(0.0, 3.7991210132855833, 2.115153699112628))</td><td>Map(vectorType -> dense, length -> 2, values -> List(0.5462266024061169, -0.5462266024061169))</td><td>Map(vectorType -> dense, length -> 2, values -> List(0.6332596916336202, 0.36674030836637983))</td><td>0.0</td></tr><tr><td>15609653</td><td>Female</td><td>35</td><td>47000</td><td>0</td><td>0.0</td><td>Map(vectorType -> dense, length -> 3, values -> List(0.0, 35.0, 47000.0))</td><td>Map(vectorType -> dense, length -> 3, values -> List(0.0, 3.2431520845120834, 1.380725331365188))</td><td>Map(vectorType -> dense, length -> 2, values -> List(2.8785921391573304, -2.8785921391573304))</td><td>Map(vectorType -> dense, length -> 2, values -> List(0.9467779668766076, 0.053222033123392354))</td><td>0.0</td></tr><tr><td>15610801</td><td>Male</td><td>42</td><td>65000</td><td>0</td><td>1.0</td><td>Map(vectorType -> dense, length -> 3, values -> List(1.0, 42.0, 65000.0))</td><td>Map(vectorType -> dense, length -> 3, values -> List(1.997177391336967, 3.8917825014145, 1.909513756143345))</td><td>Map(vectorType -> dense, length -> 2, values -> List(0.19710172920160396, -0.19710172920160396))</td><td>Map(vectorType -> dense, length -> 2, values -> List(0.5491165241335108, 0.45088347586648925))</td><td>0.0</td></tr><tr><td>15617134</td><td>Male</td><td>35</td><td>59000</td><td>0</td><td>1.0</td><td>Map(vectorType -> dense, length -> 3, values -> List(1.0, 35.0, 59000.0))</td><td>Map(vectorType -> dense, length -> 3, values -> List(1.997177391336967, 3.2431520845120834, 1.7332509478839593))</td><td>Map(vectorType -> dense, length -> 2, values -> List(2.0951092273195773, -2.0951092273195773))</td><td>Map(vectorType -> dense, length -> 2, values -> List(0.8904269120111029, 0.10957308798889709))</td><td>0.0</td></tr><tr><td>15617877</td><td>Female</td><td>46</td><td>82000</td><td>0</td><td>0.0</td><td>Map(vectorType -> dense, length -> 3, values -> List(0.0, 46.0, 82000.0))</td><td>Map(vectorType -> dense, length -> 3, values -> List(0.0, 4.262428453930167, 2.4089250462116043))</td><td>Map(vectorType -> dense, length -> 2, values -> List(-1.012515187865226, 1.012515187865226))</td><td>Map(vectorType -> dense, length -> 2, values -> List(0.2664879130252008, 0.7335120869747992))</td><td>1.0</td></tr><tr><td>15619465</td><td>Female</td><td>48</td><td>30000</td><td>1</td><td>0.0</td><td>Map(vectorType -> dense, length -> 3, values -> List(0.0, 48.0, 30000.0))</td><td>Map(vectorType -> dense, length -> 3, values -> List(0.0, 4.447751430188, 0.8813140412969285))</td><td>Map(vectorType -> dense, length -> 2, values -> List(0.35360515385959346, -0.35360515385959346))</td><td>Map(vectorType -> dense, length -> 2, values -> List(0.5874915454770742, 0.41250845452292584))</td><td>0.0</td></tr><tr><td>15619653</td><td>Male</td><td>38</td><td>61000</td><td>0</td><td>1.0</td><td>Map(vectorType -> dense, length -> 3, values -> List(1.0, 38.0, 61000.0))</td><td>Map(vectorType -> dense, length -> 3, values -> List(1.997177391336967, 3.5211365488988333, 1.7920052173037546))</td><td>Map(vectorType -> dense, length -> 2, values -> List(1.3019796572877258, -1.3019796572877258))</td><td>Map(vectorType -> dense, length -> 2, values -> List(0.7861679675925096, 0.21383203240749038))</td><td>0.0</td></tr><tr><td>15621083</td><td>Female</td><td>48</td><td>29000</td><td>1</td><td>0.0</td><td>Map(vectorType -> dense, length -> 3, values -> List(0.0, 48.0, 29000.0))</td><td>Map(vectorType -> dense, length -> 3, values -> List(0.0, 4.447751430188, 0.8519369065870308))</td><td>Map(vectorType -> dense, length -> 2, values -> List(0.3891340298923307, -0.3891340298923307))</td><td>Map(vectorType -> dense, length -> 2, values -> List(0.5960742172531704, 0.40392578274682955))</td><td>0.0</td></tr><tr><td>15622585</td><td>Male</td><td>39</td><td>96000</td><td>1</td><td>1.0</td><td>Map(vectorType -> dense, length -> 3, values -> List(1.0, 39.0, 96000.0))</td><td>Map(vectorType -> dense, length -> 3, values -> List(1.997177391336967, 3.6137980370277503, 2.820204932150171))</td><td>Map(vectorType -> dense, length -> 2, values -> List(-0.1822216098469145, 0.1822216098469145))</td><td>Map(vectorType -> dense, length -> 2, values -> List(0.45457023489281545, 0.5454297651071845))</td><td>1.0</td></tr><tr><td>15627220</td><td>Male</td><td>39</td><td>71000</td><td>0</td><td>1.0</td><td>Map(vectorType -> dense, length -> 3, values -> List(1.0, 39.0, 71000.0))</td><td>Map(vectorType -> dense, length -> 3, values -> List(1.997177391336967, 3.6137980370277503, 2.085776564402731))</td><td>Map(vectorType -> dense, length -> 2, values -> List(0.7060002909715468, -0.7060002909715468))</td><td>Map(vectorType -> dense, length -> 2, values -> List(0.6695167687418125, 0.33048323125818746))</td><td>0.0</td></tr><tr><td>15628972</td><td>Male</td><td>18</td><td>82000</td><td>0</td><td>1.0</td><td>Map(vectorType -> dense, length -> 3, values -> List(1.0, 18.0, 82000.0))</td><td>Map(vectorType -> dense, length -> 3, values -> List(1.997177391336967, 1.6679067863205002, 2.4089250462116043))</td><td>Map(vectorType -> dense, length -> 2, values -> List(5.3696853803760485, -5.3696853803760485))</td><td>Map(vectorType -> dense, length -> 2, values -> List(0.9953659783103203, 0.004634021689679746))</td><td>0.0</td></tr><tr><td>15629885</td><td>Female</td><td>39</td><td>73000</td><td>0</td><td>0.0</td><td>Map(vectorType -> dense, length -> 3, values -> List(0.0, 39.0, 73000.0))</td><td>Map(vectorType -> dense, length -> 3, values -> List(0.0, 3.6137980370277503, 2.1445308338225257))</td><td>Map(vectorType -> dense, length -> 2, values -> List(0.9920789383509607, -0.9920789383509607))</td><td>Map(vectorType -> dense, length -> 2, values -> List(0.7294983559785094, 0.2705016440214906))</td><td>0.0</td></tr><tr><td>15631070</td><td>Female</td><td>37</td><td>62000</td><td>0</td><td>0.0</td><td>Map(vectorType -> dense, length -> 3, values -> List(0.0, 37.0, 62000.0))</td><td>Map(vectorType -> dense, length -> 3, values -> List(0.0, 3.428475060769917, 1.821382352013652))</td><td>Map(vectorType -> dense, length -> 2, values -> List(1.8642777866886675, -1.8642777866886675))</td><td>Map(vectorType -> dense, length -> 2, values -> List(0.865794780203863, 0.13420521979613698))</td><td>0.0</td></tr><tr><td>15635893</td><td>Male</td><td>60</td><td>42000</td><td>1</td><td>1.0</td><td>Map(vectorType -> dense, length -> 3, values -> List(1.0, 60.0, 42000.0))</td><td>Map(vectorType -> dense, length -> 3, values -> List(1.997177391336967, 5.559689287735, 1.2338396578156998))</td><td>Map(vectorType -> dense, length -> 2, values -> List(-3.318165029843657, 3.318165029843657))</td><td>Map(vectorType -> dense, length -> 2, values -> List(0.034953252077036014, 0.965046747922964))</td><td>1.0</td></tr><tr><td>15638003</td><td>Female</td><td>35</td><td>50000</td><td>0</td><td>0.0</td><td>Map(vectorType -> dense, length -> 3, values -> List(0.0, 35.0, 50000.0))</td><td>Map(vectorType -> dense, length -> 3, values -> List(0.0, 3.2431520845120834, 1.4688567354948807))</td><td>Map(vectorType -> dense, length -> 2, values -> List(2.772005511059115, -2.772005511059115))</td><td>Map(vectorType -> dense, length -> 2, values -> List(0.9411441737709382, 0.058855826229061825))</td><td>0.0</td></tr><tr><td>15646091</td><td>Female</td><td>46</td><td>32000</td><td>1</td><td>0.0</td><td>Map(vectorType -> dense, length -> 3, values -> List(0.0, 46.0, 32000.0))</td><td>Map(vectorType -> dense, length -> 3, values -> List(0.0, 4.262428453930167, 0.9400683107167237))</td><td>Map(vectorType -> dense, length -> 2, values -> List(0.7639286137716983, -0.7639286137716983))</td><td>Map(vectorType -> dense, length -> 2, values -> List(0.6822060700000104, 0.31779392999998957))</td><td>0.0</td></tr><tr><td>15646227</td><td>Male</td><td>46</td><td>79000</td><td>1</td><td>1.0</td><td>Map(vectorType -> dense, length -> 3, values -> List(1.0, 46.0, 79000.0))</td><td>Map(vectorType -> dense, length -> 3, values -> List(1.997177391336967, 4.262428453930167, 2.3207936420819117))</td><td>Map(vectorType -> dense, length -> 2, values -> List(-1.263064959211901, 1.263064959211901))</td><td>Map(vectorType -> dense, length -> 2, values -> List(0.22044672780568023, 0.7795532721943198))</td><td>1.0</td></tr><tr><td>15649668</td><td>Male</td><td>41</td><td>79000</td><td>0</td><td>1.0</td><td>Map(vectorType -> dense, length -> 3, values -> List(1.0, 41.0, 79000.0))</td><td>Map(vectorType -> dense, length -> 3, values -> List(1.997177391336967, 3.7991210132855833, 2.3207936420819117))</td><td>Map(vectorType -> dense, length -> 2, values -> List(-0.0596119292679429, 0.0596119292679429))</td><td>Map(vectorType -> dense, length -> 2, values -> List(0.48510142936290784, 0.5148985706370921))</td><td>1.0</td></tr><tr><td>15651983</td><td>Male</td><td>34</td><td>112000</td><td>1</td><td>1.0</td><td>Map(vectorType -> dense, length -> 3, values -> List(1.0, 34.0, 112000.0))</td><td>Map(vectorType -> dense, length -> 3, values -> List(1.997177391336967, 3.150490596383167, 3.290239087508533))</td><td>Map(vectorType -> dense, length -> 2, values -> List(0.45276940357322637, -0.45276940357322637))</td><td>Map(vectorType -> dense, length -> 2, values -> List(0.6112974823512608, 0.3887025176487392))</td><td>0.0</td></tr><tr><td>15654230</td><td>Female</td><td>55</td><td>130000</td><td>1</td><td>0.0</td><td>Map(vectorType -> dense, length -> 3, values -> List(0.0, 55.0, 130000.0))</td><td>Map(vectorType -> dense, length -> 3, values -> List(0.0, 5.0963818470904165, 3.81902751228669))</td><td>Map(vectorType -> dense, length -> 2, values -> List(-4.8841166913358, 4.8841166913358))</td><td>Map(vectorType -> dense, length -> 2, values -> List(0.007508992190085478, 0.9924910078099145))</td><td>1.0</td></tr><tr><td>15654574</td><td>Female</td><td>23</td><td>82000</td><td>0</td><td>0.0</td><td>Map(vectorType -> dense, length -> 3, values -> List(0.0, 23.0, 82000.0))</td><td>Map(vectorType -> dense, length -> 3, values -> List(0.0, 2.1312142269650836, 2.4089250462116043))</td><td>Map(vectorType -> dense, length -> 2, values -> List(4.5233687498769815, -4.5233687498769815))</td><td>Map(vectorType -> dense, length -> 2, values -> List(0.9892641072456194, 0.010735892754380583))</td><td>0.0</td></tr><tr><td>15668385</td><td>Male</td><td>39</td><td>42000</td><td>0</td><td>1.0</td><td>Map(vectorType -> dense, length -> 3, values -> List(1.0, 39.0, 42000.0))</td><td>Map(vectorType -> dense, length -> 3, values -> List(1.997177391336967, 3.6137980370277503, 1.2338396578156998))</td><td>Map(vectorType -> dense, length -> 2, values -> List(1.7363376959209642, -1.7363376959209642))</td><td>Map(vectorType -> dense, length -> 2, values -> List(0.8502212871086673, 0.1497787128913327))</td><td>0.0</td></tr><tr><td>15668575</td><td>Female</td><td>26</td><td>43000</td><td>0</td><td>0.0</td><td>Map(vectorType -> dense, length -> 3, values -> List(0.0, 26.0, 43000.0))</td><td>Map(vectorType -> dense, length -> 3, values -> List(0.0, 2.4091986913518335, 1.2632167925255975))</td><td>Map(vectorType -> dense, length -> 2, values -> List(5.186923097187407, -5.186923097187407))</td><td>Map(vectorType -> dense, length -> 2, values -> List(0.9944418875370128, 0.005558112462987208))</td><td>0.0</td></tr><tr><td>15669656</td><td>Male</td><td>31</td><td>18000</td><td>0</td><td>1.0</td><td>Map(vectorType -> dense, length -> 3, values -> List(1.0, 31.0, 18000.0))</td><td>Map(vectorType -> dense, length -> 3, values -> List(1.997177391336967, 2.872506131996417, 0.528788424778157))</td><td>Map(vectorType -> dense, length -> 2, values -> List(4.514555568617022, -4.514555568617022))</td><td>Map(vectorType -> dense, length -> 2, values -> List(0.989170100934484, 0.010829899065516013))</td><td>0.0</td></tr><tr><td>15670619</td><td>Male</td><td>25</td><td>90000</td><td>0</td><td>1.0</td><td>Map(vectorType -> dense, length -> 3, values -> List(1.0, 25.0, 90000.0))</td><td>Map(vectorType -> dense, length -> 3, values -> List(1.997177391336967, 2.3165372032229166, 2.643942123890785))</td><td>Map(vectorType -> dense, length -> 2, values -> List(3.4006201301926, -3.4006201301926))</td><td>Map(vectorType -> dense, length -> 2, values -> List(0.9677239102802425, 0.032276089719757484))</td><td>0.0</td></tr><tr><td>15671387</td><td>Female</td><td>41</td><td>72000</td><td>0</td><td>0.0</td><td>Map(vectorType -> dense, length -> 3, values -> List(0.0, 41.0, 72000.0))</td><td>Map(vectorType -> dense, length -> 3, values -> List(0.0, 3.7991210132855833, 2.115153699112628))</td><td>Map(vectorType -> dense, length -> 2, values -> List(0.5462266024061169, -0.5462266024061169))</td><td>Map(vectorType -> dense, length -> 2, values -> List(0.6332596916336202, 0.36674030836637983))</td><td>0.0</td></tr><tr><td>15671655</td><td>Female</td><td>35</td><td>23000</td><td>0</td><td>0.0</td><td>Map(vectorType -> dense, length -> 3, values -> List(0.0, 35.0, 23000.0))</td><td>Map(vectorType -> dense, length -> 3, values -> List(0.0, 3.2431520845120834, 0.6756740983276451))</td><td>Map(vectorType -> dense, length -> 2, values -> List(3.7312851639430544, -3.7312851639430544))</td><td>Map(vectorType -> dense, length -> 2, values -> List(0.9765987210217492, 0.02340127897825084))</td><td>0.0</td></tr><tr><td>15673619</td><td>Male</td><td>25</td><td>87000</td><td>0</td><td>1.0</td><td>Map(vectorType -> dense, length -> 3, values -> List(1.0, 25.0, 87000.0))</td><td>Map(vectorType -> dense, length -> 3, values -> List(1.997177391336967, 2.3165372032229166, 2.5558107197610926))</td><td>Map(vectorType -> dense, length -> 2, values -> List(3.507206758290815, -3.507206758290815))</td><td>Map(vectorType -> dense, length -> 2, values -> List(0.9708921292137173, 0.02910787078628274))</td><td>0.0</td></tr><tr><td>15674206</td><td>Male</td><td>35</td><td>72000</td><td>0</td><td>1.0</td><td>Map(vectorType -> dense, length -> 3, values -> List(1.0, 35.0, 72000.0))</td><td>Map(vectorType -> dense, length -> 3, values -> List(1.997177391336967, 3.2431520845120834, 2.115153699112628))</td><td>Map(vectorType -> dense, length -> 2, values -> List(1.633233838893977, -1.633233838893977))</td><td>Map(vectorType -> dense, length -> 2, values -> List(0.8366121608230036, 0.1633878391769964))</td><td>0.0</td></tr><tr><td>15679760</td><td>Male</td><td>24</td><td>19000</td><td>0</td><td>1.0</td><td>Map(vectorType -> dense, length -> 3, values -> List(1.0, 24.0, 19000.0))</td><td>Map(vectorType -> dense, length -> 3, values -> List(1.997177391336967, 2.223875715094, 0.5581655594880547))</td><td>Map(vectorType -> dense, length -> 2, values -> List(6.163860934505824, -6.163860934505824))</td><td>Map(vectorType -> dense, length -> 2, values -> List(0.9979003042751562, 0.0020996957248438086))</td><td>0.0</td></tr><tr><td>15680243</td><td>Female</td><td>20</td><td>36000</td><td>0</td><td>0.0</td><td>Map(vectorType -> dense, length -> 3, values -> List(0.0, 20.0, 36000.0))</td><td>Map(vectorType -> dense, length -> 3, values -> List(0.0, 1.8532297625783334, 1.057576849556314))</td><td>Map(vectorType -> dense, length -> 2, values -> List(6.879768865349327, -6.879768865349327))</td><td>Map(vectorType -> dense, length -> 2, values -> List(0.9989726747701242, 0.0010273252298758084))</td><td>0.0</td></tr><tr><td>15680587</td><td>Male</td><td>36</td><td>144000</td><td>1</td><td>1.0</td><td>Map(vectorType -> dense, length -> 3, values -> List(1.0, 36.0, 144000.0))</td><td>Map(vectorType -> dense, length -> 3, values -> List(1.997177391336967, 3.3358135726410003, 4.230307398225256))</td><td>Map(vectorType -> dense, length -> 2, values -> List(-1.1655358414519874, 1.1655358414519874))</td><td>Map(vectorType -> dense, length -> 2, values -> List(0.2376628495901277, 0.7623371504098723))</td><td>1.0</td></tr><tr><td>15687491</td><td>Male</td><td>30</td><td>107000</td><td>1</td><td>1.0</td><td>Map(vectorType -> dense, length -> 3, values -> List(1.0, 30.0, 107000.0))</td><td>Map(vectorType -> dense, length -> 3, values -> List(1.997177391336967, 2.7798446438675, 3.1433534139590447))</td><td>Map(vectorType -> dense, length -> 2, values -> List(1.5931762076920872, -1.5931762076920872))</td><td>Map(vectorType -> dense, length -> 2, values -> List(0.8310625040872315, 0.16893749591276852))</td><td>0.0</td></tr><tr><td>15690188</td><td>Female</td><td>33</td><td>28000</td><td>0</td><td>0.0</td><td>Map(vectorType -> dense, length -> 3, values -> List(0.0, 33.0, 28000.0))</td><td>Map(vectorType -> dense, length -> 3, values -> List(0.0, 3.05782910825425, 0.8225597718771333))</td><td>Map(vectorType -> dense, length -> 2, values -> List(4.035021995756944, -4.035021995756944))</td><td>Map(vectorType -> dense, length -> 2, values -> List(0.9826220431187624, 0.017377956881237555))</td><td>0.0</td></tr><tr><td>15691863</td><td>Female</td><td>46</td><td>41000</td><td>1</td><td>0.0</td><td>Map(vectorType -> dense, length -> 3, values -> List(0.0, 46.0, 41000.0))</td><td>Map(vectorType -> dense, length -> 3, values -> List(0.0, 4.262428453930167, 1.2044625231058022))</td><td>Map(vectorType -> dense, length -> 2, values -> List(0.44416872947705244, -0.44416872947705244))</td><td>Map(vectorType -> dense, length -> 2, values -> List(0.609251906007288, 0.39074809399271204))</td><td>0.0</td></tr><tr><td>15692819</td><td>Female</td><td>57</td><td>26000</td><td>1</td><td>0.0</td><td>Map(vectorType -> dense, length -> 3, values -> List(0.0, 57.0, 26000.0))</td><td>Map(vectorType -> dense, length -> 3, values -> List(0.0, 5.28170482334825, 0.763805502457338))</td><td>Map(vectorType -> dense, length -> 2, values -> List(-1.6704947959085796, 1.6704947959085796))</td><td>Map(vectorType -> dense, length -> 2, values -> List(0.15835822085515747, 0.8416417791448425))</td><td>1.0</td></tr><tr><td>15693264</td><td>Male</td><td>38</td><td>51000</td><td>0</td><td>1.0</td><td>Map(vectorType -> dense, length -> 3, values -> List(1.0, 38.0, 51000.0))</td><td>Map(vectorType -> dense, length -> 3, values -> List(1.997177391336967, 3.5211365488988333, 1.4982338702047784))</td><td>Map(vectorType -> dense, length -> 2, values -> List(1.6572684176151107, -1.6572684176151107))</td><td>Map(vectorType -> dense, length -> 2, values -> List(0.8398709797446056, 0.16012902025539444))</td><td>0.0</td></tr><tr><td>15694395</td><td>Female</td><td>24</td><td>32000</td><td>0</td><td>0.0</td><td>Map(vectorType -> dense, length -> 3, values -> List(0.0, 24.0, 32000.0))</td><td>Map(vectorType -> dense, length -> 3, values -> List(0.0, 2.223875715094, 0.9400683107167237))</td><td>Map(vectorType -> dense, length -> 2, values -> List(6.0591219455251135, -6.0591219455251135))</td><td>Map(vectorType -> dense, length -> 2, values -> List(0.9976689947619032, 0.002331005238096817))</td><td>0.0</td></tr><tr><td>15697020</td><td>Female</td><td>39</td><td>61000</td><td>0</td><td>0.0</td><td>Map(vectorType -> dense, length -> 3, values -> List(0.0, 39.0, 61000.0))</td><td>Map(vectorType -> dense, length -> 3, values -> List(0.0, 3.6137980370277503, 1.7920052173037546))</td><td>Map(vectorType -> dense, length -> 2, values -> List(1.4184254507438236, -1.4184254507438236))</td><td>Map(vectorType -> dense, length -> 2, values -> List(0.8050914580805492, 0.19490854191945084))</td><td>0.0</td></tr><tr><td>15697574</td><td>Female</td><td>33</td><td>69000</td><td>0</td><td>0.0</td><td>Map(vectorType -> dense, length -> 3, values -> List(0.0, 33.0, 69000.0))</td><td>Map(vectorType -> dense, length -> 3, values -> List(0.0, 3.05782910825425, 2.0270222949829355))</td><td>Map(vectorType -> dense, length -> 2, values -> List(2.5783380784146654, -2.5783380784146654))</td><td>Map(vectorType -> dense, length -> 2, values -> List(0.9294543764167348, 0.07054562358326522))</td><td>0.0</td></tr><tr><td>15699247</td><td>Male</td><td>31</td><td>76000</td><td>0</td><td>1.0</td><td>Map(vectorType -> dense, length -> 3, values -> List(1.0, 31.0, 76000.0))</td><td>Map(vectorType -> dense, length -> 3, values -> List(1.997177391336967, 2.872506131996417, 2.2326622379522187))</td><td>Map(vectorType -> dense, length -> 2, values -> List(2.453880758718187, -2.453880758718187))</td><td>Map(vectorType -> dense, length -> 2, values -> List(0.9208447804189083, 0.07915521958109173))</td><td>0.0</td></tr><tr><td>15699284</td><td>Female</td><td>29</td><td>28000</td><td>0</td><td>0.0</td><td>Map(vectorType -> dense, length -> 3, values -> List(0.0, 29.0, 28000.0))</td><td>Map(vectorType -> dense, length -> 3, values -> List(0.0, 2.6871831557385835, 0.8225597718771333))</td><td>Map(vectorType -> dense, length -> 2, values -> List(4.99778441971211, -4.99778441971211))</td><td>Map(vectorType -> dense, length -> 2, values -> List(0.9932924036622638, 0.00670759633773621))</td><td>0.0</td></tr><tr><td>15708228</td><td>Male</td><td>35</td><td>22000</td><td>0</td><td>1.0</td><td>Map(vectorType -> dense, length -> 3, values -> List(1.0, 35.0, 22000.0))</td><td>Map(vectorType -> dense, length -> 3, values -> List(1.997177391336967, 3.2431520845120834, 0.6462969636177476))</td><td>Map(vectorType -> dense, length -> 2, values -> List(3.4096776405309015, -3.4096776405309015))</td><td>Map(vectorType -> dense, length -> 2, values -> List(0.9680056203054305, 0.03199437969456953))</td><td>0.0</td></tr><tr><td>15717893</td><td>Female</td><td>42</td><td>70000</td><td>0</td><td>0.0</td><td>Map(vectorType -> dense, length -> 3, values -> List(0.0, 42.0, 70000.0))</td><td>Map(vectorType -> dense, length -> 3, values -> List(0.0, 3.8917825014145, 2.056399429692833))</td><td>Map(vectorType -> dense, length -> 2, values -> List(0.3765937484828008, -0.3765937484828008))</td><td>Map(vectorType -> dense, length -> 2, values -> List(0.5930512945032608, 0.4069487054967392))</td><td>0.0</td></tr><tr><td>15720745</td><td>Female</td><td>37</td><td>137000</td><td>1</td><td>0.0</td><td>Map(vectorType -> dense, length -> 3, values -> List(0.0, 37.0, 137000.0))</td><td>Map(vectorType -> dense, length -> 3, values -> List(0.0, 3.428475060769917, 4.024667455255973))</td><td>Map(vectorType -> dense, length -> 2, values -> List(-0.8003879157667217, 0.8003879157667217))</td><td>Map(vectorType -> dense, length -> 2, values -> List(0.30994254604410076, 0.6900574539558992))</td><td>1.0</td></tr><tr><td>15723373</td><td>Male</td><td>37</td><td>52000</td><td>0</td><td>1.0</td><td>Map(vectorType -> dense, length -> 3, values -> List(1.0, 37.0, 52000.0))</td><td>Map(vectorType -> dense, length -> 3, values -> List(1.997177391336967, 3.428475060769917, 1.527611004914676))</td><td>Map(vectorType -> dense, length -> 2, values -> List(1.8624301475711622, -1.8624301475711622))</td><td>Map(vectorType -> dense, length -> 2, values -> List(0.8655799501607122, 0.1344200498392878))</td><td>0.0</td></tr><tr><td>15725794</td><td>Female</td><td>36</td><td>63000</td><td>0</td><td>0.0</td><td>Map(vectorType -> dense, length -> 3, values -> List(0.0, 36.0, 63000.0))</td><td>Map(vectorType -> dense, length -> 3, values -> List(0.0, 3.3358135726410003, 1.8507594867235497))</td><td>Map(vectorType -> dense, length -> 2, values -> List(2.069439516644721, -2.069439516644721))</td><td>Map(vectorType -> dense, length -> 2, values -> List(0.8878971854264058, 0.11210281457359417))</td><td>0.0</td></tr><tr><td>15726358</td><td>Female</td><td>24</td><td>27000</td><td>0</td><td>0.0</td><td>Map(vectorType -> dense, length -> 3, values -> List(0.0, 24.0, 27000.0))</td><td>Map(vectorType -> dense, length -> 3, values -> List(0.0, 2.223875715094, 0.7931826371672356))</td><td>Map(vectorType -> dense, length -> 2, values -> List(6.236766325688807, -6.236766325688807))</td><td>Map(vectorType -> dense, length -> 2, values -> List(0.9980476482077781, 0.0019523517922218625))</td><td>0.0</td></tr><tr><td>15727696</td><td>Male</td><td>30</td><td>135000</td><td>1</td><td>1.0</td><td>Map(vectorType -> dense, length -> 3, values -> List(1.0, 30.0, 135000.0))</td><td>Map(vectorType -> dense, length -> 3, values -> List(1.997177391336967, 2.7798446438675, 3.965913185836178))</td><td>Map(vectorType -> dense, length -> 2, values -> List(0.5983676787754089, -0.5983676787754089))</td><td>Map(vectorType -> dense, length -> 2, values -> List(0.6452827681255594, 0.3547172318744406))</td><td>0.0</td></tr><tr><td>15734312</td><td>Male</td><td>38</td><td>71000</td><td>0</td><td>1.0</td><td>Map(vectorType -> dense, length -> 3, values -> List(1.0, 38.0, 71000.0))</td><td>Map(vectorType -> dense, length -> 3, values -> List(1.997177391336967, 3.5211365488988333, 2.085776564402731))</td><td>Map(vectorType -> dense, length -> 2, values -> List(0.9466908969603391, -0.9466908969603391))</td><td>Map(vectorType -> dense, length -> 2, values -> List(0.7204492039897279, 0.2795507960102721))</td><td>0.0</td></tr><tr><td>15735878</td><td>Male</td><td>52</td><td>150000</td><td>1</td><td>1.0</td><td>Map(vectorType -> dense, length -> 3, values -> List(1.0, 52.0, 150000.0))</td><td>Map(vectorType -> dense, length -> 3, values -> List(1.997177391336967, 4.818397382703667, 4.406570206484642))</td><td>Map(vectorType -> dense, length -> 2, values -> List(-5.229758793469086, 5.229758793469086))</td><td>Map(vectorType -> dense, length -> 2, values -> List(0.005326295427630315, 0.9946737045723697))</td><td>1.0</td></tr><tr><td>15736397</td><td>Female</td><td>58</td><td>38000</td><td>1</td><td>0.0</td><td>Map(vectorType -> dense, length -> 3, values -> List(0.0, 58.0, 38000.0))</td><td>Map(vectorType -> dense, length -> 3, values -> List(0.0, 5.374366311477167, 1.1163311189761094))</td><td>Map(vectorType -> dense, length -> 2, values -> List(-2.3375319142902313, 2.3375319142902313))</td><td>Map(vectorType -> dense, length -> 2, values -> List(0.08806191801934515, 0.9119380819806548))</td><td>1.0</td></tr><tr><td>15739160</td><td>Male</td><td>42</td><td>80000</td><td>0</td><td>1.0</td><td>Map(vectorType -> dense, length -> 3, values -> List(1.0, 42.0, 80000.0))</td><td>Map(vectorType -> dense, length -> 3, values -> List(1.997177391336967, 3.8917825014145, 2.3501707767918094))</td><td>Map(vectorType -> dense, length -> 2, values -> List(-0.33583141128947425, 0.33583141128947425))</td><td>Map(vectorType -> dense, length -> 2, values -> List(0.4168224311365076, 0.5831775688634924))</td><td>1.0</td></tr><tr><td>15748589</td><td>Female</td><td>45</td><td>45000</td><td>1</td><td>0.0</td><td>Map(vectorType -> dense, length -> 3, values -> List(0.0, 45.0, 45000.0))</td><td>Map(vectorType -> dense, length -> 3, values -> List(0.0, 4.16976696580125, 1.3219710619453926))</td><td>Map(vectorType -> dense, length -> 2, values -> List(0.5427438313348905, -0.5427438313348905))</td><td>Map(vectorType -> dense, length -> 2, values -> List(0.6324504716694025, 0.3675495283305975))</td><td>0.0</td></tr><tr><td>15750447</td><td>Male</td><td>37</td><td>70000</td><td>1</td><td>1.0</td><td>Map(vectorType -> dense, length -> 3, values -> List(1.0, 37.0, 70000.0))</td><td>Map(vectorType -> dense, length -> 3, values -> List(1.997177391336967, 3.428475060769917, 2.056399429692833))</td><td>Map(vectorType -> dense, length -> 2, values -> List(1.2229103789818687, -1.2229103789818687))</td><td>Map(vectorType -> dense, length -> 2, values -> List(0.772575316485012, 0.227424683514988))</td><td>0.0</td></tr><tr><td>15753874</td><td>Female</td><td>37</td><td>80000</td><td>0</td><td>0.0</td><td>Map(vectorType -> dense, length -> 3, values -> List(0.0, 37.0, 80000.0))</td><td>Map(vectorType -> dense, length -> 3, values -> List(0.0, 3.428475060769917, 2.3501707767918094))</td><td>Map(vectorType -> dense, length -> 2, values -> List(1.224758018099374, -1.224758018099374))</td><td>Map(vectorType -> dense, length -> 2, values -> List(0.7728997881577554, 0.2271002118422446))</td><td>0.0</td></tr><tr><td>15766289</td><td>Male</td><td>27</td><td>88000</td><td>0</td><td>1.0</td><td>Map(vectorType -> dense, length -> 3, values -> List(1.0, 27.0, 88000.0))</td><td>Map(vectorType -> dense, length -> 3, values -> List(1.997177391336967, 2.50186017948075, 2.5851878544709903))</td><td>Map(vectorType -> dense, length -> 2, values -> List(2.990296670280493, -2.990296670280493))</td><td>Map(vectorType -> dense, length -> 2, values -> List(0.952133832711064, 0.047866167288936))</td><td>0.0</td></tr><tr><td>15768072</td><td>Female</td><td>47</td><td>50000</td><td>1</td><td>0.0</td><td>Map(vectorType -> dense, length -> 3, values -> List(0.0, 47.0, 50000.0))</td><td>Map(vectorType -> dense, length -> 3, values -> List(0.0, 4.355089942059084, 1.4688567354948807))</td><td>Map(vectorType -> dense, length -> 2, values -> List(-0.11628176080638575, 0.11628176080638575))</td><td>Map(vectorType -> dense, length -> 2, values -> List(0.4709622717713339, 0.5290377282286661))</td><td>1.0</td></tr><tr><td>15774727</td><td>Female</td><td>31</td><td>71000</td><td>0</td><td>0.0</td><td>Map(vectorType -> dense, length -> 3, values -> List(0.0, 31.0, 71000.0))</td><td>Map(vectorType -> dense, length -> 3, values -> List(0.0, 2.872506131996417, 2.085776564402731))</td><td>Map(vectorType -> dense, length -> 2, values -> List(2.9886615383267703, -2.9886615383267703))</td><td>Map(vectorType -> dense, length -> 2, values -> List(0.952059256459165, 0.047940743540834996))</td><td>0.0</td></tr><tr><td>15779581</td><td>Male</td><td>29</td><td>43000</td><td>0</td><td>1.0</td><td>Map(vectorType -> dense, length -> 3, values -> List(1.0, 29.0, 43000.0))</td><td>Map(vectorType -> dense, length -> 3, values -> List(1.997177391336967, 2.6871831557385835, 1.2632167925255975))</td><td>Map(vectorType -> dense, length -> 2, values -> List(4.107714879776141, -4.107714879776141))</td><td>Map(vectorType -> dense, length -> 2, values -> List(0.9838207614762641, 0.016179238523735928))</td><td>0.0</td></tr><tr><td>15787550</td><td>Male</td><td>42</td><td>54000</td><td>0</td><td>1.0</td><td>Map(vectorType -> dense, length -> 3, values -> List(1.0, 42.0, 54000.0))</td><td>Map(vectorType -> dense, length -> 3, values -> List(1.997177391336967, 3.8917825014145, 1.5863652743344712))</td><td>Map(vectorType -> dense, length -> 2, values -> List(0.5879193655617279, -0.5879193655617279))</td><td>Map(vectorType -> dense, length -> 2, values -> List(0.6428876092677146, 0.3571123907322854))</td><td>0.0</td></tr><tr><td>15794253</td><td>Female</td><td>35</td><td>147000</td><td>1</td><td>0.0</td><td>Map(vectorType -> dense, length -> 3, values -> List(0.0, 35.0, 147000.0))</td><td>Map(vectorType -> dense, length -> 3, values -> List(0.0, 3.2431520845120834, 4.318438802354949))</td><td>Map(vectorType -> dense, length -> 2, values -> List(-0.6742954641165202, 0.6742954641165202))</td><td>Map(vectorType -> dense, length -> 2, values -> List(0.33753568278309726, 0.6624643172169027))</td><td>1.0</td></tr><tr><td>15798850</td><td>Male</td><td>25</td><td>79000</td><td>0</td><td>1.0</td><td>Map(vectorType -> dense, length -> 3, values -> List(1.0, 25.0, 79000.0))</td><td>Map(vectorType -> dense, length -> 3, values -> List(1.997177391336967, 2.3165372032229166, 2.3207936420819117))</td><td>Map(vectorType -> dense, length -> 2, values -> List(3.791437766552722, -3.791437766552722))</td><td>Map(vectorType -> dense, length -> 2, values -> List(0.9779347238761957, 0.022065276123804267))</td><td>0.0</td></tr><tr><td>15800215</td><td>Female</td><td>42</td><td>53000</td><td>0</td><td>0.0</td><td>Map(vectorType -> dense, length -> 3, values -> List(0.0, 42.0, 53000.0))</td><td>Map(vectorType -> dense, length -> 3, values -> List(0.0, 3.8917825014145, 1.5569881396245735))</td><td>Map(vectorType -> dense, length -> 2, values -> List(0.9805846410393553, -0.9805846410393553))</td><td>Map(vectorType -> dense, length -> 2, values -> List(0.7272242064983587, 0.2727757935016413))</td><td>0.0</td></tr><tr><td>15807525</td><td>Female</td><td>59</td><td>29000</td><td>1</td><td>0.0</td><td>Map(vectorType -> dense, length -> 3, values -> List(0.0, 59.0, 29000.0))</td><td>Map(vectorType -> dense, length -> 3, values -> List(0.0, 5.467027799606083, 0.8519369065870308))</td><td>Map(vectorType -> dense, length -> 2, values -> List(-2.2584626359843742, 2.2584626359843742))</td><td>Map(vectorType -> dense, length -> 2, values -> List(0.09462199082572657, 0.9053780091742735))</td><td>1.0</td></tr><tr><td>15807837</td><td>Male</td><td>48</td><td>33000</td><td>1</td><td>1.0</td><td>Map(vectorType -> dense, length -> 3, values -> List(1.0, 48.0, 33000.0))</td><td>Map(vectorType -> dense, length -> 3, values -> List(1.997177391336967, 4.447751430188, 0.9694454454266213))</td><td>Map(vectorType -> dense, length -> 2, values -> List(-0.110117873683512, 0.110117873683512))</td><td>Map(vectorType -> dense, length -> 2, values -> List(0.47249831629221156, 0.5275016837077884))</td><td>1.0</td></tr><tr><td>15809823</td><td>Male</td><td>26</td><td>15000</td><td>0</td><td>1.0</td><td>Map(vectorType -> dense, length -> 3, values -> List(1.0, 26.0, 15000.0))</td><td>Map(vectorType -> dense, length -> 3, values -> List(1.997177391336967, 2.4091986913518335, 0.44065702064846424))</td><td>Map(vectorType -> dense, length -> 2, values -> List(5.824595226659195, -5.824595226659195))</td><td>Map(vectorType -> dense, length -> 2, values -> List(0.9970547008019808, 0.0029452991980192245))</td><td>0.0</td></tr><tr><td>15810075</td><td>Female</td><td>44</td><td>39000</td><td>0</td><td>0.0</td><td>Map(vectorType -> dense, length -> 3, values -> List(0.0, 44.0, 39000.0))</td><td>Map(vectorType -> dense, length -> 3, values -> List(0.0, 4.077105477672333, 1.145708253686007))</td><td>Map(vectorType -> dense, length -> 2, values -> List(0.9966076935201134, -0.9966076935201134))</td><td>Map(vectorType -> dense, length -> 2, values -> List(0.7303910881415508, 0.26960891185844915))</td><td>0.0</td></tr><tr><td>15810944</td><td>Male</td><td>35</td><td>20000</td><td>0</td><td>1.0</td><td>Map(vectorType -> dense, length -> 3, values -> List(1.0, 35.0, 20000.0))</td><td>Map(vectorType -> dense, length -> 3, values -> List(1.997177391336967, 3.2431520845120834, 0.5875426941979524))</td><td>Map(vectorType -> dense, length -> 2, values -> List(3.4807353925963795, -3.4807353925963795))</td><td>Map(vectorType -> dense, length -> 2, values -> List(0.9701346344070677, 0.02986536559293229))</td><td>0.0</td></tr><tr><td>15811177</td><td>Female</td><td>35</td><td>77000</td><td>0</td><td>0.0</td><td>Map(vectorType -> dense, length -> 3, values -> List(0.0, 35.0, 77000.0))</td><td>Map(vectorType -> dense, length -> 3, values -> List(0.0, 3.2431520845120834, 2.2620393726621164))</td><td>Map(vectorType -> dense, length -> 2, values -> List(1.812725858175174, -1.812725858175174))</td><td>Map(vectorType -> dense, length -> 2, values -> List(0.8596909962754816, 0.14030900372451838))</td><td>0.0</td></tr></tbody></table></div>"
      ]
     }
    },
    {
     "output_type": "stream",
     "name": "stdout",
     "text": [
      "Confusion matrix: \nDenseMatrix([[51.,  4.],\n             [14., 17.]])\nAccuracy:  0.7906976744186046\nPrecision: 0.7906976744186046\nRecall:    0.5483870967741935\n"
     ]
    }
   ],
   "execution_count": 0
  },
  {
   "cell_type": "code",
   "source": [
    "%python\n",
    "\n",
    "#Exercise 1\n",
    "\n",
    "# Load social network data from FileStore.\n",
    "irisDf = spark.read.csv(\"/FileStore/tables/iris.csv\", \n",
    "                                 header=\"true\", inferSchema=\"true\")\n",
    "\n",
    "# Split the data into test and training sets. \n",
    "splits = irisDf.randomSplit([0.8, 0.2], seed=1234)\n",
    "train  = splits[0]\n",
    "test   = splits[1]\n"
   ],
   "metadata": {
    "application/vnd.databricks.v1+cell": {
     "showTitle": false,
     "cellMetadata": {},
     "nuid": "1db31ff0-61a5-4ddd-a3cb-69f15b4be9b8",
     "inputWidgets": {},
     "title": ""
    }
   },
   "outputs": [],
   "execution_count": 0
  },
  {
   "cell_type": "code",
   "source": [],
   "metadata": {
    "application/vnd.databricks.v1+cell": {
     "showTitle": false,
     "cellMetadata": {},
     "nuid": "63adae76-2f8e-4d6f-9611-59cf36d325e8",
     "inputWidgets": {},
     "title": ""
    }
   },
   "outputs": [],
   "execution_count": 0
  },
  {
   "cell_type": "code",
   "source": [
    "%python\n",
    "\n",
    "#Exercise 1\n",
    "\n",
    "# Load social network data from FileStore.\n",
    "irisDf = spark.read.csv(\"/FileStore/tables/iris.csv\", \n",
    "                                 header=\"true\", inferSchema=\"true\")\n",
    "\n",
    "# Split the data into test and training sets. \n",
    "splits = irisDf.randomSplit([0.8, 0.2], seed=1234)\n",
    "train  = splits[0]\n",
    "test   = splits[1]\n",
    "\n",
    "from pyspark.ml import Pipeline\n",
    "from pyspark.ml.feature import StringIndexer, OneHotEncoder, VectorAssembler, StandardScaler\n",
    "from pyspark.ml.classification import LogisticRegression\n",
    "\n",
    "# 1. Create flower type index column. Converts to 0 and 1 and 2.\n",
    "flowerTypeIndexer = StringIndexer().setInputCol(\"Flower_Type\").setOutputCol(\"Flower_Type_Index\")\n",
    "\n",
    "# Define feature and target variable names. \n",
    "features        = [\"Sepal_Length\", \"Sepal_Width\", \"Petal_Length\", \"Petal_Width\"]\n",
    "targetVariable  = \"Flower_Type_Index\"\n",
    "\n",
    "# 2. Set up feature vector.\n",
    "vectorAssembler = VectorAssembler().setInputCols(features).setOutputCol(\"features\")\n",
    "\n",
    "# 3. Set up feature scaler.\n",
    "scaler          = StandardScaler().setInputCol(\"features\").setOutputCol(\"scaledFeatures\")\n",
    "\n",
    "# 4. Set classifier with features and labels. \n",
    "logisticRegression = LogisticRegression().setFeaturesCol(\"scaledFeatures\")\\\n",
    "  .setLabelCol(targetVariable)\n",
    "\n",
    "# Define pipeline stages.\n",
    "# 1) Index flower type. 2) Build feature set. 3) Scale features. 4) Prep model.\n",
    "stages   = [flowerTypeIndexer, vectorAssembler, scaler, logisticRegression]\n",
    "pipeline = Pipeline().setStages(stages)\n",
    "\n",
    "# Get model object.\n",
    "model    = pipeline.fit(train)\n",
    "\n",
    "# Generate predictions\n",
    "results  = model.transform(test)\n",
    "display(results)\n",
    "\n",
    "\n",
    "# Get model object.\n",
    "model    = pipeline.fit(train)\n",
    "\n",
    "# Generate predictions\n",
    "results  = model.transform(test)\n",
    "display(results)\n",
    "\n",
    "\n",
    "from pyspark.mllib.evaluation import BinaryClassificationMetrics, MulticlassMetrics\n",
    "\n",
    "# Convert 'Flower_Type_Index' column to double.\n",
    "predictions = (results.withColumn(\"Flower_Type_index\", results[\"Flower_Type_index\"].cast(\"double\")))\n",
    "\n",
    "from pyspark.ml.evaluation import BinaryClassificationEvaluator\n",
    "\n",
    "# Compare predicted and actual value with MulticlassMetrics class.\n",
    "predictionsAndLabels = predictions.select(\"prediction\", \"Flower_Type_Index\").rdd\n",
    "metrics = MulticlassMetrics(predictionsAndLabels)\n",
    "\n",
    "# Obtain statistical measures.\n",
    "confusionMatrix = metrics.confusionMatrix()\n",
    "accuracy        = metrics.accuracy\n",
    "precision       = metrics.precision(1.0)\n",
    "recall          = metrics.recall(1.0)\n",
    "print(\"Confusion matrix: \")\n",
    "print(confusionMatrix)\n",
    "\n",
    "print(\"Accuracy:  \" + str(accuracy))\n",
    "print(\"Precision: \" + str(accuracy))\n",
    "print(\"Recall:    \" + str(recall))\n"
   ],
   "metadata": {
    "application/vnd.databricks.v1+cell": {
     "showTitle": false,
     "cellMetadata": {},
     "nuid": "3bf63c7c-59d6-4fcc-8a6a-67c6ae3ca2e5",
     "inputWidgets": {},
     "title": ""
    }
   },
   "outputs": [
    {
     "output_type": "display_data",
     "metadata": {
      "application/vnd.databricks.v1+output": {
       "overflow": false,
       "datasetInfos": [],
       "data": [
        [
         4.4,
         2.9,
         1.4,
         0.2,
         "Iris-setosa",
         2.0,
         {
          "vectorType": "dense",
          "length": 4,
          "values": [
           4.4,
           2.9,
           1.4,
           0.2
          ]
         },
         {
          "vectorType": "dense",
          "length": 4,
          "values": [
           5.0010171654063305,
           6.968190455239197,
           0.7920150679648652,
           0.2606750763541214
          ]
         },
         {
          "vectorType": "dense",
          "length": 3,
          "values": [
           -79.47072894873867,
           -33.6393926737438,
           113.11012162248248
          ]
         },
         {
          "vectorType": "dense",
          "length": 3,
          "values": [
           2.3078058860519703E-84,
           1.851380645087324E-64,
           1.0
          ]
         },
         2.0
        ],
        [
         4.5,
         2.3,
         1.3,
         0.3,
         "Iris-setosa",
         2.0,
         {
          "vectorType": "dense",
          "length": 4,
          "values": [
           4.5,
           2.3,
           1.3,
           0.3
          ]
         },
         {
          "vectorType": "dense",
          "length": 4,
          "values": [
           5.114676646438292,
           5.526495878293156,
           0.735442563110232,
           0.391012614531182
          ]
         },
         {
          "vectorType": "dense",
          "length": 3,
          "values": [
           -47.04386253042741,
           -5.127727392070199,
           52.1715899224976
          ]
         },
         {
          "vectorType": "dense",
          "length": 3,
          "values": [
           8.15223105453467E-44,
           1.3038351154249712E-25,
           1.0
          ]
         },
         2.0
        ],
        [
         4.9,
         3.1,
         1.5,
         0.1,
         "Iris-setosa",
         2.0,
         {
          "vectorType": "dense",
          "length": 4,
          "values": [
           4.9,
           3.1,
           1.5,
           0.1
          ]
         },
         {
          "vectorType": "dense",
          "length": 4,
          "values": [
           5.56931457056614,
           7.448755314221212,
           0.8485875728194985,
           0.1303375381770607
          ]
         },
         {
          "vectorType": "dense",
          "length": 3,
          "values": [
           -87.52121972004588,
           -38.83267163699415,
           126.35389135704004
          ]
         },
         {
          "vectorType": "dense",
          "length": 3,
          "values": [
           1.303825416331986E-93,
           1.8213239861593713E-72,
           1.0
          ]
         },
         2.0
        ],
        [
         5.0,
         3.0,
         1.6,
         0.2,
         "Iris-setosa",
         2.0,
         {
          "vectorType": "dense",
          "length": 4,
          "values": [
           5.0,
           3.0,
           1.6,
           0.2
          ]
         },
         {
          "vectorType": "dense",
          "length": 4,
          "values": [
           5.6829740515981015,
           7.208472884730204,
           0.9051600776741318,
           0.2606750763541214
          ]
         },
         {
          "vectorType": "dense",
          "length": 3,
          "values": [
           -76.99038590691146,
           -30.92206184282783,
           107.91244774973931
          ]
         },
         {
          "vectorType": "dense",
          "length": 3,
          "values": [
           4.985625519420681E-81,
           5.069190195385229E-61,
           1.0
          ]
         },
         2.0
        ],
        [
         5.0,
         3.2,
         1.2,
         0.2,
         "Iris-setosa",
         2.0,
         {
          "vectorType": "dense",
          "length": 4,
          "values": [
           5.0,
           3.2,
           1.2,
           0.2
          ]
         },
         {
          "vectorType": "dense",
          "length": 4,
          "values": [
           5.6829740515981015,
           7.689037743712219,
           0.6788700582555988,
           0.2606750763541214
          ]
         },
         {
          "vectorType": "dense",
          "length": 3,
          "values": [
           -93.00873357864847,
           -42.656330433691906,
           135.66506401234045
          ]
         },
         {
          "vectorType": "dense",
          "length": 3,
          "values": [
           4.877884922615119E-100,
           3.597513122710428E-78,
           1.0
          ]
         },
         2.0
        ],
        [
         5.0,
         3.3,
         1.4,
         0.2,
         "Iris-setosa",
         2.0,
         {
          "vectorType": "dense",
          "length": 4,
          "values": [
           5.0,
           3.3,
           1.4,
           0.2
          ]
         },
         {
          "vectorType": "dense",
          "length": 4,
          "values": [
           5.6829740515981015,
           7.929320173203225,
           0.7920150679648652,
           0.2606750763541214
          ]
         },
         {
          "vectorType": "dense",
          "length": 3,
          "values": [
           -94.96796188979508,
           -45.6119260659063,
           140.57988795570145
          ]
         },
         {
          "vectorType": "dense",
          "length": 3,
          "values": [
           5.045086164717633E-103,
           1.373797098691763E-81,
           1.0
          ]
         },
         2.0
        ],
        [
         5.0,
         3.4,
         1.5,
         0.2,
         "Iris-setosa",
         2.0,
         {
          "vectorType": "dense",
          "length": 4,
          "values": [
           5.0,
           3.4,
           1.5,
           0.2
          ]
         },
         {
          "vectorType": "dense",
          "length": 4,
          "values": [
           5.6829740515981015,
           8.169602602694232,
           0.8485875728194985,
           0.2606750763541214
          ]
         },
         {
          "vectorType": "dense",
          "length": 3,
          "values": [
           -98.43967658212219,
           -49.29540636392511,
           147.73508294604733
          ]
         },
         {
          "vectorType": "dense",
          "length": 3,
          "values": [
           1.2236588429913587E-107,
           2.6961604018502634E-86,
           1.0
          ]
         },
         2.0
        ],
        [
         5.1,
         3.5,
         1.4,
         0.3,
         "Iris-setosa",
         2.0,
         {
          "vectorType": "dense",
          "length": 4,
          "values": [
           5.1,
           3.5,
           1.4,
           0.3
          ]
         },
         {
          "vectorType": "dense",
          "length": 4,
          "values": [
           5.7966335326300635,
           8.409885032185239,
           0.7920150679648652,
           0.391012614531182
          ]
         },
         {
          "vectorType": "dense",
          "length": 3,
          "values": [
           -100.90221767836385,
           -51.66329582901406,
           152.56551350737794
          ]
         },
         {
          "vectorType": "dense",
          "length": 3,
          "values": [
           8.324592923536577E-111,
           2.0162995794324653E-89,
           1.0
          ]
         },
         2.0
        ],
        [
         5.3,
         3.7,
         1.5,
         0.2,
         "Iris-setosa",
         2.0,
         {
          "vectorType": "dense",
          "length": 4,
          "values": [
           5.3,
           3.7,
           1.5,
           0.2
          ]
         },
         {
          "vectorType": "dense",
          "length": 4,
          "values": [
           6.0239524946939875,
           8.890449891167252,
           0.8485875728194985,
           0.2606750763541214
          ]
         },
         {
          "vectorType": "dense",
          "length": 3,
          "values": [
           -111.17249412615797,
           -59.6930380238296,
           170.8655321499876
          ]
         },
         {
          "vectorType": "dense",
          "length": 3,
          "values": [
           3.2541794738694936E-123,
           7.407731251802606E-101,
           1.0
          ]
         },
         2.0
        ],
        [
         5.4,
         3.4,
         1.5,
         0.4,
         "Iris-setosa",
         2.0,
         {
          "vectorType": "dense",
          "length": 4,
          "values": [
           5.4,
           3.4,
           1.5,
           0.4
          ]
         },
         {
          "vectorType": "dense",
          "length": 4,
          "values": [
           6.13761197572595,
           8.169602602694232,
           0.8485875728194985,
           0.5213501527082428
          ]
         },
         {
          "vectorType": "dense",
          "length": 3,
          "values": [
           -88.8915267475715,
           -41.861710547137605,
           130.7532372947091
          ]
         },
         {
          "vectorType": "dense",
          "length": 3,
          "values": [
           4.069030990143796E-96,
           1.0821330425483868E-75,
           1.0
          ]
         },
         2.0
        ],
        [
         5.5,
         2.3,
         4.0,
         1.3,
         "Iris-versicolor",
         1.0,
         {
          "vectorType": "dense",
          "length": 4,
          "values": [
           5.5,
           2.3,
           4.0,
           1.3
          ]
         },
         {
          "vectorType": "dense",
          "length": 4,
          "values": [
           6.251271456757912,
           5.526495878293156,
           2.2629001941853293,
           1.694387996301789
          ]
         },
         {
          "vectorType": "dense",
          "length": 3,
          "values": [
           34.1347333459086,
           42.23876023003584,
           -76.37349357594444
          ]
         },
         {
          "vectorType": "dense",
          "length": 3,
          "values": [
           3.022279095822373E-4,
           0.9996977720904177,
           3.070587023296591E-52
          ]
         },
         1.0
        ],
        [
         5.5,
         2.6,
         4.4,
         1.2,
         "Iris-versicolor",
         1.0,
         {
          "vectorType": "dense",
          "length": 4,
          "values": [
           5.5,
           2.6,
           4.4,
           1.2
          ]
         },
         {
          "vectorType": "dense",
          "length": 4,
          "values": [
           6.251271456757912,
           6.247343166766178,
           2.4891902136038624,
           1.564050458124728
          ]
         },
         {
          "vectorType": "dense",
          "length": 3,
          "values": [
           21.937857850490353,
           30.090331581100166,
           -52.028189431590526
          ]
         },
         {
          "vectorType": "dense",
          "length": 3,
          "values": [
           2.879390560587247E-4,
           0.9997120609439413,
           2.1689742383581484E-36
          ]
         },
         1.0
        ],
        [
         5.5,
         3.5,
         1.3,
         0.2,
         "Iris-setosa",
         2.0,
         {
          "vectorType": "dense",
          "length": 4,
          "values": [
           5.5,
           3.5,
           1.3,
           0.2
          ]
         },
         {
          "vectorType": "dense",
          "length": 4,
          "values": [
           6.251271456757912,
           8.409885032185239,
           0.735442563110232,
           0.2606750763541214
          ]
         },
         {
          "vectorType": "dense",
          "length": 3,
          "values": [
           -102.74920762384579,
           -50.43510194008182,
           153.18430956392768
          ]
         },
         {
          "vectorType": "dense",
          "length": 3,
          "values": [
           7.071080008375973E-112,
           3.7086271676320155E-89,
           1.0
          ]
         },
         2.0
        ],
        [
         5.5,
         4.2,
         1.4,
         0.2,
         "Iris-setosa",
         2.0,
         {
          "vectorType": "dense",
          "length": 4,
          "values": [
           5.5,
           4.2,
           1.4,
           0.2
          ]
         },
         {
          "vectorType": "dense",
          "length": 4,
          "values": [
           6.251271456757912,
           10.091862038622287,
           0.7920150679648652,
           0.2606750763541214
          ]
         },
         {
          "vectorType": "dense",
          "length": 3,
          "values": [
           -136.1261287572183,
           -80.58677202103996,
           216.71290077825836
          ]
         },
         {
          "vectorType": "dense",
          "length": 3,
          "values": [
           5.807062130682153E-154,
           7.662890710608592E-130,
           1.0
          ]
         },
         2.0
        ],
        [
         5.6,
         3.0,
         4.1,
         1.3,
         "Iris-versicolor",
         1.0,
         {
          "vectorType": "dense",
          "length": 4,
          "values": [
           5.6,
           3.0,
           4.1,
           1.3
          ]
         },
         {
          "vectorType": "dense",
          "length": 4,
          "values": [
           6.3649309377898735,
           7.208472884730204,
           2.319472699039962,
           1.694387996301789
          ]
         },
         {
          "vectorType": "dense",
          "length": 3,
          "values": [
           1.4977407713650734,
           13.032577892932729,
           -14.530318664297795
          ]
         },
         {
          "vectorType": "dense",
          "length": 3,
          "values": [
           9.783170888016409E-6,
           0.9999902168280415,
           1.0704881672193657E-12
          ]
         },
         1.0
        ],
        [
         5.7,
         2.6,
         3.5,
         1.0,
         "Iris-versicolor",
         1.0,
         {
          "vectorType": "dense",
          "length": 4,
          "values": [
           5.7,
           2.6,
           3.5,
           1.0
          ]
         },
         {
          "vectorType": "dense",
          "length": 4,
          "values": [
           6.478590418821836,
           6.247343166766178,
           1.9800376699121631,
           1.3033753817706069
          ]
         },
         {
          "vectorType": "dense",
          "length": 3,
          "values": [
           3.216901938289375,
           21.778600235203335,
           -24.995502173492746
          ]
         },
         {
          "vectorType": "dense",
          "length": 3,
          "values": [
           8.684740597294553E-9,
           0.9999999913152594,
           4.8558518055759154E-21
          ]
         },
         1.0
        ],
        [
         5.7,
         3.8,
         1.7,
         0.3,
         "Iris-setosa",
         2.0,
         {
          "vectorType": "dense",
          "length": 4,
          "values": [
           5.7,
           3.8,
           1.7,
           0.3
          ]
         },
         {
          "vectorType": "dense",
          "length": 4,
          "values": [
           6.478590418821836,
           9.13073232065826,
           0.9617325825287649,
           0.391012614531182
          ]
         },
         {
          "vectorType": "dense",
          "length": 3,
          "values": [
           -106.87779040237135,
           -57.040810259940116,
           163.91860066231146
          ]
         },
         {
          "vectorType": "dense",
          "length": 3,
          "values": [
           2.4809707340607856E-118,
           1.0928161684698039E-96,
           1.0
          ]
         },
         2.0
        ],
        [
         5.7,
         4.4,
         1.5,
         0.4,
         "Iris-setosa",
         2.0,
         {
          "vectorType": "dense",
          "length": 4,
          "values": [
           5.7,
           4.4,
           1.5,
           0.4
          ]
         },
         {
          "vectorType": "dense",
          "length": 4,
          "values": [
           6.478590418821836,
           10.5724268976043,
           0.8485875728194985,
           0.5213501527082428
          ]
         },
         {
          "vectorType": "dense",
          "length": 3,
          "values": [
           -136.51375180616026,
           -83.13889695380466,
           219.6526487599649
          ]
         },
         {
          "vectorType": "dense",
          "length": 3,
          "values": [
           2.0839994249427833E-155,
           3.157203165386214E-132,
           1.0
          ]
         },
         2.0
        ],
        [
         5.8,
         2.7,
         5.1,
         1.9,
         "Iris-virginica",
         0.0,
         {
          "vectorType": "dense",
          "length": 4,
          "values": [
           5.8,
           2.7,
           5.1,
           1.9
          ]
         },
         {
          "vectorType": "dense",
          "length": 4,
          "values": [
           6.592249899853798,
           6.4876255962571845,
           2.8851977475862944,
           2.476413225364153
          ]
         },
         {
          "vectorType": "dense",
          "length": 3,
          "values": [
           52.820371719054585,
           46.39172945425841,
           -99.21210117331299
          ]
         },
         {
          "vectorType": "dense",
          "length": 3,
          "values": [
           0.9983879612621571,
           0.0016120387378428783,
           9.385021855106373E-67
          ]
         },
         0.0
        ],
        [
         6.0,
         2.2,
         5.0,
         1.5,
         "Iris-virginica",
         0.0,
         {
          "vectorType": "dense",
          "length": 4,
          "values": [
           6.0,
           2.2,
           5.0,
           1.5
          ]
         },
         {
          "vectorType": "dense",
          "length": 4,
          "values": [
           6.819568861917722,
           5.28621344880215,
           2.8286252427316616,
           1.9550630726559102
          ]
         },
         {
          "vectorType": "dense",
          "length": 3,
          "values": [
           64.5318766246004,
           62.308155412545716,
           -126.84003203714613
          ]
         },
         {
          "vectorType": "dense",
          "length": 3,
          "values": [
           0.9023595510139278,
           0.09764044898607219,
           6.976148172622101E-84
          ]
         },
         0.0
        ],
        [
         6.0,
         2.9,
         4.5,
         1.5,
         "Iris-versicolor",
         1.0,
         {
          "vectorType": "dense",
          "length": 4,
          "values": [
           6.0,
           2.9,
           4.5,
           1.5
          ]
         },
         {
          "vectorType": "dense",
          "length": 4,
          "values": [
           6.819568861917722,
           6.968190455239197,
           2.545762718458495,
           1.9550630726559102
          ]
         },
         {
          "vectorType": "dense",
          "length": 3,
          "values": [
           22.080037204145157,
           27.789177336761117,
           -49.8692145409063
          ]
         },
         {
          "vectorType": "dense",
          "length": 3,
          "values": [
           0.003304565867384444,
           0.9966954341326155,
           1.870472824301893E-34
          ]
         },
         1.0
        ],
        [
         6.1,
         2.6,
         5.6,
         1.4,
         "Iris-virginica",
         0.0,
         {
          "vectorType": "dense",
          "length": 4,
          "values": [
           6.1,
           2.6,
           5.6,
           1.4
          ]
         },
         {
          "vectorType": "dense",
          "length": 4,
          "values": [
           6.933228342949684,
           6.247343166766178,
           3.168060271859461,
           1.8247255344788496
          ]
         },
         {
          "vectorType": "dense",
          "length": 3,
          "values": [
           51.1157013768645,
           48.14961887525074,
           -99.26532025211523
          ]
         },
         {
          "vectorType": "dense",
          "length": 3,
          "values": [
           0.951018111588244,
           0.048981888411756054,
           4.6616633979349213E-66
          ]
         },
         0.0
        ],
        [
         6.1,
         2.8,
         4.0,
         1.3,
         "Iris-versicolor",
         1.0,
         {
          "vectorType": "dense",
          "length": 4,
          "values": [
           6.1,
           2.8,
           4.0,
           1.3
          ]
         },
         {
          "vectorType": "dense",
          "length": 4,
          "values": [
           6.933228342949684,
           6.7279080257481905,
           2.2629001941853293,
           1.694387996301789
          ]
         },
         {
          "vectorType": "dense",
          "length": 3,
          "values": [
           13.653299331344627,
           25.85486187405011,
           -39.5081612053947
          ]
         },
         {
          "vectorType": "dense",
          "length": 3,
          "values": [
           5.022576216830011E-6,
           0.9999949774237832,
           4.1039076073810915E-29
          ]
         },
         1.0
        ],
        [
         6.1,
         2.8,
         4.7,
         1.2,
         "Iris-versicolor",
         1.0,
         {
          "vectorType": "dense",
          "length": 4,
          "values": [
           6.1,
           2.8,
           4.7,
           1.2
          ]
         },
         {
          "vectorType": "dense",
          "length": 4,
          "values": [
           6.933228342949684,
           6.7279080257481905,
           2.658907728167762,
           1.564050458124728
          ]
         },
         {
          "vectorType": "dense",
          "length": 3,
          "values": [
           20.946486199990495,
           29.124182113997364,
           -50.07066831398782
          ]
         },
         {
          "vectorType": "dense",
          "length": 3,
          "values": [
           2.8076944021727837E-4,
           0.9997192305597828,
           4.036375024185615E-35
          ]
         },
         1.0
        ],
        [
         6.1,
         3.0,
         4.9,
         1.8,
         "Iris-virginica",
         0.0,
         {
          "vectorType": "dense",
          "length": 4,
          "values": [
           6.1,
           3.0,
           4.9,
           1.8
          ]
         },
         {
          "vectorType": "dense",
          "length": 4,
          "values": [
           6.933228342949684,
           7.208472884730204,
           2.7720527378770288,
           2.3460756871870925
          ]
         },
         {
          "vectorType": "dense",
          "length": 3,
          "values": [
           33.76836361304057,
           32.7124560420615,
           -66.48081965510205
          ]
         },
         {
          "vectorType": "dense",
          "length": 3,
          "values": [
           0.741907700375655,
           0.25809229962434505,
           2.1512098117444062E-44
          ]
         },
         0.0
        ],
        [
         6.3,
         2.5,
         4.9,
         1.5,
         "Iris-versicolor",
         1.0,
         {
          "vectorType": "dense",
          "length": 4,
          "values": [
           6.3,
           2.5,
           4.9,
           1.5
          ]
         },
         {
          "vectorType": "dense",
          "length": 4,
          "values": [
           7.160547305013608,
           6.007060737275171,
           2.7720527378770288,
           1.9550630726559102
          ]
         },
         {
          "vectorType": "dense",
          "length": 3,
          "values": [
           50.286572699384195,
           51.18263908683683,
           -101.469211786221
          ]
         },
         {
          "vectorType": "dense",
          "length": 3,
          "values": [
           0.28985952624623723,
           0.7101404737537629,
           3.593252852807647E-67
          ]
         },
         1.0
        ],
        [
         6.3,
         2.7,
         4.9,
         1.8,
         "Iris-virginica",
         0.0,
         {
          "vectorType": "dense",
          "length": 4,
          "values": [
           6.3,
           2.7,
           4.9,
           1.8
          ]
         },
         {
          "vectorType": "dense",
          "length": 4,
          "values": [
           7.160547305013608,
           6.4876255962571845,
           2.7720527378770288,
           2.3460756871870925
          ]
         },
         {
          "vectorType": "dense",
          "length": 3,
          "values": [
           50.200823951221174,
           47.837526421241286,
           -98.03835037246246
          ]
         },
         {
          "vectorType": "dense",
          "length": 3,
          "values": [
           0.9139853985598807,
           0.08601460144011928,
           3.8149060499907516E-65
          ]
         },
         0.0
        ],
        [
         6.3,
         2.9,
         5.6,
         1.8,
         "Iris-virginica",
         0.0,
         {
          "vectorType": "dense",
          "length": 4,
          "values": [
           6.3,
           2.9,
           5.6,
           1.8
          ]
         },
         {
          "vectorType": "dense",
          "length": 4,
          "values": [
           7.160547305013608,
           6.968190455239197,
           3.168060271859461,
           2.3460756871870925
          ]
         },
         {
          "vectorType": "dense",
          "length": 3,
          "values": [
           50.819826472469295,
           44.10998915422572,
           -94.92981562669505
          ]
         },
         {
          "vectorType": "dense",
          "length": 3,
          "values": [
           0.9987826214218206,
           0.0012173785781794983,
           5.0258054631256734E-64
          ]
         },
         0.0
        ],
        [
         6.3,
         3.3,
         4.7,
         1.6,
         "Iris-versicolor",
         1.0,
         {
          "vectorType": "dense",
          "length": 4,
          "values": [
           6.3,
           3.3,
           4.7,
           1.6
          ]
         },
         {
          "vectorType": "dense",
          "length": 4,
          "values": [
           7.160547305013608,
           7.929320173203225,
           2.658907728167762,
           2.0854006108329712
          ]
         },
         {
          "vectorType": "dense",
          "length": 3,
          "values": [
           10.682209148580142,
           16.26182246532589,
           -26.94403161390602
          ]
         },
         {
          "vectorType": "dense",
          "length": 3,
          "values": [
           0.0037598348794996815,
           0.9962401651205003,
           1.7151418127156051E-19
          ]
         },
         1.0
        ],
        [
         6.4,
         2.8,
         5.6,
         2.1,
         "Iris-virginica",
         0.0,
         {
          "vectorType": "dense",
          "length": 4,
          "values": [
           6.4,
           2.8,
           5.6,
           2.1
          ]
         },
         {
          "vectorType": "dense",
          "length": 4,
          "values": [
           7.274206786045571,
           6.7279080257481905,
           3.168060271859461,
           2.7370883017182743
          ]
         },
         {
          "vectorType": "dense",
          "length": 3,
          "values": [
           66.42660950365797,
           54.944459123954914,
           -121.37106862761283
          ]
         },
         {
          "vectorType": "dense",
          "length": 3,
          "values": [
           0.9999896875710105,
           1.0312428989588983E-5,
           2.7574026884756624E-82
          ]
         },
         0.0
        ],
        [
         6.4,
         3.2,
         4.5,
         1.5,
         "Iris-versicolor",
         1.0,
         {
          "vectorType": "dense",
          "length": 4,
          "values": [
           6.4,
           3.2,
           4.5,
           1.5
          ]
         },
         {
          "vectorType": "dense",
          "length": 4,
          "values": [
           7.274206786045571,
           7.689037743712219,
           2.545762718458495,
           1.9550630726559102
          ]
         },
         {
          "vectorType": "dense",
          "length": 3,
          "values": [
           10.087148218938324,
           18.337033420711723,
           -28.42418163965
          ]
         },
         {
          "vectorType": "dense",
          "length": 3,
          "values": [
           2.612202971693611E-4,
           0.9997387797028308,
           4.9175509790574725E-21
          ]
         },
         1.0
        ],
        [
         6.6,
         3.0,
         4.4,
         1.4,
         "Iris-versicolor",
         1.0,
         {
          "vectorType": "dense",
          "length": 4,
          "values": [
           6.6,
           3.0,
           4.4,
           1.4
          ]
         },
         {
          "vectorType": "dense",
          "length": 4,
          "values": [
           7.501525748109494,
           7.208472884730204,
           2.4891902136038624,
           1.8247255344788496
          ]
         },
         {
          "vectorType": "dense",
          "length": 3,
          "values": [
           16.728703302813607,
           26.496981749580232,
           -43.22568505239384
          ]
         },
         {
          "vectorType": "dense",
          "length": 3,
          "values": [
           5.723553083753264E-5,
           0.9999427644691624,
           5.245727016949867E-31
          ]
         },
         1.0
        ],
        [
         6.7,
         2.5,
         5.8,
         1.8,
         "Iris-virginica",
         0.0,
         {
          "vectorType": "dense",
          "length": 4,
          "values": [
           6.7,
           2.5,
           5.8,
           1.8
          ]
         },
         {
          "vectorType": "dense",
          "length": 4,
          "values": [
           7.615185229141457,
           6.007060737275171,
           3.2812052815687274,
           2.3460756871870925
          ]
         },
         {
          "vectorType": "dense",
          "length": 3,
          "values": [
           76.74131776417636,
           66.99316931654768,
           -143.73448708072405
          ]
         },
         {
          "vectorType": "dense",
          "length": 3,
          "values": [
           0.9999416007113363,
           5.839928866356699E-5,
           1.7723488159376632E-96
          ]
         },
         0.0
        ],
        [
         6.7,
         3.1,
         4.7,
         1.5,
         "Iris-versicolor",
         1.0,
         {
          "vectorType": "dense",
          "length": 4,
          "values": [
           6.7,
           3.1,
           4.7,
           1.5
          ]
         },
         {
          "vectorType": "dense",
          "length": 4,
          "values": [
           7.615185229141457,
           7.448755314221212,
           2.658907728167762,
           1.9550630726559102
          ]
         },
         {
          "vectorType": "dense",
          "length": 3,
          "values": [
           20.31610773129377,
           27.04063094770895,
           -47.35673867900269
          ]
         },
         {
          "vectorType": "dense",
          "length": 3,
          "values": [
           0.001199652210493247,
           0.9988003477895068,
           4.887779301289736E-33
          ]
         },
         1.0
        ],
        [
         6.7,
         3.1,
         5.6,
         2.4,
         "Iris-virginica",
         0.0,
         {
          "vectorType": "dense",
          "length": 4,
          "values": [
           6.7,
           3.1,
           5.6,
           2.4
          ]
         },
         {
          "vectorType": "dense",
          "length": 4,
          "values": [
           7.615185229141457,
           7.448755314221212,
           3.168060271859461,
           3.128100916249456
          ]
         },
         {
          "vectorType": "dense",
          "length": 3,
          "values": [
           63.576445358474295,
           50.024444726101294,
           -113.60089008457557
          ]
         },
         {
          "vectorType": "dense",
          "length": 3,
          "values": [
           0.9999986985114809,
           1.3014885190628633E-6,
           1.129432637585564E-77
          ]
         },
         0.0
        ],
        [
         6.7,
         3.3,
         5.7,
         2.5,
         "Iris-virginica",
         0.0,
         {
          "vectorType": "dense",
          "length": 4,
          "values": [
           6.7,
           3.3,
           5.7,
           2.5
          ]
         },
         {
          "vectorType": "dense",
          "length": 4,
          "values": [
           7.615185229141457,
           7.929320173203225,
           3.2246327767140945,
           3.2584384544265173
          ]
         },
         {
          "vectorType": "dense",
          "length": 3,
          "values": [
           58.41474739225706,
           43.755471884942914,
           -102.17021927719995
          ]
         },
         {
          "vectorType": "dense",
          "length": 3,
          "values": [
           0.9999995699119739,
           4.300880260770695E-7,
           1.8148256636863953E-70
          ]
         },
         0.0
        ],
        [
         6.8,
         3.2,
         5.9,
         2.3,
         "Iris-virginica",
         0.0,
         {
          "vectorType": "dense",
          "length": 4,
          "values": [
           6.8,
           3.2,
           5.9,
           2.3
          ]
         },
         {
          "vectorType": "dense",
          "length": 4,
          "values": [
           7.728844710173418,
           7.689037743712219,
           3.337777786423361,
           2.9977633780723956
          ]
         },
         {
          "vectorType": "dense",
          "length": 3,
          "values": [
           60.57541418771972,
           46.91634908286276,
           -107.49176327058242
          ]
         },
         {
          "vectorType": "dense",
          "length": 3,
          "values": [
           0.999998830654391,
           1.1693456089646075E-6,
           1.0217666724953026E-73
          ]
         },
         0.0
        ]
       ],
       "plotOptions": {
        "displayType": "table",
        "customPlotOptions": {},
        "pivotColumns": null,
        "pivotAggregation": null,
        "xColumns": null,
        "yColumns": null
       },
       "columnCustomDisplayInfos": {},
       "aggType": "",
       "isJsonSchema": true,
       "removedWidgets": [],
       "aggSchema": [],
       "schema": [
        {
         "name": "Sepal_Length",
         "type": "\"double\"",
         "metadata": "{}"
        },
        {
         "name": "Sepal_Width",
         "type": "\"double\"",
         "metadata": "{}"
        },
        {
         "name": "Petal_Length",
         "type": "\"double\"",
         "metadata": "{}"
        },
        {
         "name": "Petal_Width",
         "type": "\"double\"",
         "metadata": "{}"
        },
        {
         "name": "Flower_Type",
         "type": "\"string\"",
         "metadata": "{}"
        },
        {
         "name": "Flower_Type_Index",
         "type": "\"double\"",
         "metadata": "{\"ml_attr\":{\"vals\":[\"Iris-virginica\",\"Iris-versicolor\",\"Iris-setosa\"],\"type\":\"nominal\",\"name\":\"Flower_Type_Index\"}}"
        },
        {
         "name": "features",
         "type": "{\"type\":\"udt\",\"class\":\"org.apache.spark.ml.linalg.VectorUDT\",\"pyClass\":\"pyspark.ml.linalg.VectorUDT\",\"sqlType\":{\"type\":\"struct\",\"fields\":[{\"name\":\"type\",\"type\":\"byte\",\"nullable\":false,\"metadata\":{}},{\"name\":\"size\",\"type\":\"integer\",\"nullable\":true,\"metadata\":{}},{\"name\":\"indices\",\"type\":{\"type\":\"array\",\"elementType\":\"integer\",\"containsNull\":false},\"nullable\":true,\"metadata\":{}},{\"name\":\"values\",\"type\":{\"type\":\"array\",\"elementType\":\"double\",\"containsNull\":false},\"nullable\":true,\"metadata\":{}}]}}",
         "metadata": "{\"ml_attr\":{\"attrs\":{\"numeric\":[{\"idx\":0,\"name\":\"Sepal_Length\"},{\"idx\":1,\"name\":\"Sepal_Width\"},{\"idx\":2,\"name\":\"Petal_Length\"},{\"idx\":3,\"name\":\"Petal_Width\"}]},\"num_attrs\":4}}"
        },
        {
         "name": "scaledFeatures",
         "type": "{\"type\":\"udt\",\"class\":\"org.apache.spark.ml.linalg.VectorUDT\",\"pyClass\":\"pyspark.ml.linalg.VectorUDT\",\"sqlType\":{\"type\":\"struct\",\"fields\":[{\"name\":\"type\",\"type\":\"byte\",\"nullable\":false,\"metadata\":{}},{\"name\":\"size\",\"type\":\"integer\",\"nullable\":true,\"metadata\":{}},{\"name\":\"indices\",\"type\":{\"type\":\"array\",\"elementType\":\"integer\",\"containsNull\":false},\"nullable\":true,\"metadata\":{}},{\"name\":\"values\",\"type\":{\"type\":\"array\",\"elementType\":\"double\",\"containsNull\":false},\"nullable\":true,\"metadata\":{}}]}}",
         "metadata": "{\"ml_attr\":{\"num_attrs\":4}}"
        },
        {
         "name": "rawPrediction",
         "type": "{\"type\":\"udt\",\"class\":\"org.apache.spark.ml.linalg.VectorUDT\",\"pyClass\":\"pyspark.ml.linalg.VectorUDT\",\"sqlType\":{\"type\":\"struct\",\"fields\":[{\"name\":\"type\",\"type\":\"byte\",\"nullable\":false,\"metadata\":{}},{\"name\":\"size\",\"type\":\"integer\",\"nullable\":true,\"metadata\":{}},{\"name\":\"indices\",\"type\":{\"type\":\"array\",\"elementType\":\"integer\",\"containsNull\":false},\"nullable\":true,\"metadata\":{}},{\"name\":\"values\",\"type\":{\"type\":\"array\",\"elementType\":\"double\",\"containsNull\":false},\"nullable\":true,\"metadata\":{}}]}}",
         "metadata": "{\"ml_attr\":{\"num_attrs\":3}}"
        },
        {
         "name": "probability",
         "type": "{\"type\":\"udt\",\"class\":\"org.apache.spark.ml.linalg.VectorUDT\",\"pyClass\":\"pyspark.ml.linalg.VectorUDT\",\"sqlType\":{\"type\":\"struct\",\"fields\":[{\"name\":\"type\",\"type\":\"byte\",\"nullable\":false,\"metadata\":{}},{\"name\":\"size\",\"type\":\"integer\",\"nullable\":true,\"metadata\":{}},{\"name\":\"indices\",\"type\":{\"type\":\"array\",\"elementType\":\"integer\",\"containsNull\":false},\"nullable\":true,\"metadata\":{}},{\"name\":\"values\",\"type\":{\"type\":\"array\",\"elementType\":\"double\",\"containsNull\":false},\"nullable\":true,\"metadata\":{}}]}}",
         "metadata": "{\"ml_attr\":{\"num_attrs\":3}}"
        },
        {
         "name": "prediction",
         "type": "\"double\"",
         "metadata": "{\"ml_attr\":{\"type\":\"nominal\",\"num_vals\":3}}"
        }
       ],
       "aggError": "",
       "aggData": [],
       "addedWidgets": {},
       "metadata": {},
       "dbfsResultPath": null,
       "type": "table",
       "aggOverflow": false,
       "aggSeriesLimitReached": false,
       "arguments": {}
      }
     },
     "data": {
      "text/html": [
       "<style scoped>\n  .table-result-container {\n    max-height: 300px;\n    overflow: auto;\n  }\n  table, th, td {\n    border: 1px solid black;\n    border-collapse: collapse;\n  }\n  th, td {\n    padding: 5px;\n  }\n  th {\n    text-align: left;\n  }\n</style><div class='table-result-container'><table class='table-result'><thead style='background-color: white'><tr><th>Sepal_Length</th><th>Sepal_Width</th><th>Petal_Length</th><th>Petal_Width</th><th>Flower_Type</th><th>Flower_Type_Index</th><th>features</th><th>scaledFeatures</th><th>rawPrediction</th><th>probability</th><th>prediction</th></tr></thead><tbody><tr><td>4.4</td><td>2.9</td><td>1.4</td><td>0.2</td><td>Iris-setosa</td><td>2.0</td><td>Map(vectorType -> dense, length -> 4, values -> List(4.4, 2.9, 1.4, 0.2))</td><td>Map(vectorType -> dense, length -> 4, values -> List(5.0010171654063305, 6.968190455239197, 0.7920150679648652, 0.2606750763541214))</td><td>Map(vectorType -> dense, length -> 3, values -> List(-79.47072894873867, -33.6393926737438, 113.11012162248248))</td><td>Map(vectorType -> dense, length -> 3, values -> List(2.3078058860519703E-84, 1.851380645087324E-64, 1.0))</td><td>2.0</td></tr><tr><td>4.5</td><td>2.3</td><td>1.3</td><td>0.3</td><td>Iris-setosa</td><td>2.0</td><td>Map(vectorType -> dense, length -> 4, values -> List(4.5, 2.3, 1.3, 0.3))</td><td>Map(vectorType -> dense, length -> 4, values -> List(5.114676646438292, 5.526495878293156, 0.735442563110232, 0.391012614531182))</td><td>Map(vectorType -> dense, length -> 3, values -> List(-47.04386253042741, -5.127727392070199, 52.1715899224976))</td><td>Map(vectorType -> dense, length -> 3, values -> List(8.15223105453467E-44, 1.3038351154249712E-25, 1.0))</td><td>2.0</td></tr><tr><td>4.9</td><td>3.1</td><td>1.5</td><td>0.1</td><td>Iris-setosa</td><td>2.0</td><td>Map(vectorType -> dense, length -> 4, values -> List(4.9, 3.1, 1.5, 0.1))</td><td>Map(vectorType -> dense, length -> 4, values -> List(5.56931457056614, 7.448755314221212, 0.8485875728194985, 0.1303375381770607))</td><td>Map(vectorType -> dense, length -> 3, values -> List(-87.52121972004588, -38.83267163699415, 126.35389135704004))</td><td>Map(vectorType -> dense, length -> 3, values -> List(1.303825416331986E-93, 1.8213239861593713E-72, 1.0))</td><td>2.0</td></tr><tr><td>5.0</td><td>3.0</td><td>1.6</td><td>0.2</td><td>Iris-setosa</td><td>2.0</td><td>Map(vectorType -> dense, length -> 4, values -> List(5.0, 3.0, 1.6, 0.2))</td><td>Map(vectorType -> dense, length -> 4, values -> List(5.6829740515981015, 7.208472884730204, 0.9051600776741318, 0.2606750763541214))</td><td>Map(vectorType -> dense, length -> 3, values -> List(-76.99038590691146, -30.92206184282783, 107.91244774973931))</td><td>Map(vectorType -> dense, length -> 3, values -> List(4.985625519420681E-81, 5.069190195385229E-61, 1.0))</td><td>2.0</td></tr><tr><td>5.0</td><td>3.2</td><td>1.2</td><td>0.2</td><td>Iris-setosa</td><td>2.0</td><td>Map(vectorType -> dense, length -> 4, values -> List(5.0, 3.2, 1.2, 0.2))</td><td>Map(vectorType -> dense, length -> 4, values -> List(5.6829740515981015, 7.689037743712219, 0.6788700582555988, 0.2606750763541214))</td><td>Map(vectorType -> dense, length -> 3, values -> List(-93.00873357864847, -42.656330433691906, 135.66506401234045))</td><td>Map(vectorType -> dense, length -> 3, values -> List(4.877884922615119E-100, 3.597513122710428E-78, 1.0))</td><td>2.0</td></tr><tr><td>5.0</td><td>3.3</td><td>1.4</td><td>0.2</td><td>Iris-setosa</td><td>2.0</td><td>Map(vectorType -> dense, length -> 4, values -> List(5.0, 3.3, 1.4, 0.2))</td><td>Map(vectorType -> dense, length -> 4, values -> List(5.6829740515981015, 7.929320173203225, 0.7920150679648652, 0.2606750763541214))</td><td>Map(vectorType -> dense, length -> 3, values -> List(-94.96796188979508, -45.6119260659063, 140.57988795570145))</td><td>Map(vectorType -> dense, length -> 3, values -> List(5.045086164717633E-103, 1.373797098691763E-81, 1.0))</td><td>2.0</td></tr><tr><td>5.0</td><td>3.4</td><td>1.5</td><td>0.2</td><td>Iris-setosa</td><td>2.0</td><td>Map(vectorType -> dense, length -> 4, values -> List(5.0, 3.4, 1.5, 0.2))</td><td>Map(vectorType -> dense, length -> 4, values -> List(5.6829740515981015, 8.169602602694232, 0.8485875728194985, 0.2606750763541214))</td><td>Map(vectorType -> dense, length -> 3, values -> List(-98.43967658212219, -49.29540636392511, 147.73508294604733))</td><td>Map(vectorType -> dense, length -> 3, values -> List(1.2236588429913587E-107, 2.6961604018502634E-86, 1.0))</td><td>2.0</td></tr><tr><td>5.1</td><td>3.5</td><td>1.4</td><td>0.3</td><td>Iris-setosa</td><td>2.0</td><td>Map(vectorType -> dense, length -> 4, values -> List(5.1, 3.5, 1.4, 0.3))</td><td>Map(vectorType -> dense, length -> 4, values -> List(5.7966335326300635, 8.409885032185239, 0.7920150679648652, 0.391012614531182))</td><td>Map(vectorType -> dense, length -> 3, values -> List(-100.90221767836385, -51.66329582901406, 152.56551350737794))</td><td>Map(vectorType -> dense, length -> 3, values -> List(8.324592923536577E-111, 2.0162995794324653E-89, 1.0))</td><td>2.0</td></tr><tr><td>5.3</td><td>3.7</td><td>1.5</td><td>0.2</td><td>Iris-setosa</td><td>2.0</td><td>Map(vectorType -> dense, length -> 4, values -> List(5.3, 3.7, 1.5, 0.2))</td><td>Map(vectorType -> dense, length -> 4, values -> List(6.0239524946939875, 8.890449891167252, 0.8485875728194985, 0.2606750763541214))</td><td>Map(vectorType -> dense, length -> 3, values -> List(-111.17249412615797, -59.6930380238296, 170.8655321499876))</td><td>Map(vectorType -> dense, length -> 3, values -> List(3.2541794738694936E-123, 7.407731251802606E-101, 1.0))</td><td>2.0</td></tr><tr><td>5.4</td><td>3.4</td><td>1.5</td><td>0.4</td><td>Iris-setosa</td><td>2.0</td><td>Map(vectorType -> dense, length -> 4, values -> List(5.4, 3.4, 1.5, 0.4))</td><td>Map(vectorType -> dense, length -> 4, values -> List(6.13761197572595, 8.169602602694232, 0.8485875728194985, 0.5213501527082428))</td><td>Map(vectorType -> dense, length -> 3, values -> List(-88.8915267475715, -41.861710547137605, 130.7532372947091))</td><td>Map(vectorType -> dense, length -> 3, values -> List(4.069030990143796E-96, 1.0821330425483868E-75, 1.0))</td><td>2.0</td></tr><tr><td>5.5</td><td>2.3</td><td>4.0</td><td>1.3</td><td>Iris-versicolor</td><td>1.0</td><td>Map(vectorType -> dense, length -> 4, values -> List(5.5, 2.3, 4.0, 1.3))</td><td>Map(vectorType -> dense, length -> 4, values -> List(6.251271456757912, 5.526495878293156, 2.2629001941853293, 1.694387996301789))</td><td>Map(vectorType -> dense, length -> 3, values -> List(34.1347333459086, 42.23876023003584, -76.37349357594444))</td><td>Map(vectorType -> dense, length -> 3, values -> List(3.022279095822373E-4, 0.9996977720904177, 3.070587023296591E-52))</td><td>1.0</td></tr><tr><td>5.5</td><td>2.6</td><td>4.4</td><td>1.2</td><td>Iris-versicolor</td><td>1.0</td><td>Map(vectorType -> dense, length -> 4, values -> List(5.5, 2.6, 4.4, 1.2))</td><td>Map(vectorType -> dense, length -> 4, values -> List(6.251271456757912, 6.247343166766178, 2.4891902136038624, 1.564050458124728))</td><td>Map(vectorType -> dense, length -> 3, values -> List(21.937857850490353, 30.090331581100166, -52.028189431590526))</td><td>Map(vectorType -> dense, length -> 3, values -> List(2.879390560587247E-4, 0.9997120609439413, 2.1689742383581484E-36))</td><td>1.0</td></tr><tr><td>5.5</td><td>3.5</td><td>1.3</td><td>0.2</td><td>Iris-setosa</td><td>2.0</td><td>Map(vectorType -> dense, length -> 4, values -> List(5.5, 3.5, 1.3, 0.2))</td><td>Map(vectorType -> dense, length -> 4, values -> List(6.251271456757912, 8.409885032185239, 0.735442563110232, 0.2606750763541214))</td><td>Map(vectorType -> dense, length -> 3, values -> List(-102.74920762384579, -50.43510194008182, 153.18430956392768))</td><td>Map(vectorType -> dense, length -> 3, values -> List(7.071080008375973E-112, 3.7086271676320155E-89, 1.0))</td><td>2.0</td></tr><tr><td>5.5</td><td>4.2</td><td>1.4</td><td>0.2</td><td>Iris-setosa</td><td>2.0</td><td>Map(vectorType -> dense, length -> 4, values -> List(5.5, 4.2, 1.4, 0.2))</td><td>Map(vectorType -> dense, length -> 4, values -> List(6.251271456757912, 10.091862038622287, 0.7920150679648652, 0.2606750763541214))</td><td>Map(vectorType -> dense, length -> 3, values -> List(-136.1261287572183, -80.58677202103996, 216.71290077825836))</td><td>Map(vectorType -> dense, length -> 3, values -> List(5.807062130682153E-154, 7.662890710608592E-130, 1.0))</td><td>2.0</td></tr><tr><td>5.6</td><td>3.0</td><td>4.1</td><td>1.3</td><td>Iris-versicolor</td><td>1.0</td><td>Map(vectorType -> dense, length -> 4, values -> List(5.6, 3.0, 4.1, 1.3))</td><td>Map(vectorType -> dense, length -> 4, values -> List(6.3649309377898735, 7.208472884730204, 2.319472699039962, 1.694387996301789))</td><td>Map(vectorType -> dense, length -> 3, values -> List(1.4977407713650734, 13.032577892932729, -14.530318664297795))</td><td>Map(vectorType -> dense, length -> 3, values -> List(9.783170888016409E-6, 0.9999902168280415, 1.0704881672193657E-12))</td><td>1.0</td></tr><tr><td>5.7</td><td>2.6</td><td>3.5</td><td>1.0</td><td>Iris-versicolor</td><td>1.0</td><td>Map(vectorType -> dense, length -> 4, values -> List(5.7, 2.6, 3.5, 1.0))</td><td>Map(vectorType -> dense, length -> 4, values -> List(6.478590418821836, 6.247343166766178, 1.9800376699121631, 1.3033753817706069))</td><td>Map(vectorType -> dense, length -> 3, values -> List(3.216901938289375, 21.778600235203335, -24.995502173492746))</td><td>Map(vectorType -> dense, length -> 3, values -> List(8.684740597294553E-9, 0.9999999913152594, 4.8558518055759154E-21))</td><td>1.0</td></tr><tr><td>5.7</td><td>3.8</td><td>1.7</td><td>0.3</td><td>Iris-setosa</td><td>2.0</td><td>Map(vectorType -> dense, length -> 4, values -> List(5.7, 3.8, 1.7, 0.3))</td><td>Map(vectorType -> dense, length -> 4, values -> List(6.478590418821836, 9.13073232065826, 0.9617325825287649, 0.391012614531182))</td><td>Map(vectorType -> dense, length -> 3, values -> List(-106.87779040237135, -57.040810259940116, 163.91860066231146))</td><td>Map(vectorType -> dense, length -> 3, values -> List(2.4809707340607856E-118, 1.0928161684698039E-96, 1.0))</td><td>2.0</td></tr><tr><td>5.7</td><td>4.4</td><td>1.5</td><td>0.4</td><td>Iris-setosa</td><td>2.0</td><td>Map(vectorType -> dense, length -> 4, values -> List(5.7, 4.4, 1.5, 0.4))</td><td>Map(vectorType -> dense, length -> 4, values -> List(6.478590418821836, 10.5724268976043, 0.8485875728194985, 0.5213501527082428))</td><td>Map(vectorType -> dense, length -> 3, values -> List(-136.51375180616026, -83.13889695380466, 219.6526487599649))</td><td>Map(vectorType -> dense, length -> 3, values -> List(2.0839994249427833E-155, 3.157203165386214E-132, 1.0))</td><td>2.0</td></tr><tr><td>5.8</td><td>2.7</td><td>5.1</td><td>1.9</td><td>Iris-virginica</td><td>0.0</td><td>Map(vectorType -> dense, length -> 4, values -> List(5.8, 2.7, 5.1, 1.9))</td><td>Map(vectorType -> dense, length -> 4, values -> List(6.592249899853798, 6.4876255962571845, 2.8851977475862944, 2.476413225364153))</td><td>Map(vectorType -> dense, length -> 3, values -> List(52.820371719054585, 46.39172945425841, -99.21210117331299))</td><td>Map(vectorType -> dense, length -> 3, values -> List(0.9983879612621571, 0.0016120387378428783, 9.385021855106373E-67))</td><td>0.0</td></tr><tr><td>6.0</td><td>2.2</td><td>5.0</td><td>1.5</td><td>Iris-virginica</td><td>0.0</td><td>Map(vectorType -> dense, length -> 4, values -> List(6.0, 2.2, 5.0, 1.5))</td><td>Map(vectorType -> dense, length -> 4, values -> List(6.819568861917722, 5.28621344880215, 2.8286252427316616, 1.9550630726559102))</td><td>Map(vectorType -> dense, length -> 3, values -> List(64.5318766246004, 62.308155412545716, -126.84003203714613))</td><td>Map(vectorType -> dense, length -> 3, values -> List(0.9023595510139278, 0.09764044898607219, 6.976148172622101E-84))</td><td>0.0</td></tr><tr><td>6.0</td><td>2.9</td><td>4.5</td><td>1.5</td><td>Iris-versicolor</td><td>1.0</td><td>Map(vectorType -> dense, length -> 4, values -> List(6.0, 2.9, 4.5, 1.5))</td><td>Map(vectorType -> dense, length -> 4, values -> List(6.819568861917722, 6.968190455239197, 2.545762718458495, 1.9550630726559102))</td><td>Map(vectorType -> dense, length -> 3, values -> List(22.080037204145157, 27.789177336761117, -49.8692145409063))</td><td>Map(vectorType -> dense, length -> 3, values -> List(0.003304565867384444, 0.9966954341326155, 1.870472824301893E-34))</td><td>1.0</td></tr><tr><td>6.1</td><td>2.6</td><td>5.6</td><td>1.4</td><td>Iris-virginica</td><td>0.0</td><td>Map(vectorType -> dense, length -> 4, values -> List(6.1, 2.6, 5.6, 1.4))</td><td>Map(vectorType -> dense, length -> 4, values -> List(6.933228342949684, 6.247343166766178, 3.168060271859461, 1.8247255344788496))</td><td>Map(vectorType -> dense, length -> 3, values -> List(51.1157013768645, 48.14961887525074, -99.26532025211523))</td><td>Map(vectorType -> dense, length -> 3, values -> List(0.951018111588244, 0.048981888411756054, 4.6616633979349213E-66))</td><td>0.0</td></tr><tr><td>6.1</td><td>2.8</td><td>4.0</td><td>1.3</td><td>Iris-versicolor</td><td>1.0</td><td>Map(vectorType -> dense, length -> 4, values -> List(6.1, 2.8, 4.0, 1.3))</td><td>Map(vectorType -> dense, length -> 4, values -> List(6.933228342949684, 6.7279080257481905, 2.2629001941853293, 1.694387996301789))</td><td>Map(vectorType -> dense, length -> 3, values -> List(13.653299331344627, 25.85486187405011, -39.5081612053947))</td><td>Map(vectorType -> dense, length -> 3, values -> List(5.022576216830011E-6, 0.9999949774237832, 4.1039076073810915E-29))</td><td>1.0</td></tr><tr><td>6.1</td><td>2.8</td><td>4.7</td><td>1.2</td><td>Iris-versicolor</td><td>1.0</td><td>Map(vectorType -> dense, length -> 4, values -> List(6.1, 2.8, 4.7, 1.2))</td><td>Map(vectorType -> dense, length -> 4, values -> List(6.933228342949684, 6.7279080257481905, 2.658907728167762, 1.564050458124728))</td><td>Map(vectorType -> dense, length -> 3, values -> List(20.946486199990495, 29.124182113997364, -50.07066831398782))</td><td>Map(vectorType -> dense, length -> 3, values -> List(2.8076944021727837E-4, 0.9997192305597828, 4.036375024185615E-35))</td><td>1.0</td></tr><tr><td>6.1</td><td>3.0</td><td>4.9</td><td>1.8</td><td>Iris-virginica</td><td>0.0</td><td>Map(vectorType -> dense, length -> 4, values -> List(6.1, 3.0, 4.9, 1.8))</td><td>Map(vectorType -> dense, length -> 4, values -> List(6.933228342949684, 7.208472884730204, 2.7720527378770288, 2.3460756871870925))</td><td>Map(vectorType -> dense, length -> 3, values -> List(33.76836361304057, 32.7124560420615, -66.48081965510205))</td><td>Map(vectorType -> dense, length -> 3, values -> List(0.741907700375655, 0.25809229962434505, 2.1512098117444062E-44))</td><td>0.0</td></tr><tr><td>6.3</td><td>2.5</td><td>4.9</td><td>1.5</td><td>Iris-versicolor</td><td>1.0</td><td>Map(vectorType -> dense, length -> 4, values -> List(6.3, 2.5, 4.9, 1.5))</td><td>Map(vectorType -> dense, length -> 4, values -> List(7.160547305013608, 6.007060737275171, 2.7720527378770288, 1.9550630726559102))</td><td>Map(vectorType -> dense, length -> 3, values -> List(50.286572699384195, 51.18263908683683, -101.469211786221))</td><td>Map(vectorType -> dense, length -> 3, values -> List(0.28985952624623723, 0.7101404737537629, 3.593252852807647E-67))</td><td>1.0</td></tr><tr><td>6.3</td><td>2.7</td><td>4.9</td><td>1.8</td><td>Iris-virginica</td><td>0.0</td><td>Map(vectorType -> dense, length -> 4, values -> List(6.3, 2.7, 4.9, 1.8))</td><td>Map(vectorType -> dense, length -> 4, values -> List(7.160547305013608, 6.4876255962571845, 2.7720527378770288, 2.3460756871870925))</td><td>Map(vectorType -> dense, length -> 3, values -> List(50.200823951221174, 47.837526421241286, -98.03835037246246))</td><td>Map(vectorType -> dense, length -> 3, values -> List(0.9139853985598807, 0.08601460144011928, 3.8149060499907516E-65))</td><td>0.0</td></tr><tr><td>6.3</td><td>2.9</td><td>5.6</td><td>1.8</td><td>Iris-virginica</td><td>0.0</td><td>Map(vectorType -> dense, length -> 4, values -> List(6.3, 2.9, 5.6, 1.8))</td><td>Map(vectorType -> dense, length -> 4, values -> List(7.160547305013608, 6.968190455239197, 3.168060271859461, 2.3460756871870925))</td><td>Map(vectorType -> dense, length -> 3, values -> List(50.819826472469295, 44.10998915422572, -94.92981562669505))</td><td>Map(vectorType -> dense, length -> 3, values -> List(0.9987826214218206, 0.0012173785781794983, 5.0258054631256734E-64))</td><td>0.0</td></tr><tr><td>6.3</td><td>3.3</td><td>4.7</td><td>1.6</td><td>Iris-versicolor</td><td>1.0</td><td>Map(vectorType -> dense, length -> 4, values -> List(6.3, 3.3, 4.7, 1.6))</td><td>Map(vectorType -> dense, length -> 4, values -> List(7.160547305013608, 7.929320173203225, 2.658907728167762, 2.0854006108329712))</td><td>Map(vectorType -> dense, length -> 3, values -> List(10.682209148580142, 16.26182246532589, -26.94403161390602))</td><td>Map(vectorType -> dense, length -> 3, values -> List(0.0037598348794996815, 0.9962401651205003, 1.7151418127156051E-19))</td><td>1.0</td></tr><tr><td>6.4</td><td>2.8</td><td>5.6</td><td>2.1</td><td>Iris-virginica</td><td>0.0</td><td>Map(vectorType -> dense, length -> 4, values -> List(6.4, 2.8, 5.6, 2.1))</td><td>Map(vectorType -> dense, length -> 4, values -> List(7.274206786045571, 6.7279080257481905, 3.168060271859461, 2.7370883017182743))</td><td>Map(vectorType -> dense, length -> 3, values -> List(66.42660950365797, 54.944459123954914, -121.37106862761283))</td><td>Map(vectorType -> dense, length -> 3, values -> List(0.9999896875710105, 1.0312428989588983E-5, 2.7574026884756624E-82))</td><td>0.0</td></tr><tr><td>6.4</td><td>3.2</td><td>4.5</td><td>1.5</td><td>Iris-versicolor</td><td>1.0</td><td>Map(vectorType -> dense, length -> 4, values -> List(6.4, 3.2, 4.5, 1.5))</td><td>Map(vectorType -> dense, length -> 4, values -> List(7.274206786045571, 7.689037743712219, 2.545762718458495, 1.9550630726559102))</td><td>Map(vectorType -> dense, length -> 3, values -> List(10.087148218938324, 18.337033420711723, -28.42418163965))</td><td>Map(vectorType -> dense, length -> 3, values -> List(2.612202971693611E-4, 0.9997387797028308, 4.9175509790574725E-21))</td><td>1.0</td></tr><tr><td>6.6</td><td>3.0</td><td>4.4</td><td>1.4</td><td>Iris-versicolor</td><td>1.0</td><td>Map(vectorType -> dense, length -> 4, values -> List(6.6, 3.0, 4.4, 1.4))</td><td>Map(vectorType -> dense, length -> 4, values -> List(7.501525748109494, 7.208472884730204, 2.4891902136038624, 1.8247255344788496))</td><td>Map(vectorType -> dense, length -> 3, values -> List(16.728703302813607, 26.496981749580232, -43.22568505239384))</td><td>Map(vectorType -> dense, length -> 3, values -> List(5.723553083753264E-5, 0.9999427644691624, 5.245727016949867E-31))</td><td>1.0</td></tr><tr><td>6.7</td><td>2.5</td><td>5.8</td><td>1.8</td><td>Iris-virginica</td><td>0.0</td><td>Map(vectorType -> dense, length -> 4, values -> List(6.7, 2.5, 5.8, 1.8))</td><td>Map(vectorType -> dense, length -> 4, values -> List(7.615185229141457, 6.007060737275171, 3.2812052815687274, 2.3460756871870925))</td><td>Map(vectorType -> dense, length -> 3, values -> List(76.74131776417636, 66.99316931654768, -143.73448708072405))</td><td>Map(vectorType -> dense, length -> 3, values -> List(0.9999416007113363, 5.839928866356699E-5, 1.7723488159376632E-96))</td><td>0.0</td></tr><tr><td>6.7</td><td>3.1</td><td>4.7</td><td>1.5</td><td>Iris-versicolor</td><td>1.0</td><td>Map(vectorType -> dense, length -> 4, values -> List(6.7, 3.1, 4.7, 1.5))</td><td>Map(vectorType -> dense, length -> 4, values -> List(7.615185229141457, 7.448755314221212, 2.658907728167762, 1.9550630726559102))</td><td>Map(vectorType -> dense, length -> 3, values -> List(20.31610773129377, 27.04063094770895, -47.35673867900269))</td><td>Map(vectorType -> dense, length -> 3, values -> List(0.001199652210493247, 0.9988003477895068, 4.887779301289736E-33))</td><td>1.0</td></tr><tr><td>6.7</td><td>3.1</td><td>5.6</td><td>2.4</td><td>Iris-virginica</td><td>0.0</td><td>Map(vectorType -> dense, length -> 4, values -> List(6.7, 3.1, 5.6, 2.4))</td><td>Map(vectorType -> dense, length -> 4, values -> List(7.615185229141457, 7.448755314221212, 3.168060271859461, 3.128100916249456))</td><td>Map(vectorType -> dense, length -> 3, values -> List(63.576445358474295, 50.024444726101294, -113.60089008457557))</td><td>Map(vectorType -> dense, length -> 3, values -> List(0.9999986985114809, 1.3014885190628633E-6, 1.129432637585564E-77))</td><td>0.0</td></tr><tr><td>6.7</td><td>3.3</td><td>5.7</td><td>2.5</td><td>Iris-virginica</td><td>0.0</td><td>Map(vectorType -> dense, length -> 4, values -> List(6.7, 3.3, 5.7, 2.5))</td><td>Map(vectorType -> dense, length -> 4, values -> List(7.615185229141457, 7.929320173203225, 3.2246327767140945, 3.2584384544265173))</td><td>Map(vectorType -> dense, length -> 3, values -> List(58.41474739225706, 43.755471884942914, -102.17021927719995))</td><td>Map(vectorType -> dense, length -> 3, values -> List(0.9999995699119739, 4.300880260770695E-7, 1.8148256636863953E-70))</td><td>0.0</td></tr><tr><td>6.8</td><td>3.2</td><td>5.9</td><td>2.3</td><td>Iris-virginica</td><td>0.0</td><td>Map(vectorType -> dense, length -> 4, values -> List(6.8, 3.2, 5.9, 2.3))</td><td>Map(vectorType -> dense, length -> 4, values -> List(7.728844710173418, 7.689037743712219, 3.337777786423361, 2.9977633780723956))</td><td>Map(vectorType -> dense, length -> 3, values -> List(60.57541418771972, 46.91634908286276, -107.49176327058242))</td><td>Map(vectorType -> dense, length -> 3, values -> List(0.999998830654391, 1.1693456089646075E-6, 1.0217666724953026E-73))</td><td>0.0</td></tr></tbody></table></div>"
      ]
     }
    },
    {
     "output_type": "display_data",
     "metadata": {
      "application/vnd.databricks.v1+output": {
       "overflow": false,
       "datasetInfos": [],
       "data": [
        [
         4.4,
         2.9,
         1.4,
         0.2,
         "Iris-setosa",
         2.0,
         {
          "vectorType": "dense",
          "length": 4,
          "values": [
           4.4,
           2.9,
           1.4,
           0.2
          ]
         },
         {
          "vectorType": "dense",
          "length": 4,
          "values": [
           5.0010171654063305,
           6.968190455239197,
           0.7920150679648652,
           0.2606750763541214
          ]
         },
         {
          "vectorType": "dense",
          "length": 3,
          "values": [
           -79.47072894873867,
           -33.6393926737438,
           113.11012162248248
          ]
         },
         {
          "vectorType": "dense",
          "length": 3,
          "values": [
           2.3078058860519703E-84,
           1.851380645087324E-64,
           1.0
          ]
         },
         2.0
        ],
        [
         4.5,
         2.3,
         1.3,
         0.3,
         "Iris-setosa",
         2.0,
         {
          "vectorType": "dense",
          "length": 4,
          "values": [
           4.5,
           2.3,
           1.3,
           0.3
          ]
         },
         {
          "vectorType": "dense",
          "length": 4,
          "values": [
           5.114676646438292,
           5.526495878293156,
           0.735442563110232,
           0.391012614531182
          ]
         },
         {
          "vectorType": "dense",
          "length": 3,
          "values": [
           -47.04386253042741,
           -5.127727392070199,
           52.1715899224976
          ]
         },
         {
          "vectorType": "dense",
          "length": 3,
          "values": [
           8.15223105453467E-44,
           1.3038351154249712E-25,
           1.0
          ]
         },
         2.0
        ],
        [
         4.9,
         3.1,
         1.5,
         0.1,
         "Iris-setosa",
         2.0,
         {
          "vectorType": "dense",
          "length": 4,
          "values": [
           4.9,
           3.1,
           1.5,
           0.1
          ]
         },
         {
          "vectorType": "dense",
          "length": 4,
          "values": [
           5.56931457056614,
           7.448755314221212,
           0.8485875728194985,
           0.1303375381770607
          ]
         },
         {
          "vectorType": "dense",
          "length": 3,
          "values": [
           -87.52121972004588,
           -38.83267163699415,
           126.35389135704004
          ]
         },
         {
          "vectorType": "dense",
          "length": 3,
          "values": [
           1.303825416331986E-93,
           1.8213239861593713E-72,
           1.0
          ]
         },
         2.0
        ],
        [
         5.0,
         3.0,
         1.6,
         0.2,
         "Iris-setosa",
         2.0,
         {
          "vectorType": "dense",
          "length": 4,
          "values": [
           5.0,
           3.0,
           1.6,
           0.2
          ]
         },
         {
          "vectorType": "dense",
          "length": 4,
          "values": [
           5.6829740515981015,
           7.208472884730204,
           0.9051600776741318,
           0.2606750763541214
          ]
         },
         {
          "vectorType": "dense",
          "length": 3,
          "values": [
           -76.99038590691146,
           -30.92206184282783,
           107.91244774973931
          ]
         },
         {
          "vectorType": "dense",
          "length": 3,
          "values": [
           4.985625519420681E-81,
           5.069190195385229E-61,
           1.0
          ]
         },
         2.0
        ],
        [
         5.0,
         3.2,
         1.2,
         0.2,
         "Iris-setosa",
         2.0,
         {
          "vectorType": "dense",
          "length": 4,
          "values": [
           5.0,
           3.2,
           1.2,
           0.2
          ]
         },
         {
          "vectorType": "dense",
          "length": 4,
          "values": [
           5.6829740515981015,
           7.689037743712219,
           0.6788700582555988,
           0.2606750763541214
          ]
         },
         {
          "vectorType": "dense",
          "length": 3,
          "values": [
           -93.00873357864847,
           -42.656330433691906,
           135.66506401234045
          ]
         },
         {
          "vectorType": "dense",
          "length": 3,
          "values": [
           4.877884922615119E-100,
           3.597513122710428E-78,
           1.0
          ]
         },
         2.0
        ],
        [
         5.0,
         3.3,
         1.4,
         0.2,
         "Iris-setosa",
         2.0,
         {
          "vectorType": "dense",
          "length": 4,
          "values": [
           5.0,
           3.3,
           1.4,
           0.2
          ]
         },
         {
          "vectorType": "dense",
          "length": 4,
          "values": [
           5.6829740515981015,
           7.929320173203225,
           0.7920150679648652,
           0.2606750763541214
          ]
         },
         {
          "vectorType": "dense",
          "length": 3,
          "values": [
           -94.96796188979508,
           -45.6119260659063,
           140.57988795570145
          ]
         },
         {
          "vectorType": "dense",
          "length": 3,
          "values": [
           5.045086164717633E-103,
           1.373797098691763E-81,
           1.0
          ]
         },
         2.0
        ],
        [
         5.0,
         3.4,
         1.5,
         0.2,
         "Iris-setosa",
         2.0,
         {
          "vectorType": "dense",
          "length": 4,
          "values": [
           5.0,
           3.4,
           1.5,
           0.2
          ]
         },
         {
          "vectorType": "dense",
          "length": 4,
          "values": [
           5.6829740515981015,
           8.169602602694232,
           0.8485875728194985,
           0.2606750763541214
          ]
         },
         {
          "vectorType": "dense",
          "length": 3,
          "values": [
           -98.43967658212219,
           -49.29540636392511,
           147.73508294604733
          ]
         },
         {
          "vectorType": "dense",
          "length": 3,
          "values": [
           1.2236588429913587E-107,
           2.6961604018502634E-86,
           1.0
          ]
         },
         2.0
        ],
        [
         5.1,
         3.5,
         1.4,
         0.3,
         "Iris-setosa",
         2.0,
         {
          "vectorType": "dense",
          "length": 4,
          "values": [
           5.1,
           3.5,
           1.4,
           0.3
          ]
         },
         {
          "vectorType": "dense",
          "length": 4,
          "values": [
           5.7966335326300635,
           8.409885032185239,
           0.7920150679648652,
           0.391012614531182
          ]
         },
         {
          "vectorType": "dense",
          "length": 3,
          "values": [
           -100.90221767836385,
           -51.66329582901406,
           152.56551350737794
          ]
         },
         {
          "vectorType": "dense",
          "length": 3,
          "values": [
           8.324592923536577E-111,
           2.0162995794324653E-89,
           1.0
          ]
         },
         2.0
        ],
        [
         5.3,
         3.7,
         1.5,
         0.2,
         "Iris-setosa",
         2.0,
         {
          "vectorType": "dense",
          "length": 4,
          "values": [
           5.3,
           3.7,
           1.5,
           0.2
          ]
         },
         {
          "vectorType": "dense",
          "length": 4,
          "values": [
           6.0239524946939875,
           8.890449891167252,
           0.8485875728194985,
           0.2606750763541214
          ]
         },
         {
          "vectorType": "dense",
          "length": 3,
          "values": [
           -111.17249412615797,
           -59.6930380238296,
           170.8655321499876
          ]
         },
         {
          "vectorType": "dense",
          "length": 3,
          "values": [
           3.2541794738694936E-123,
           7.407731251802606E-101,
           1.0
          ]
         },
         2.0
        ],
        [
         5.4,
         3.4,
         1.5,
         0.4,
         "Iris-setosa",
         2.0,
         {
          "vectorType": "dense",
          "length": 4,
          "values": [
           5.4,
           3.4,
           1.5,
           0.4
          ]
         },
         {
          "vectorType": "dense",
          "length": 4,
          "values": [
           6.13761197572595,
           8.169602602694232,
           0.8485875728194985,
           0.5213501527082428
          ]
         },
         {
          "vectorType": "dense",
          "length": 3,
          "values": [
           -88.8915267475715,
           -41.861710547137605,
           130.7532372947091
          ]
         },
         {
          "vectorType": "dense",
          "length": 3,
          "values": [
           4.069030990143796E-96,
           1.0821330425483868E-75,
           1.0
          ]
         },
         2.0
        ],
        [
         5.5,
         2.3,
         4.0,
         1.3,
         "Iris-versicolor",
         1.0,
         {
          "vectorType": "dense",
          "length": 4,
          "values": [
           5.5,
           2.3,
           4.0,
           1.3
          ]
         },
         {
          "vectorType": "dense",
          "length": 4,
          "values": [
           6.251271456757912,
           5.526495878293156,
           2.2629001941853293,
           1.694387996301789
          ]
         },
         {
          "vectorType": "dense",
          "length": 3,
          "values": [
           34.1347333459086,
           42.23876023003584,
           -76.37349357594444
          ]
         },
         {
          "vectorType": "dense",
          "length": 3,
          "values": [
           3.022279095822373E-4,
           0.9996977720904177,
           3.070587023296591E-52
          ]
         },
         1.0
        ],
        [
         5.5,
         2.6,
         4.4,
         1.2,
         "Iris-versicolor",
         1.0,
         {
          "vectorType": "dense",
          "length": 4,
          "values": [
           5.5,
           2.6,
           4.4,
           1.2
          ]
         },
         {
          "vectorType": "dense",
          "length": 4,
          "values": [
           6.251271456757912,
           6.247343166766178,
           2.4891902136038624,
           1.564050458124728
          ]
         },
         {
          "vectorType": "dense",
          "length": 3,
          "values": [
           21.937857850490353,
           30.090331581100166,
           -52.028189431590526
          ]
         },
         {
          "vectorType": "dense",
          "length": 3,
          "values": [
           2.879390560587247E-4,
           0.9997120609439413,
           2.1689742383581484E-36
          ]
         },
         1.0
        ],
        [
         5.5,
         3.5,
         1.3,
         0.2,
         "Iris-setosa",
         2.0,
         {
          "vectorType": "dense",
          "length": 4,
          "values": [
           5.5,
           3.5,
           1.3,
           0.2
          ]
         },
         {
          "vectorType": "dense",
          "length": 4,
          "values": [
           6.251271456757912,
           8.409885032185239,
           0.735442563110232,
           0.2606750763541214
          ]
         },
         {
          "vectorType": "dense",
          "length": 3,
          "values": [
           -102.74920762384579,
           -50.43510194008182,
           153.18430956392768
          ]
         },
         {
          "vectorType": "dense",
          "length": 3,
          "values": [
           7.071080008375973E-112,
           3.7086271676320155E-89,
           1.0
          ]
         },
         2.0
        ],
        [
         5.5,
         4.2,
         1.4,
         0.2,
         "Iris-setosa",
         2.0,
         {
          "vectorType": "dense",
          "length": 4,
          "values": [
           5.5,
           4.2,
           1.4,
           0.2
          ]
         },
         {
          "vectorType": "dense",
          "length": 4,
          "values": [
           6.251271456757912,
           10.091862038622287,
           0.7920150679648652,
           0.2606750763541214
          ]
         },
         {
          "vectorType": "dense",
          "length": 3,
          "values": [
           -136.1261287572183,
           -80.58677202103996,
           216.71290077825836
          ]
         },
         {
          "vectorType": "dense",
          "length": 3,
          "values": [
           5.807062130682153E-154,
           7.662890710608592E-130,
           1.0
          ]
         },
         2.0
        ],
        [
         5.6,
         3.0,
         4.1,
         1.3,
         "Iris-versicolor",
         1.0,
         {
          "vectorType": "dense",
          "length": 4,
          "values": [
           5.6,
           3.0,
           4.1,
           1.3
          ]
         },
         {
          "vectorType": "dense",
          "length": 4,
          "values": [
           6.3649309377898735,
           7.208472884730204,
           2.319472699039962,
           1.694387996301789
          ]
         },
         {
          "vectorType": "dense",
          "length": 3,
          "values": [
           1.4977407713650734,
           13.032577892932729,
           -14.530318664297795
          ]
         },
         {
          "vectorType": "dense",
          "length": 3,
          "values": [
           9.783170888016409E-6,
           0.9999902168280415,
           1.0704881672193657E-12
          ]
         },
         1.0
        ],
        [
         5.7,
         2.6,
         3.5,
         1.0,
         "Iris-versicolor",
         1.0,
         {
          "vectorType": "dense",
          "length": 4,
          "values": [
           5.7,
           2.6,
           3.5,
           1.0
          ]
         },
         {
          "vectorType": "dense",
          "length": 4,
          "values": [
           6.478590418821836,
           6.247343166766178,
           1.9800376699121631,
           1.3033753817706069
          ]
         },
         {
          "vectorType": "dense",
          "length": 3,
          "values": [
           3.216901938289375,
           21.778600235203335,
           -24.995502173492746
          ]
         },
         {
          "vectorType": "dense",
          "length": 3,
          "values": [
           8.684740597294553E-9,
           0.9999999913152594,
           4.8558518055759154E-21
          ]
         },
         1.0
        ],
        [
         5.7,
         3.8,
         1.7,
         0.3,
         "Iris-setosa",
         2.0,
         {
          "vectorType": "dense",
          "length": 4,
          "values": [
           5.7,
           3.8,
           1.7,
           0.3
          ]
         },
         {
          "vectorType": "dense",
          "length": 4,
          "values": [
           6.478590418821836,
           9.13073232065826,
           0.9617325825287649,
           0.391012614531182
          ]
         },
         {
          "vectorType": "dense",
          "length": 3,
          "values": [
           -106.87779040237135,
           -57.040810259940116,
           163.91860066231146
          ]
         },
         {
          "vectorType": "dense",
          "length": 3,
          "values": [
           2.4809707340607856E-118,
           1.0928161684698039E-96,
           1.0
          ]
         },
         2.0
        ],
        [
         5.7,
         4.4,
         1.5,
         0.4,
         "Iris-setosa",
         2.0,
         {
          "vectorType": "dense",
          "length": 4,
          "values": [
           5.7,
           4.4,
           1.5,
           0.4
          ]
         },
         {
          "vectorType": "dense",
          "length": 4,
          "values": [
           6.478590418821836,
           10.5724268976043,
           0.8485875728194985,
           0.5213501527082428
          ]
         },
         {
          "vectorType": "dense",
          "length": 3,
          "values": [
           -136.51375180616026,
           -83.13889695380466,
           219.6526487599649
          ]
         },
         {
          "vectorType": "dense",
          "length": 3,
          "values": [
           2.0839994249427833E-155,
           3.157203165386214E-132,
           1.0
          ]
         },
         2.0
        ],
        [
         5.8,
         2.7,
         5.1,
         1.9,
         "Iris-virginica",
         0.0,
         {
          "vectorType": "dense",
          "length": 4,
          "values": [
           5.8,
           2.7,
           5.1,
           1.9
          ]
         },
         {
          "vectorType": "dense",
          "length": 4,
          "values": [
           6.592249899853798,
           6.4876255962571845,
           2.8851977475862944,
           2.476413225364153
          ]
         },
         {
          "vectorType": "dense",
          "length": 3,
          "values": [
           52.820371719054585,
           46.39172945425841,
           -99.21210117331299
          ]
         },
         {
          "vectorType": "dense",
          "length": 3,
          "values": [
           0.9983879612621571,
           0.0016120387378428783,
           9.385021855106373E-67
          ]
         },
         0.0
        ],
        [
         6.0,
         2.2,
         5.0,
         1.5,
         "Iris-virginica",
         0.0,
         {
          "vectorType": "dense",
          "length": 4,
          "values": [
           6.0,
           2.2,
           5.0,
           1.5
          ]
         },
         {
          "vectorType": "dense",
          "length": 4,
          "values": [
           6.819568861917722,
           5.28621344880215,
           2.8286252427316616,
           1.9550630726559102
          ]
         },
         {
          "vectorType": "dense",
          "length": 3,
          "values": [
           64.5318766246004,
           62.308155412545716,
           -126.84003203714613
          ]
         },
         {
          "vectorType": "dense",
          "length": 3,
          "values": [
           0.9023595510139278,
           0.09764044898607219,
           6.976148172622101E-84
          ]
         },
         0.0
        ],
        [
         6.0,
         2.9,
         4.5,
         1.5,
         "Iris-versicolor",
         1.0,
         {
          "vectorType": "dense",
          "length": 4,
          "values": [
           6.0,
           2.9,
           4.5,
           1.5
          ]
         },
         {
          "vectorType": "dense",
          "length": 4,
          "values": [
           6.819568861917722,
           6.968190455239197,
           2.545762718458495,
           1.9550630726559102
          ]
         },
         {
          "vectorType": "dense",
          "length": 3,
          "values": [
           22.080037204145157,
           27.789177336761117,
           -49.8692145409063
          ]
         },
         {
          "vectorType": "dense",
          "length": 3,
          "values": [
           0.003304565867384444,
           0.9966954341326155,
           1.870472824301893E-34
          ]
         },
         1.0
        ],
        [
         6.1,
         2.6,
         5.6,
         1.4,
         "Iris-virginica",
         0.0,
         {
          "vectorType": "dense",
          "length": 4,
          "values": [
           6.1,
           2.6,
           5.6,
           1.4
          ]
         },
         {
          "vectorType": "dense",
          "length": 4,
          "values": [
           6.933228342949684,
           6.247343166766178,
           3.168060271859461,
           1.8247255344788496
          ]
         },
         {
          "vectorType": "dense",
          "length": 3,
          "values": [
           51.1157013768645,
           48.14961887525074,
           -99.26532025211523
          ]
         },
         {
          "vectorType": "dense",
          "length": 3,
          "values": [
           0.951018111588244,
           0.048981888411756054,
           4.6616633979349213E-66
          ]
         },
         0.0
        ],
        [
         6.1,
         2.8,
         4.0,
         1.3,
         "Iris-versicolor",
         1.0,
         {
          "vectorType": "dense",
          "length": 4,
          "values": [
           6.1,
           2.8,
           4.0,
           1.3
          ]
         },
         {
          "vectorType": "dense",
          "length": 4,
          "values": [
           6.933228342949684,
           6.7279080257481905,
           2.2629001941853293,
           1.694387996301789
          ]
         },
         {
          "vectorType": "dense",
          "length": 3,
          "values": [
           13.653299331344627,
           25.85486187405011,
           -39.5081612053947
          ]
         },
         {
          "vectorType": "dense",
          "length": 3,
          "values": [
           5.022576216830011E-6,
           0.9999949774237832,
           4.1039076073810915E-29
          ]
         },
         1.0
        ],
        [
         6.1,
         2.8,
         4.7,
         1.2,
         "Iris-versicolor",
         1.0,
         {
          "vectorType": "dense",
          "length": 4,
          "values": [
           6.1,
           2.8,
           4.7,
           1.2
          ]
         },
         {
          "vectorType": "dense",
          "length": 4,
          "values": [
           6.933228342949684,
           6.7279080257481905,
           2.658907728167762,
           1.564050458124728
          ]
         },
         {
          "vectorType": "dense",
          "length": 3,
          "values": [
           20.946486199990495,
           29.124182113997364,
           -50.07066831398782
          ]
         },
         {
          "vectorType": "dense",
          "length": 3,
          "values": [
           2.8076944021727837E-4,
           0.9997192305597828,
           4.036375024185615E-35
          ]
         },
         1.0
        ],
        [
         6.1,
         3.0,
         4.9,
         1.8,
         "Iris-virginica",
         0.0,
         {
          "vectorType": "dense",
          "length": 4,
          "values": [
           6.1,
           3.0,
           4.9,
           1.8
          ]
         },
         {
          "vectorType": "dense",
          "length": 4,
          "values": [
           6.933228342949684,
           7.208472884730204,
           2.7720527378770288,
           2.3460756871870925
          ]
         },
         {
          "vectorType": "dense",
          "length": 3,
          "values": [
           33.76836361304057,
           32.7124560420615,
           -66.48081965510205
          ]
         },
         {
          "vectorType": "dense",
          "length": 3,
          "values": [
           0.741907700375655,
           0.25809229962434505,
           2.1512098117444062E-44
          ]
         },
         0.0
        ],
        [
         6.3,
         2.5,
         4.9,
         1.5,
         "Iris-versicolor",
         1.0,
         {
          "vectorType": "dense",
          "length": 4,
          "values": [
           6.3,
           2.5,
           4.9,
           1.5
          ]
         },
         {
          "vectorType": "dense",
          "length": 4,
          "values": [
           7.160547305013608,
           6.007060737275171,
           2.7720527378770288,
           1.9550630726559102
          ]
         },
         {
          "vectorType": "dense",
          "length": 3,
          "values": [
           50.286572699384195,
           51.18263908683683,
           -101.469211786221
          ]
         },
         {
          "vectorType": "dense",
          "length": 3,
          "values": [
           0.28985952624623723,
           0.7101404737537629,
           3.593252852807647E-67
          ]
         },
         1.0
        ],
        [
         6.3,
         2.7,
         4.9,
         1.8,
         "Iris-virginica",
         0.0,
         {
          "vectorType": "dense",
          "length": 4,
          "values": [
           6.3,
           2.7,
           4.9,
           1.8
          ]
         },
         {
          "vectorType": "dense",
          "length": 4,
          "values": [
           7.160547305013608,
           6.4876255962571845,
           2.7720527378770288,
           2.3460756871870925
          ]
         },
         {
          "vectorType": "dense",
          "length": 3,
          "values": [
           50.200823951221174,
           47.837526421241286,
           -98.03835037246246
          ]
         },
         {
          "vectorType": "dense",
          "length": 3,
          "values": [
           0.9139853985598807,
           0.08601460144011928,
           3.8149060499907516E-65
          ]
         },
         0.0
        ],
        [
         6.3,
         2.9,
         5.6,
         1.8,
         "Iris-virginica",
         0.0,
         {
          "vectorType": "dense",
          "length": 4,
          "values": [
           6.3,
           2.9,
           5.6,
           1.8
          ]
         },
         {
          "vectorType": "dense",
          "length": 4,
          "values": [
           7.160547305013608,
           6.968190455239197,
           3.168060271859461,
           2.3460756871870925
          ]
         },
         {
          "vectorType": "dense",
          "length": 3,
          "values": [
           50.819826472469295,
           44.10998915422572,
           -94.92981562669505
          ]
         },
         {
          "vectorType": "dense",
          "length": 3,
          "values": [
           0.9987826214218206,
           0.0012173785781794983,
           5.0258054631256734E-64
          ]
         },
         0.0
        ],
        [
         6.3,
         3.3,
         4.7,
         1.6,
         "Iris-versicolor",
         1.0,
         {
          "vectorType": "dense",
          "length": 4,
          "values": [
           6.3,
           3.3,
           4.7,
           1.6
          ]
         },
         {
          "vectorType": "dense",
          "length": 4,
          "values": [
           7.160547305013608,
           7.929320173203225,
           2.658907728167762,
           2.0854006108329712
          ]
         },
         {
          "vectorType": "dense",
          "length": 3,
          "values": [
           10.682209148580142,
           16.26182246532589,
           -26.94403161390602
          ]
         },
         {
          "vectorType": "dense",
          "length": 3,
          "values": [
           0.0037598348794996815,
           0.9962401651205003,
           1.7151418127156051E-19
          ]
         },
         1.0
        ],
        [
         6.4,
         2.8,
         5.6,
         2.1,
         "Iris-virginica",
         0.0,
         {
          "vectorType": "dense",
          "length": 4,
          "values": [
           6.4,
           2.8,
           5.6,
           2.1
          ]
         },
         {
          "vectorType": "dense",
          "length": 4,
          "values": [
           7.274206786045571,
           6.7279080257481905,
           3.168060271859461,
           2.7370883017182743
          ]
         },
         {
          "vectorType": "dense",
          "length": 3,
          "values": [
           66.42660950365797,
           54.944459123954914,
           -121.37106862761283
          ]
         },
         {
          "vectorType": "dense",
          "length": 3,
          "values": [
           0.9999896875710105,
           1.0312428989588983E-5,
           2.7574026884756624E-82
          ]
         },
         0.0
        ],
        [
         6.4,
         3.2,
         4.5,
         1.5,
         "Iris-versicolor",
         1.0,
         {
          "vectorType": "dense",
          "length": 4,
          "values": [
           6.4,
           3.2,
           4.5,
           1.5
          ]
         },
         {
          "vectorType": "dense",
          "length": 4,
          "values": [
           7.274206786045571,
           7.689037743712219,
           2.545762718458495,
           1.9550630726559102
          ]
         },
         {
          "vectorType": "dense",
          "length": 3,
          "values": [
           10.087148218938324,
           18.337033420711723,
           -28.42418163965
          ]
         },
         {
          "vectorType": "dense",
          "length": 3,
          "values": [
           2.612202971693611E-4,
           0.9997387797028308,
           4.9175509790574725E-21
          ]
         },
         1.0
        ],
        [
         6.6,
         3.0,
         4.4,
         1.4,
         "Iris-versicolor",
         1.0,
         {
          "vectorType": "dense",
          "length": 4,
          "values": [
           6.6,
           3.0,
           4.4,
           1.4
          ]
         },
         {
          "vectorType": "dense",
          "length": 4,
          "values": [
           7.501525748109494,
           7.208472884730204,
           2.4891902136038624,
           1.8247255344788496
          ]
         },
         {
          "vectorType": "dense",
          "length": 3,
          "values": [
           16.728703302813607,
           26.496981749580232,
           -43.22568505239384
          ]
         },
         {
          "vectorType": "dense",
          "length": 3,
          "values": [
           5.723553083753264E-5,
           0.9999427644691624,
           5.245727016949867E-31
          ]
         },
         1.0
        ],
        [
         6.7,
         2.5,
         5.8,
         1.8,
         "Iris-virginica",
         0.0,
         {
          "vectorType": "dense",
          "length": 4,
          "values": [
           6.7,
           2.5,
           5.8,
           1.8
          ]
         },
         {
          "vectorType": "dense",
          "length": 4,
          "values": [
           7.615185229141457,
           6.007060737275171,
           3.2812052815687274,
           2.3460756871870925
          ]
         },
         {
          "vectorType": "dense",
          "length": 3,
          "values": [
           76.74131776417636,
           66.99316931654768,
           -143.73448708072405
          ]
         },
         {
          "vectorType": "dense",
          "length": 3,
          "values": [
           0.9999416007113363,
           5.839928866356699E-5,
           1.7723488159376632E-96
          ]
         },
         0.0
        ],
        [
         6.7,
         3.1,
         4.7,
         1.5,
         "Iris-versicolor",
         1.0,
         {
          "vectorType": "dense",
          "length": 4,
          "values": [
           6.7,
           3.1,
           4.7,
           1.5
          ]
         },
         {
          "vectorType": "dense",
          "length": 4,
          "values": [
           7.615185229141457,
           7.448755314221212,
           2.658907728167762,
           1.9550630726559102
          ]
         },
         {
          "vectorType": "dense",
          "length": 3,
          "values": [
           20.31610773129377,
           27.04063094770895,
           -47.35673867900269
          ]
         },
         {
          "vectorType": "dense",
          "length": 3,
          "values": [
           0.001199652210493247,
           0.9988003477895068,
           4.887779301289736E-33
          ]
         },
         1.0
        ],
        [
         6.7,
         3.1,
         5.6,
         2.4,
         "Iris-virginica",
         0.0,
         {
          "vectorType": "dense",
          "length": 4,
          "values": [
           6.7,
           3.1,
           5.6,
           2.4
          ]
         },
         {
          "vectorType": "dense",
          "length": 4,
          "values": [
           7.615185229141457,
           7.448755314221212,
           3.168060271859461,
           3.128100916249456
          ]
         },
         {
          "vectorType": "dense",
          "length": 3,
          "values": [
           63.576445358474295,
           50.024444726101294,
           -113.60089008457557
          ]
         },
         {
          "vectorType": "dense",
          "length": 3,
          "values": [
           0.9999986985114809,
           1.3014885190628633E-6,
           1.129432637585564E-77
          ]
         },
         0.0
        ],
        [
         6.7,
         3.3,
         5.7,
         2.5,
         "Iris-virginica",
         0.0,
         {
          "vectorType": "dense",
          "length": 4,
          "values": [
           6.7,
           3.3,
           5.7,
           2.5
          ]
         },
         {
          "vectorType": "dense",
          "length": 4,
          "values": [
           7.615185229141457,
           7.929320173203225,
           3.2246327767140945,
           3.2584384544265173
          ]
         },
         {
          "vectorType": "dense",
          "length": 3,
          "values": [
           58.41474739225706,
           43.755471884942914,
           -102.17021927719995
          ]
         },
         {
          "vectorType": "dense",
          "length": 3,
          "values": [
           0.9999995699119739,
           4.300880260770695E-7,
           1.8148256636863953E-70
          ]
         },
         0.0
        ],
        [
         6.8,
         3.2,
         5.9,
         2.3,
         "Iris-virginica",
         0.0,
         {
          "vectorType": "dense",
          "length": 4,
          "values": [
           6.8,
           3.2,
           5.9,
           2.3
          ]
         },
         {
          "vectorType": "dense",
          "length": 4,
          "values": [
           7.728844710173418,
           7.689037743712219,
           3.337777786423361,
           2.9977633780723956
          ]
         },
         {
          "vectorType": "dense",
          "length": 3,
          "values": [
           60.57541418771972,
           46.91634908286276,
           -107.49176327058242
          ]
         },
         {
          "vectorType": "dense",
          "length": 3,
          "values": [
           0.999998830654391,
           1.1693456089646075E-6,
           1.0217666724953026E-73
          ]
         },
         0.0
        ]
       ],
       "plotOptions": {
        "displayType": "table",
        "customPlotOptions": {},
        "pivotColumns": null,
        "pivotAggregation": null,
        "xColumns": null,
        "yColumns": null
       },
       "columnCustomDisplayInfos": {},
       "aggType": "",
       "isJsonSchema": true,
       "removedWidgets": [],
       "aggSchema": [],
       "schema": [
        {
         "name": "Sepal_Length",
         "type": "\"double\"",
         "metadata": "{}"
        },
        {
         "name": "Sepal_Width",
         "type": "\"double\"",
         "metadata": "{}"
        },
        {
         "name": "Petal_Length",
         "type": "\"double\"",
         "metadata": "{}"
        },
        {
         "name": "Petal_Width",
         "type": "\"double\"",
         "metadata": "{}"
        },
        {
         "name": "Flower_Type",
         "type": "\"string\"",
         "metadata": "{}"
        },
        {
         "name": "Flower_Type_Index",
         "type": "\"double\"",
         "metadata": "{\"ml_attr\":{\"vals\":[\"Iris-virginica\",\"Iris-versicolor\",\"Iris-setosa\"],\"type\":\"nominal\",\"name\":\"Flower_Type_Index\"}}"
        },
        {
         "name": "features",
         "type": "{\"type\":\"udt\",\"class\":\"org.apache.spark.ml.linalg.VectorUDT\",\"pyClass\":\"pyspark.ml.linalg.VectorUDT\",\"sqlType\":{\"type\":\"struct\",\"fields\":[{\"name\":\"type\",\"type\":\"byte\",\"nullable\":false,\"metadata\":{}},{\"name\":\"size\",\"type\":\"integer\",\"nullable\":true,\"metadata\":{}},{\"name\":\"indices\",\"type\":{\"type\":\"array\",\"elementType\":\"integer\",\"containsNull\":false},\"nullable\":true,\"metadata\":{}},{\"name\":\"values\",\"type\":{\"type\":\"array\",\"elementType\":\"double\",\"containsNull\":false},\"nullable\":true,\"metadata\":{}}]}}",
         "metadata": "{\"ml_attr\":{\"attrs\":{\"numeric\":[{\"idx\":0,\"name\":\"Sepal_Length\"},{\"idx\":1,\"name\":\"Sepal_Width\"},{\"idx\":2,\"name\":\"Petal_Length\"},{\"idx\":3,\"name\":\"Petal_Width\"}]},\"num_attrs\":4}}"
        },
        {
         "name": "scaledFeatures",
         "type": "{\"type\":\"udt\",\"class\":\"org.apache.spark.ml.linalg.VectorUDT\",\"pyClass\":\"pyspark.ml.linalg.VectorUDT\",\"sqlType\":{\"type\":\"struct\",\"fields\":[{\"name\":\"type\",\"type\":\"byte\",\"nullable\":false,\"metadata\":{}},{\"name\":\"size\",\"type\":\"integer\",\"nullable\":true,\"metadata\":{}},{\"name\":\"indices\",\"type\":{\"type\":\"array\",\"elementType\":\"integer\",\"containsNull\":false},\"nullable\":true,\"metadata\":{}},{\"name\":\"values\",\"type\":{\"type\":\"array\",\"elementType\":\"double\",\"containsNull\":false},\"nullable\":true,\"metadata\":{}}]}}",
         "metadata": "{\"ml_attr\":{\"num_attrs\":4}}"
        },
        {
         "name": "rawPrediction",
         "type": "{\"type\":\"udt\",\"class\":\"org.apache.spark.ml.linalg.VectorUDT\",\"pyClass\":\"pyspark.ml.linalg.VectorUDT\",\"sqlType\":{\"type\":\"struct\",\"fields\":[{\"name\":\"type\",\"type\":\"byte\",\"nullable\":false,\"metadata\":{}},{\"name\":\"size\",\"type\":\"integer\",\"nullable\":true,\"metadata\":{}},{\"name\":\"indices\",\"type\":{\"type\":\"array\",\"elementType\":\"integer\",\"containsNull\":false},\"nullable\":true,\"metadata\":{}},{\"name\":\"values\",\"type\":{\"type\":\"array\",\"elementType\":\"double\",\"containsNull\":false},\"nullable\":true,\"metadata\":{}}]}}",
         "metadata": "{\"ml_attr\":{\"num_attrs\":3}}"
        },
        {
         "name": "probability",
         "type": "{\"type\":\"udt\",\"class\":\"org.apache.spark.ml.linalg.VectorUDT\",\"pyClass\":\"pyspark.ml.linalg.VectorUDT\",\"sqlType\":{\"type\":\"struct\",\"fields\":[{\"name\":\"type\",\"type\":\"byte\",\"nullable\":false,\"metadata\":{}},{\"name\":\"size\",\"type\":\"integer\",\"nullable\":true,\"metadata\":{}},{\"name\":\"indices\",\"type\":{\"type\":\"array\",\"elementType\":\"integer\",\"containsNull\":false},\"nullable\":true,\"metadata\":{}},{\"name\":\"values\",\"type\":{\"type\":\"array\",\"elementType\":\"double\",\"containsNull\":false},\"nullable\":true,\"metadata\":{}}]}}",
         "metadata": "{\"ml_attr\":{\"num_attrs\":3}}"
        },
        {
         "name": "prediction",
         "type": "\"double\"",
         "metadata": "{\"ml_attr\":{\"type\":\"nominal\",\"num_vals\":3}}"
        }
       ],
       "aggError": "",
       "aggData": [],
       "addedWidgets": {},
       "metadata": {},
       "dbfsResultPath": null,
       "type": "table",
       "aggOverflow": false,
       "aggSeriesLimitReached": false,
       "arguments": {}
      }
     },
     "data": {
      "text/html": [
       "<style scoped>\n  .table-result-container {\n    max-height: 300px;\n    overflow: auto;\n  }\n  table, th, td {\n    border: 1px solid black;\n    border-collapse: collapse;\n  }\n  th, td {\n    padding: 5px;\n  }\n  th {\n    text-align: left;\n  }\n</style><div class='table-result-container'><table class='table-result'><thead style='background-color: white'><tr><th>Sepal_Length</th><th>Sepal_Width</th><th>Petal_Length</th><th>Petal_Width</th><th>Flower_Type</th><th>Flower_Type_Index</th><th>features</th><th>scaledFeatures</th><th>rawPrediction</th><th>probability</th><th>prediction</th></tr></thead><tbody><tr><td>4.4</td><td>2.9</td><td>1.4</td><td>0.2</td><td>Iris-setosa</td><td>2.0</td><td>Map(vectorType -> dense, length -> 4, values -> List(4.4, 2.9, 1.4, 0.2))</td><td>Map(vectorType -> dense, length -> 4, values -> List(5.0010171654063305, 6.968190455239197, 0.7920150679648652, 0.2606750763541214))</td><td>Map(vectorType -> dense, length -> 3, values -> List(-79.47072894873867, -33.6393926737438, 113.11012162248248))</td><td>Map(vectorType -> dense, length -> 3, values -> List(2.3078058860519703E-84, 1.851380645087324E-64, 1.0))</td><td>2.0</td></tr><tr><td>4.5</td><td>2.3</td><td>1.3</td><td>0.3</td><td>Iris-setosa</td><td>2.0</td><td>Map(vectorType -> dense, length -> 4, values -> List(4.5, 2.3, 1.3, 0.3))</td><td>Map(vectorType -> dense, length -> 4, values -> List(5.114676646438292, 5.526495878293156, 0.735442563110232, 0.391012614531182))</td><td>Map(vectorType -> dense, length -> 3, values -> List(-47.04386253042741, -5.127727392070199, 52.1715899224976))</td><td>Map(vectorType -> dense, length -> 3, values -> List(8.15223105453467E-44, 1.3038351154249712E-25, 1.0))</td><td>2.0</td></tr><tr><td>4.9</td><td>3.1</td><td>1.5</td><td>0.1</td><td>Iris-setosa</td><td>2.0</td><td>Map(vectorType -> dense, length -> 4, values -> List(4.9, 3.1, 1.5, 0.1))</td><td>Map(vectorType -> dense, length -> 4, values -> List(5.56931457056614, 7.448755314221212, 0.8485875728194985, 0.1303375381770607))</td><td>Map(vectorType -> dense, length -> 3, values -> List(-87.52121972004588, -38.83267163699415, 126.35389135704004))</td><td>Map(vectorType -> dense, length -> 3, values -> List(1.303825416331986E-93, 1.8213239861593713E-72, 1.0))</td><td>2.0</td></tr><tr><td>5.0</td><td>3.0</td><td>1.6</td><td>0.2</td><td>Iris-setosa</td><td>2.0</td><td>Map(vectorType -> dense, length -> 4, values -> List(5.0, 3.0, 1.6, 0.2))</td><td>Map(vectorType -> dense, length -> 4, values -> List(5.6829740515981015, 7.208472884730204, 0.9051600776741318, 0.2606750763541214))</td><td>Map(vectorType -> dense, length -> 3, values -> List(-76.99038590691146, -30.92206184282783, 107.91244774973931))</td><td>Map(vectorType -> dense, length -> 3, values -> List(4.985625519420681E-81, 5.069190195385229E-61, 1.0))</td><td>2.0</td></tr><tr><td>5.0</td><td>3.2</td><td>1.2</td><td>0.2</td><td>Iris-setosa</td><td>2.0</td><td>Map(vectorType -> dense, length -> 4, values -> List(5.0, 3.2, 1.2, 0.2))</td><td>Map(vectorType -> dense, length -> 4, values -> List(5.6829740515981015, 7.689037743712219, 0.6788700582555988, 0.2606750763541214))</td><td>Map(vectorType -> dense, length -> 3, values -> List(-93.00873357864847, -42.656330433691906, 135.66506401234045))</td><td>Map(vectorType -> dense, length -> 3, values -> List(4.877884922615119E-100, 3.597513122710428E-78, 1.0))</td><td>2.0</td></tr><tr><td>5.0</td><td>3.3</td><td>1.4</td><td>0.2</td><td>Iris-setosa</td><td>2.0</td><td>Map(vectorType -> dense, length -> 4, values -> List(5.0, 3.3, 1.4, 0.2))</td><td>Map(vectorType -> dense, length -> 4, values -> List(5.6829740515981015, 7.929320173203225, 0.7920150679648652, 0.2606750763541214))</td><td>Map(vectorType -> dense, length -> 3, values -> List(-94.96796188979508, -45.6119260659063, 140.57988795570145))</td><td>Map(vectorType -> dense, length -> 3, values -> List(5.045086164717633E-103, 1.373797098691763E-81, 1.0))</td><td>2.0</td></tr><tr><td>5.0</td><td>3.4</td><td>1.5</td><td>0.2</td><td>Iris-setosa</td><td>2.0</td><td>Map(vectorType -> dense, length -> 4, values -> List(5.0, 3.4, 1.5, 0.2))</td><td>Map(vectorType -> dense, length -> 4, values -> List(5.6829740515981015, 8.169602602694232, 0.8485875728194985, 0.2606750763541214))</td><td>Map(vectorType -> dense, length -> 3, values -> List(-98.43967658212219, -49.29540636392511, 147.73508294604733))</td><td>Map(vectorType -> dense, length -> 3, values -> List(1.2236588429913587E-107, 2.6961604018502634E-86, 1.0))</td><td>2.0</td></tr><tr><td>5.1</td><td>3.5</td><td>1.4</td><td>0.3</td><td>Iris-setosa</td><td>2.0</td><td>Map(vectorType -> dense, length -> 4, values -> List(5.1, 3.5, 1.4, 0.3))</td><td>Map(vectorType -> dense, length -> 4, values -> List(5.7966335326300635, 8.409885032185239, 0.7920150679648652, 0.391012614531182))</td><td>Map(vectorType -> dense, length -> 3, values -> List(-100.90221767836385, -51.66329582901406, 152.56551350737794))</td><td>Map(vectorType -> dense, length -> 3, values -> List(8.324592923536577E-111, 2.0162995794324653E-89, 1.0))</td><td>2.0</td></tr><tr><td>5.3</td><td>3.7</td><td>1.5</td><td>0.2</td><td>Iris-setosa</td><td>2.0</td><td>Map(vectorType -> dense, length -> 4, values -> List(5.3, 3.7, 1.5, 0.2))</td><td>Map(vectorType -> dense, length -> 4, values -> List(6.0239524946939875, 8.890449891167252, 0.8485875728194985, 0.2606750763541214))</td><td>Map(vectorType -> dense, length -> 3, values -> List(-111.17249412615797, -59.6930380238296, 170.8655321499876))</td><td>Map(vectorType -> dense, length -> 3, values -> List(3.2541794738694936E-123, 7.407731251802606E-101, 1.0))</td><td>2.0</td></tr><tr><td>5.4</td><td>3.4</td><td>1.5</td><td>0.4</td><td>Iris-setosa</td><td>2.0</td><td>Map(vectorType -> dense, length -> 4, values -> List(5.4, 3.4, 1.5, 0.4))</td><td>Map(vectorType -> dense, length -> 4, values -> List(6.13761197572595, 8.169602602694232, 0.8485875728194985, 0.5213501527082428))</td><td>Map(vectorType -> dense, length -> 3, values -> List(-88.8915267475715, -41.861710547137605, 130.7532372947091))</td><td>Map(vectorType -> dense, length -> 3, values -> List(4.069030990143796E-96, 1.0821330425483868E-75, 1.0))</td><td>2.0</td></tr><tr><td>5.5</td><td>2.3</td><td>4.0</td><td>1.3</td><td>Iris-versicolor</td><td>1.0</td><td>Map(vectorType -> dense, length -> 4, values -> List(5.5, 2.3, 4.0, 1.3))</td><td>Map(vectorType -> dense, length -> 4, values -> List(6.251271456757912, 5.526495878293156, 2.2629001941853293, 1.694387996301789))</td><td>Map(vectorType -> dense, length -> 3, values -> List(34.1347333459086, 42.23876023003584, -76.37349357594444))</td><td>Map(vectorType -> dense, length -> 3, values -> List(3.022279095822373E-4, 0.9996977720904177, 3.070587023296591E-52))</td><td>1.0</td></tr><tr><td>5.5</td><td>2.6</td><td>4.4</td><td>1.2</td><td>Iris-versicolor</td><td>1.0</td><td>Map(vectorType -> dense, length -> 4, values -> List(5.5, 2.6, 4.4, 1.2))</td><td>Map(vectorType -> dense, length -> 4, values -> List(6.251271456757912, 6.247343166766178, 2.4891902136038624, 1.564050458124728))</td><td>Map(vectorType -> dense, length -> 3, values -> List(21.937857850490353, 30.090331581100166, -52.028189431590526))</td><td>Map(vectorType -> dense, length -> 3, values -> List(2.879390560587247E-4, 0.9997120609439413, 2.1689742383581484E-36))</td><td>1.0</td></tr><tr><td>5.5</td><td>3.5</td><td>1.3</td><td>0.2</td><td>Iris-setosa</td><td>2.0</td><td>Map(vectorType -> dense, length -> 4, values -> List(5.5, 3.5, 1.3, 0.2))</td><td>Map(vectorType -> dense, length -> 4, values -> List(6.251271456757912, 8.409885032185239, 0.735442563110232, 0.2606750763541214))</td><td>Map(vectorType -> dense, length -> 3, values -> List(-102.74920762384579, -50.43510194008182, 153.18430956392768))</td><td>Map(vectorType -> dense, length -> 3, values -> List(7.071080008375973E-112, 3.7086271676320155E-89, 1.0))</td><td>2.0</td></tr><tr><td>5.5</td><td>4.2</td><td>1.4</td><td>0.2</td><td>Iris-setosa</td><td>2.0</td><td>Map(vectorType -> dense, length -> 4, values -> List(5.5, 4.2, 1.4, 0.2))</td><td>Map(vectorType -> dense, length -> 4, values -> List(6.251271456757912, 10.091862038622287, 0.7920150679648652, 0.2606750763541214))</td><td>Map(vectorType -> dense, length -> 3, values -> List(-136.1261287572183, -80.58677202103996, 216.71290077825836))</td><td>Map(vectorType -> dense, length -> 3, values -> List(5.807062130682153E-154, 7.662890710608592E-130, 1.0))</td><td>2.0</td></tr><tr><td>5.6</td><td>3.0</td><td>4.1</td><td>1.3</td><td>Iris-versicolor</td><td>1.0</td><td>Map(vectorType -> dense, length -> 4, values -> List(5.6, 3.0, 4.1, 1.3))</td><td>Map(vectorType -> dense, length -> 4, values -> List(6.3649309377898735, 7.208472884730204, 2.319472699039962, 1.694387996301789))</td><td>Map(vectorType -> dense, length -> 3, values -> List(1.4977407713650734, 13.032577892932729, -14.530318664297795))</td><td>Map(vectorType -> dense, length -> 3, values -> List(9.783170888016409E-6, 0.9999902168280415, 1.0704881672193657E-12))</td><td>1.0</td></tr><tr><td>5.7</td><td>2.6</td><td>3.5</td><td>1.0</td><td>Iris-versicolor</td><td>1.0</td><td>Map(vectorType -> dense, length -> 4, values -> List(5.7, 2.6, 3.5, 1.0))</td><td>Map(vectorType -> dense, length -> 4, values -> List(6.478590418821836, 6.247343166766178, 1.9800376699121631, 1.3033753817706069))</td><td>Map(vectorType -> dense, length -> 3, values -> List(3.216901938289375, 21.778600235203335, -24.995502173492746))</td><td>Map(vectorType -> dense, length -> 3, values -> List(8.684740597294553E-9, 0.9999999913152594, 4.8558518055759154E-21))</td><td>1.0</td></tr><tr><td>5.7</td><td>3.8</td><td>1.7</td><td>0.3</td><td>Iris-setosa</td><td>2.0</td><td>Map(vectorType -> dense, length -> 4, values -> List(5.7, 3.8, 1.7, 0.3))</td><td>Map(vectorType -> dense, length -> 4, values -> List(6.478590418821836, 9.13073232065826, 0.9617325825287649, 0.391012614531182))</td><td>Map(vectorType -> dense, length -> 3, values -> List(-106.87779040237135, -57.040810259940116, 163.91860066231146))</td><td>Map(vectorType -> dense, length -> 3, values -> List(2.4809707340607856E-118, 1.0928161684698039E-96, 1.0))</td><td>2.0</td></tr><tr><td>5.7</td><td>4.4</td><td>1.5</td><td>0.4</td><td>Iris-setosa</td><td>2.0</td><td>Map(vectorType -> dense, length -> 4, values -> List(5.7, 4.4, 1.5, 0.4))</td><td>Map(vectorType -> dense, length -> 4, values -> List(6.478590418821836, 10.5724268976043, 0.8485875728194985, 0.5213501527082428))</td><td>Map(vectorType -> dense, length -> 3, values -> List(-136.51375180616026, -83.13889695380466, 219.6526487599649))</td><td>Map(vectorType -> dense, length -> 3, values -> List(2.0839994249427833E-155, 3.157203165386214E-132, 1.0))</td><td>2.0</td></tr><tr><td>5.8</td><td>2.7</td><td>5.1</td><td>1.9</td><td>Iris-virginica</td><td>0.0</td><td>Map(vectorType -> dense, length -> 4, values -> List(5.8, 2.7, 5.1, 1.9))</td><td>Map(vectorType -> dense, length -> 4, values -> List(6.592249899853798, 6.4876255962571845, 2.8851977475862944, 2.476413225364153))</td><td>Map(vectorType -> dense, length -> 3, values -> List(52.820371719054585, 46.39172945425841, -99.21210117331299))</td><td>Map(vectorType -> dense, length -> 3, values -> List(0.9983879612621571, 0.0016120387378428783, 9.385021855106373E-67))</td><td>0.0</td></tr><tr><td>6.0</td><td>2.2</td><td>5.0</td><td>1.5</td><td>Iris-virginica</td><td>0.0</td><td>Map(vectorType -> dense, length -> 4, values -> List(6.0, 2.2, 5.0, 1.5))</td><td>Map(vectorType -> dense, length -> 4, values -> List(6.819568861917722, 5.28621344880215, 2.8286252427316616, 1.9550630726559102))</td><td>Map(vectorType -> dense, length -> 3, values -> List(64.5318766246004, 62.308155412545716, -126.84003203714613))</td><td>Map(vectorType -> dense, length -> 3, values -> List(0.9023595510139278, 0.09764044898607219, 6.976148172622101E-84))</td><td>0.0</td></tr><tr><td>6.0</td><td>2.9</td><td>4.5</td><td>1.5</td><td>Iris-versicolor</td><td>1.0</td><td>Map(vectorType -> dense, length -> 4, values -> List(6.0, 2.9, 4.5, 1.5))</td><td>Map(vectorType -> dense, length -> 4, values -> List(6.819568861917722, 6.968190455239197, 2.545762718458495, 1.9550630726559102))</td><td>Map(vectorType -> dense, length -> 3, values -> List(22.080037204145157, 27.789177336761117, -49.8692145409063))</td><td>Map(vectorType -> dense, length -> 3, values -> List(0.003304565867384444, 0.9966954341326155, 1.870472824301893E-34))</td><td>1.0</td></tr><tr><td>6.1</td><td>2.6</td><td>5.6</td><td>1.4</td><td>Iris-virginica</td><td>0.0</td><td>Map(vectorType -> dense, length -> 4, values -> List(6.1, 2.6, 5.6, 1.4))</td><td>Map(vectorType -> dense, length -> 4, values -> List(6.933228342949684, 6.247343166766178, 3.168060271859461, 1.8247255344788496))</td><td>Map(vectorType -> dense, length -> 3, values -> List(51.1157013768645, 48.14961887525074, -99.26532025211523))</td><td>Map(vectorType -> dense, length -> 3, values -> List(0.951018111588244, 0.048981888411756054, 4.6616633979349213E-66))</td><td>0.0</td></tr><tr><td>6.1</td><td>2.8</td><td>4.0</td><td>1.3</td><td>Iris-versicolor</td><td>1.0</td><td>Map(vectorType -> dense, length -> 4, values -> List(6.1, 2.8, 4.0, 1.3))</td><td>Map(vectorType -> dense, length -> 4, values -> List(6.933228342949684, 6.7279080257481905, 2.2629001941853293, 1.694387996301789))</td><td>Map(vectorType -> dense, length -> 3, values -> List(13.653299331344627, 25.85486187405011, -39.5081612053947))</td><td>Map(vectorType -> dense, length -> 3, values -> List(5.022576216830011E-6, 0.9999949774237832, 4.1039076073810915E-29))</td><td>1.0</td></tr><tr><td>6.1</td><td>2.8</td><td>4.7</td><td>1.2</td><td>Iris-versicolor</td><td>1.0</td><td>Map(vectorType -> dense, length -> 4, values -> List(6.1, 2.8, 4.7, 1.2))</td><td>Map(vectorType -> dense, length -> 4, values -> List(6.933228342949684, 6.7279080257481905, 2.658907728167762, 1.564050458124728))</td><td>Map(vectorType -> dense, length -> 3, values -> List(20.946486199990495, 29.124182113997364, -50.07066831398782))</td><td>Map(vectorType -> dense, length -> 3, values -> List(2.8076944021727837E-4, 0.9997192305597828, 4.036375024185615E-35))</td><td>1.0</td></tr><tr><td>6.1</td><td>3.0</td><td>4.9</td><td>1.8</td><td>Iris-virginica</td><td>0.0</td><td>Map(vectorType -> dense, length -> 4, values -> List(6.1, 3.0, 4.9, 1.8))</td><td>Map(vectorType -> dense, length -> 4, values -> List(6.933228342949684, 7.208472884730204, 2.7720527378770288, 2.3460756871870925))</td><td>Map(vectorType -> dense, length -> 3, values -> List(33.76836361304057, 32.7124560420615, -66.48081965510205))</td><td>Map(vectorType -> dense, length -> 3, values -> List(0.741907700375655, 0.25809229962434505, 2.1512098117444062E-44))</td><td>0.0</td></tr><tr><td>6.3</td><td>2.5</td><td>4.9</td><td>1.5</td><td>Iris-versicolor</td><td>1.0</td><td>Map(vectorType -> dense, length -> 4, values -> List(6.3, 2.5, 4.9, 1.5))</td><td>Map(vectorType -> dense, length -> 4, values -> List(7.160547305013608, 6.007060737275171, 2.7720527378770288, 1.9550630726559102))</td><td>Map(vectorType -> dense, length -> 3, values -> List(50.286572699384195, 51.18263908683683, -101.469211786221))</td><td>Map(vectorType -> dense, length -> 3, values -> List(0.28985952624623723, 0.7101404737537629, 3.593252852807647E-67))</td><td>1.0</td></tr><tr><td>6.3</td><td>2.7</td><td>4.9</td><td>1.8</td><td>Iris-virginica</td><td>0.0</td><td>Map(vectorType -> dense, length -> 4, values -> List(6.3, 2.7, 4.9, 1.8))</td><td>Map(vectorType -> dense, length -> 4, values -> List(7.160547305013608, 6.4876255962571845, 2.7720527378770288, 2.3460756871870925))</td><td>Map(vectorType -> dense, length -> 3, values -> List(50.200823951221174, 47.837526421241286, -98.03835037246246))</td><td>Map(vectorType -> dense, length -> 3, values -> List(0.9139853985598807, 0.08601460144011928, 3.8149060499907516E-65))</td><td>0.0</td></tr><tr><td>6.3</td><td>2.9</td><td>5.6</td><td>1.8</td><td>Iris-virginica</td><td>0.0</td><td>Map(vectorType -> dense, length -> 4, values -> List(6.3, 2.9, 5.6, 1.8))</td><td>Map(vectorType -> dense, length -> 4, values -> List(7.160547305013608, 6.968190455239197, 3.168060271859461, 2.3460756871870925))</td><td>Map(vectorType -> dense, length -> 3, values -> List(50.819826472469295, 44.10998915422572, -94.92981562669505))</td><td>Map(vectorType -> dense, length -> 3, values -> List(0.9987826214218206, 0.0012173785781794983, 5.0258054631256734E-64))</td><td>0.0</td></tr><tr><td>6.3</td><td>3.3</td><td>4.7</td><td>1.6</td><td>Iris-versicolor</td><td>1.0</td><td>Map(vectorType -> dense, length -> 4, values -> List(6.3, 3.3, 4.7, 1.6))</td><td>Map(vectorType -> dense, length -> 4, values -> List(7.160547305013608, 7.929320173203225, 2.658907728167762, 2.0854006108329712))</td><td>Map(vectorType -> dense, length -> 3, values -> List(10.682209148580142, 16.26182246532589, -26.94403161390602))</td><td>Map(vectorType -> dense, length -> 3, values -> List(0.0037598348794996815, 0.9962401651205003, 1.7151418127156051E-19))</td><td>1.0</td></tr><tr><td>6.4</td><td>2.8</td><td>5.6</td><td>2.1</td><td>Iris-virginica</td><td>0.0</td><td>Map(vectorType -> dense, length -> 4, values -> List(6.4, 2.8, 5.6, 2.1))</td><td>Map(vectorType -> dense, length -> 4, values -> List(7.274206786045571, 6.7279080257481905, 3.168060271859461, 2.7370883017182743))</td><td>Map(vectorType -> dense, length -> 3, values -> List(66.42660950365797, 54.944459123954914, -121.37106862761283))</td><td>Map(vectorType -> dense, length -> 3, values -> List(0.9999896875710105, 1.0312428989588983E-5, 2.7574026884756624E-82))</td><td>0.0</td></tr><tr><td>6.4</td><td>3.2</td><td>4.5</td><td>1.5</td><td>Iris-versicolor</td><td>1.0</td><td>Map(vectorType -> dense, length -> 4, values -> List(6.4, 3.2, 4.5, 1.5))</td><td>Map(vectorType -> dense, length -> 4, values -> List(7.274206786045571, 7.689037743712219, 2.545762718458495, 1.9550630726559102))</td><td>Map(vectorType -> dense, length -> 3, values -> List(10.087148218938324, 18.337033420711723, -28.42418163965))</td><td>Map(vectorType -> dense, length -> 3, values -> List(2.612202971693611E-4, 0.9997387797028308, 4.9175509790574725E-21))</td><td>1.0</td></tr><tr><td>6.6</td><td>3.0</td><td>4.4</td><td>1.4</td><td>Iris-versicolor</td><td>1.0</td><td>Map(vectorType -> dense, length -> 4, values -> List(6.6, 3.0, 4.4, 1.4))</td><td>Map(vectorType -> dense, length -> 4, values -> List(7.501525748109494, 7.208472884730204, 2.4891902136038624, 1.8247255344788496))</td><td>Map(vectorType -> dense, length -> 3, values -> List(16.728703302813607, 26.496981749580232, -43.22568505239384))</td><td>Map(vectorType -> dense, length -> 3, values -> List(5.723553083753264E-5, 0.9999427644691624, 5.245727016949867E-31))</td><td>1.0</td></tr><tr><td>6.7</td><td>2.5</td><td>5.8</td><td>1.8</td><td>Iris-virginica</td><td>0.0</td><td>Map(vectorType -> dense, length -> 4, values -> List(6.7, 2.5, 5.8, 1.8))</td><td>Map(vectorType -> dense, length -> 4, values -> List(7.615185229141457, 6.007060737275171, 3.2812052815687274, 2.3460756871870925))</td><td>Map(vectorType -> dense, length -> 3, values -> List(76.74131776417636, 66.99316931654768, -143.73448708072405))</td><td>Map(vectorType -> dense, length -> 3, values -> List(0.9999416007113363, 5.839928866356699E-5, 1.7723488159376632E-96))</td><td>0.0</td></tr><tr><td>6.7</td><td>3.1</td><td>4.7</td><td>1.5</td><td>Iris-versicolor</td><td>1.0</td><td>Map(vectorType -> dense, length -> 4, values -> List(6.7, 3.1, 4.7, 1.5))</td><td>Map(vectorType -> dense, length -> 4, values -> List(7.615185229141457, 7.448755314221212, 2.658907728167762, 1.9550630726559102))</td><td>Map(vectorType -> dense, length -> 3, values -> List(20.31610773129377, 27.04063094770895, -47.35673867900269))</td><td>Map(vectorType -> dense, length -> 3, values -> List(0.001199652210493247, 0.9988003477895068, 4.887779301289736E-33))</td><td>1.0</td></tr><tr><td>6.7</td><td>3.1</td><td>5.6</td><td>2.4</td><td>Iris-virginica</td><td>0.0</td><td>Map(vectorType -> dense, length -> 4, values -> List(6.7, 3.1, 5.6, 2.4))</td><td>Map(vectorType -> dense, length -> 4, values -> List(7.615185229141457, 7.448755314221212, 3.168060271859461, 3.128100916249456))</td><td>Map(vectorType -> dense, length -> 3, values -> List(63.576445358474295, 50.024444726101294, -113.60089008457557))</td><td>Map(vectorType -> dense, length -> 3, values -> List(0.9999986985114809, 1.3014885190628633E-6, 1.129432637585564E-77))</td><td>0.0</td></tr><tr><td>6.7</td><td>3.3</td><td>5.7</td><td>2.5</td><td>Iris-virginica</td><td>0.0</td><td>Map(vectorType -> dense, length -> 4, values -> List(6.7, 3.3, 5.7, 2.5))</td><td>Map(vectorType -> dense, length -> 4, values -> List(7.615185229141457, 7.929320173203225, 3.2246327767140945, 3.2584384544265173))</td><td>Map(vectorType -> dense, length -> 3, values -> List(58.41474739225706, 43.755471884942914, -102.17021927719995))</td><td>Map(vectorType -> dense, length -> 3, values -> List(0.9999995699119739, 4.300880260770695E-7, 1.8148256636863953E-70))</td><td>0.0</td></tr><tr><td>6.8</td><td>3.2</td><td>5.9</td><td>2.3</td><td>Iris-virginica</td><td>0.0</td><td>Map(vectorType -> dense, length -> 4, values -> List(6.8, 3.2, 5.9, 2.3))</td><td>Map(vectorType -> dense, length -> 4, values -> List(7.728844710173418, 7.689037743712219, 3.337777786423361, 2.9977633780723956))</td><td>Map(vectorType -> dense, length -> 3, values -> List(60.57541418771972, 46.91634908286276, -107.49176327058242))</td><td>Map(vectorType -> dense, length -> 3, values -> List(0.999998830654391, 1.1693456089646075E-6, 1.0217666724953026E-73))</td><td>0.0</td></tr></tbody></table></div>"
      ]
     }
    },
    {
     "output_type": "stream",
     "name": "stdout",
     "text": [
      "Confusion matrix: \nDenseMatrix([[11.,  0.,  0.],\n             [ 0., 12.,  0.],\n             [ 0.,  0., 14.]])\nAccuracy:  1.0\nPrecision: 1.0\nRecall:    1.0\n"
     ]
    }
   ],
   "execution_count": 0
  },
  {
   "cell_type": "code",
   "source": [
    "%sql\n",
    "SELECT * FROM truck_table_victor\n"
   ],
   "metadata": {
    "application/vnd.databricks.v1+cell": {
     "showTitle": false,
     "cellMetadata": {
      "implicitDf": true
     },
     "nuid": "e668e2ba-fa25-432b-9f83-ef4d6fa4b5af",
     "inputWidgets": {},
     "title": ""
    }
   },
   "outputs": [
    {
     "output_type": "display_data",
     "metadata": {
      "application/vnd.databricks.v1+output": {
       "overflow": false,
       "datasetInfos": [],
       "data": [
        [
         12.39999962,
         11.19999981
        ],
        [
         14.30000019,
         12.5
        ],
        [
         14.5,
         12.69999981
        ],
        [
         14.89999962,
         13.10000038
        ],
        [
         16.10000038,
         14.10000038
        ],
        [
         16.89999962,
         14.80000019
        ],
        [
         16.5,
         14.39999962
        ],
        [
         15.39999962,
         13.39999962
        ],
        [
         17.0,
         14.89999962
        ],
        [
         17.89999962,
         15.60000038
        ],
        [
         18.79999924,
         16.39999962
        ],
        [
         20.29999924,
         17.70000076
        ],
        [
         22.39999962,
         19.60000038
        ],
        [
         19.39999962,
         16.89999962
        ],
        [
         15.5,
         14.0
        ],
        [
         16.70000076,
         14.60000038
        ],
        [
         17.29999924,
         15.10000038
        ],
        [
         18.39999962,
         16.10000038
        ],
        [
         19.20000076,
         16.79999924
        ],
        [
         17.39999962,
         15.19999981
        ],
        [
         19.5,
         17.0
        ],
        [
         19.70000076,
         17.20000076
        ],
        [
         21.20000076,
         18.60000038
        ]
       ],
       "plotOptions": {
        "displayType": "table",
        "customPlotOptions": {},
        "pivotColumns": null,
        "pivotAggregation": null,
        "xColumns": null,
        "yColumns": null
       },
       "columnCustomDisplayInfos": {},
       "aggType": "",
       "isJsonSchema": true,
       "removedWidgets": [],
       "aggSchema": [],
       "schema": [
        {
         "name": "List price",
         "type": "\"double\"",
         "metadata": "{}"
        },
        {
         "name": "Best Price",
         "type": "\"double\"",
         "metadata": "{}"
        }
       ],
       "aggError": "",
       "aggData": [],
       "addedWidgets": {},
       "metadata": {},
       "dbfsResultPath": null,
       "type": "table",
       "aggOverflow": false,
       "aggSeriesLimitReached": false,
       "arguments": {}
      }
     },
     "data": {
      "text/html": [
       "<style scoped>\n  .table-result-container {\n    max-height: 300px;\n    overflow: auto;\n  }\n  table, th, td {\n    border: 1px solid black;\n    border-collapse: collapse;\n  }\n  th, td {\n    padding: 5px;\n  }\n  th {\n    text-align: left;\n  }\n</style><div class='table-result-container'><table class='table-result'><thead style='background-color: white'><tr><th>List price</th><th>Best Price</th></tr></thead><tbody><tr><td>12.39999962</td><td>11.19999981</td></tr><tr><td>14.30000019</td><td>12.5</td></tr><tr><td>14.5</td><td>12.69999981</td></tr><tr><td>14.89999962</td><td>13.10000038</td></tr><tr><td>16.10000038</td><td>14.10000038</td></tr><tr><td>16.89999962</td><td>14.80000019</td></tr><tr><td>16.5</td><td>14.39999962</td></tr><tr><td>15.39999962</td><td>13.39999962</td></tr><tr><td>17.0</td><td>14.89999962</td></tr><tr><td>17.89999962</td><td>15.60000038</td></tr><tr><td>18.79999924</td><td>16.39999962</td></tr><tr><td>20.29999924</td><td>17.70000076</td></tr><tr><td>22.39999962</td><td>19.60000038</td></tr><tr><td>19.39999962</td><td>16.89999962</td></tr><tr><td>15.5</td><td>14.0</td></tr><tr><td>16.70000076</td><td>14.60000038</td></tr><tr><td>17.29999924</td><td>15.10000038</td></tr><tr><td>18.39999962</td><td>16.10000038</td></tr><tr><td>19.20000076</td><td>16.79999924</td></tr><tr><td>17.39999962</td><td>15.19999981</td></tr><tr><td>19.5</td><td>17.0</td></tr><tr><td>19.70000076</td><td>17.20000076</td></tr><tr><td>21.20000076</td><td>18.60000038</td></tr></tbody></table></div>"
      ]
     }
    }
   ],
   "execution_count": 0
  },
  {
   "cell_type": "code",
   "source": [
    "%sql\n",
    "--DROP TABLE Book;\n",
    "\n",
    "CREATE TABLE Book (\n",
    "   book   int,\n",
    "   title VARCHAR(35)\n",
    ");\n",
    "INSERT INTO Book VALUES(1,'Harry Potter');\n",
    "SELECT * FROM Book; \n"
   ],
   "metadata": {
    "application/vnd.databricks.v1+cell": {
     "showTitle": false,
     "cellMetadata": {
      "implicitDf": true
     },
     "nuid": "ad2fa71f-3593-461e-bef4-466dade2634a",
     "inputWidgets": {},
     "title": ""
    }
   },
   "outputs": [
    {
     "output_type": "display_data",
     "metadata": {
      "application/vnd.databricks.v1+output": {
       "overflow": false,
       "datasetInfos": [],
       "data": [
        [
         1,
         "Harry Potter"
        ]
       ],
       "plotOptions": {
        "displayType": "table",
        "customPlotOptions": {},
        "pivotColumns": null,
        "pivotAggregation": null,
        "xColumns": null,
        "yColumns": null
       },
       "columnCustomDisplayInfos": {},
       "aggType": "",
       "isJsonSchema": true,
       "removedWidgets": [],
       "aggSchema": [],
       "schema": [
        {
         "name": "book",
         "type": "\"integer\"",
         "metadata": "{}"
        },
        {
         "name": "title",
         "type": "\"string\"",
         "metadata": "{\"__CHAR_VARCHAR_TYPE_STRING\":\"varchar(35)\"}"
        }
       ],
       "aggError": "",
       "aggData": [],
       "addedWidgets": {},
       "metadata": {},
       "dbfsResultPath": null,
       "type": "table",
       "aggOverflow": false,
       "aggSeriesLimitReached": false,
       "arguments": {}
      }
     },
     "data": {
      "text/html": [
       "<style scoped>\n  .table-result-container {\n    max-height: 300px;\n    overflow: auto;\n  }\n  table, th, td {\n    border: 1px solid black;\n    border-collapse: collapse;\n  }\n  th, td {\n    padding: 5px;\n  }\n  th {\n    text-align: left;\n  }\n</style><div class='table-result-container'><table class='table-result'><thead style='background-color: white'><tr><th>book</th><th>title</th></tr></thead><tbody><tr><td>1</td><td>Harry Potter</td></tr></tbody></table></div>"
      ]
     }
    }
   ],
   "execution_count": 0
  },
  {
   "cell_type": "code",
   "source": [
    "%python\n",
    "# CELL A\n",
    "# Load wine quality dataset into Spark dataframe. \n",
    "wineSparkDf = spark.read.csv(\"/FileStore/tables/winequality.csv\", \n",
    "                             header=\"true\", inferSchema=\"true\")\n",
    "print(\"Original dataframe length: \" + str(wineSparkDf.count()))\n",
    "\n",
    "# Get packages for performing LinearRegression without the ML pipeline\n",
    "import pandas as pd\n",
    "from sklearn.model_selection import train_test_split\n",
    "from sklearn.linear_model    import LinearRegression\n",
    "from sklearn                 import metrics\n",
    "import statsmodels.api       as sm\n",
    "import numpy                 as np\n",
    "\n",
    "# Show all columns.\n",
    "pd.set_option('display.max_columns', None)\n",
    "\n",
    "# Increase number of columns that display on one line.\n",
    "pd.set_option('display.width', 1000)\n",
    "\n",
    "# Convert PySpark dataframe to Pandas df\n",
    "pandasDf = wineSparkDf.toPandas()\n",
    "\n",
    "print(pandasDf.head(3))\n",
    "\n",
    "X = pandasDf[['volatile acidity', 'chlorides', 'sulphates', 'alcohol']]\n",
    "\n",
    "# Adding an intercept *** This is requried ***. Don't forget this step.\n",
    "# The intercept centers the error residuals around zero \n",
    "# which helps to avoid over-fitting.\n",
    "X = sm.add_constant(X)\n",
    "\n",
    "y = pandasDf['quality']\n",
    "\n",
    "X_train, X_test, y_train, y_test = train_test_split(X, y, test_size=0.2)\n",
    "\n",
    "model = sm.OLS(y_train, X_train).fit()\n",
    "predictions = model.predict(X_test) # make the predictions by the model\n",
    "\n",
    "print(model.summary())\n",
    "\n",
    "print('Root Mean Squared Error:', np.sqrt(metrics.mean_squared_error(y_test, predictions)))\n",
    "\n"
   ],
   "metadata": {
    "application/vnd.databricks.v1+cell": {
     "showTitle": false,
     "cellMetadata": {},
     "nuid": "275f9a0d-0708-4a28-af0f-00cd3fef5f71",
     "inputWidgets": {},
     "title": ""
    }
   },
   "outputs": [
    {
     "output_type": "stream",
     "name": "stdout",
     "text": [
      "Original dataframe length: 1599\n"
     ]
    },
    {
     "output_type": "display_data",
     "metadata": {
      "application/vnd.databricks.v1+output": {
       "datasetInfos": [],
       "data": {
        "text/plain": "",
        "application/vnd.databricks.v1+bamboolib_hint": "{\"pd.DataFrames\": [], \"version\": \"0.0.1\"}"
       },
       "removedWidgets": [],
       "addedWidgets": {},
       "executionCount": null,
       "metadata": {
        "kernelSessionId": "babaaa79-bf2a59114800eef48e17060d"
       },
       "type": "mimeBundle",
       "arguments": {}
      }
     },
     "data": {
      "text/plain": "",
      "application/vnd.databricks.v1+bamboolib_hint": "{\"pd.DataFrames\": [], \"version\": \"0.0.1\"}"
     }
    },
    {
     "output_type": "stream",
     "name": "stdout",
     "text": [
      "   fixed acidity  volatile acidity  citric acid  residual sugar  chlorides  free sulfur dioxide  total sulfur dioxide  density    pH  sulphates  alcohol  quality\n0            7.4              0.70         0.00             1.9      0.076                 11.0                  34.0   0.9978  3.51       0.56      9.4        5\n1            7.8              0.88         0.00             2.6      0.098                 25.0                  67.0   0.9968  3.20       0.68      9.8        5\n2            7.8              0.76         0.04             2.3      0.092                 15.0                  54.0   0.9970  3.26       0.65      9.8        5\n                            OLS Regression Results                            \n==============================================================================\nDep. Variable:                quality   R-squared:                       0.340\nModel:                            OLS   Adj. R-squared:                  0.338\nMethod:                 Least Squares   F-statistic:                     164.2\nDate:                Mon, 27 Mar 2023   Prob (F-statistic):          2.04e-113\nTime:                        01:18:28   Log-Likelihood:                -1276.5\nNo. Observations:                1279   AIC:                             2563.\nDf Residuals:                    1274   BIC:                             2589.\nDf Model:                           4                                         \nCovariance Type:            nonrobust                                         \n====================================================================================\n                       coef    std err          t      P>|t|      [0.025      0.975]\n------------------------------------------------------------------------------------\nconst                2.7138      0.223     12.173      0.000       2.276       3.151\nvolatile acidity    -1.1590      0.110    -10.551      0.000      -1.374      -0.943\nchlorides           -1.6083      0.448     -3.591      0.000      -2.487      -0.730\nsulphates            0.8374      0.123      6.831      0.000       0.597       1.078\nalcohol              0.2990      0.018     16.326      0.000       0.263       0.335\n==============================================================================\nOmnibus:                       13.228   Durbin-Watson:                   1.989\nProb(Omnibus):                  0.001   Jarque-Bera (JB):               18.757\nSkew:                          -0.091   Prob(JB):                     8.45e-05\nKurtosis:                       3.564   Cond. No.                         261.\n==============================================================================\n\nNotes:\n[1] Standard Errors assume that the covariance matrix of the errors is correctly specified.\nRoot Mean Squared Error: 0.6462324032111948\n/databricks/python/lib/python3.9/site-packages/statsmodels/tsa/tsatools.py:142: FutureWarning: In a future version of pandas all arguments of concat except for the argument 'objs' will be keyword-only\n  x = pd.concat(x[::order], 1)\n"
     ]
    }
   ],
   "execution_count": 0
  },
  {
   "cell_type": "code",
   "source": [],
   "metadata": {
    "application/vnd.databricks.v1+cell": {
     "showTitle": false,
     "cellMetadata": {},
     "nuid": "f8d69699-3e37-41c4-98eb-aab23e6eb7fc",
     "inputWidgets": {},
     "title": ""
    }
   },
   "outputs": [],
   "execution_count": 0
  }
 ],
 "metadata": {
  "application/vnd.databricks.v1+notebook": {
   "notebookName": "BD Lab 10",
   "dashboards": [],
   "notebookMetadata": {
    "pythonIndentUnit": 4,
    "mostRecentlyExecutedCommandWithImplicitDF": {
     "commandId": 4310375998389454,
     "dataframes": [
      "_sqldf"
     ]
    }
   },
   "language": "python",
   "widgets": {},
   "notebookOrigID": 1305853729881187
  }
 },
 "nbformat": 4,
 "nbformat_minor": 0
}
